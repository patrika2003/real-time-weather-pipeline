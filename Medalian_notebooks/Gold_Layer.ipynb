{
 "cells": [
  {
   "cell_type": "code",
   "execution_count": 0,
   "metadata": {
    "application/vnd.databricks.v1+cell": {
     "cellMetadata": {
      "byteLimit": 2048000,
      "rowLimit": 10000
     },
     "inputWidgets": {},
     "nuid": "92b7876e-8d38-4c67-8c89-116f679745ff",
     "showTitle": false,
     "tableResultSettingsMap": {},
     "title": ""
    }
   },
   "outputs": [],
   "source": [
    "from pyspark.sql.functions import (\n",
    "    col, avg, min, max, count, to_date, hour, desc\n",
    ")"
   ]
  },
  {
   "cell_type": "code",
   "execution_count": 0,
   "metadata": {
    "application/vnd.databricks.v1+cell": {
     "cellMetadata": {
      "byteLimit": 2048000,
      "rowLimit": 10000
     },
     "inputWidgets": {},
     "nuid": "29b219da-e335-4397-b8eb-e087843a035c",
     "showTitle": false,
     "tableResultSettingsMap": {},
     "title": ""
    }
   },
   "outputs": [],
   "source": [
    "silver_table = \"weather_catalog.processed.valid_readings\"\n",
    "df_silver = spark.table(silver_table)"
   ]
  },
  {
   "cell_type": "code",
   "execution_count": 0,
   "metadata": {
    "application/vnd.databricks.v1+cell": {
     "cellMetadata": {
      "byteLimit": 2048000,
      "rowLimit": 10000
     },
     "inputWidgets": {},
     "nuid": "321e51ae-ab22-40dd-af54-55e8b617e9ce",
     "showTitle": false,
     "tableResultSettingsMap": {},
     "title": ""
    }
   },
   "outputs": [],
   "source": [
    "df_daily = (\n",
    "    df_silver.withColumn(\"date\", to_date(\"date_time\"))\n",
    "    .groupBy(\"City\", \"date\")\n",
    "    .agg(\n",
    "        avg(\"tempC\").alias(\"avg_tempC\"),\n",
    "        min(\"tempC\").alias(\"min_tempC\"),\n",
    "        max(\"tempC\").alias(\"max_tempC\"),\n",
    "        avg(\"humidity\").alias(\"avg_humidity\"),\n",
    "        avg(\"windspeedKmph\").alias(\"avg_windspeed\"),\n",
    "        count(\"*\").alias(\"records_count\")\n",
    "    )\n",
    ")"
   ]
  },
  {
   "cell_type": "code",
   "execution_count": 0,
   "metadata": {
    "application/vnd.databricks.v1+cell": {
     "cellMetadata": {
      "byteLimit": 2048000,
      "rowLimit": 10000
     },
     "inputWidgets": {},
     "nuid": "ea1d399e-8699-47f3-8350-ea0bf6bc2eca",
     "showTitle": false,
     "tableResultSettingsMap": {},
     "title": ""
    }
   },
   "outputs": [],
   "source": [
    "df_city_stats = (\n",
    "    df_silver.withColumn(\"date\", to_date(\"date_time\"))\n",
    "    .groupBy(\"City\", \"date\")\n",
    "    .agg(\n",
    "        avg(\"tempC\").alias(\"avg_tempC\"),\n",
    "        max(\"tempC\").alias(\"max_tempC\"),\n",
    "        min(\"tempC\").alias(\"min_tempC\")\n",
    "    )\n",
    ")"
   ]
  },
  {
   "cell_type": "code",
   "execution_count": 0,
   "metadata": {
    "application/vnd.databricks.v1+cell": {
     "cellMetadata": {
      "byteLimit": 2048000,
      "rowLimit": 10000
     },
     "inputWidgets": {},
     "nuid": "dc5ba874-aa6b-4412-b5fb-7ee81012dd86",
     "showTitle": false,
     "tableResultSettingsMap": {},
     "title": ""
    }
   },
   "outputs": [],
   "source": [
    "# Hottest city per day\n",
    "df_hottest = df_city_stats.orderBy(desc(\"max_tempC\")).limit(1)\n",
    "\n",
    "# Coolest city per day\n",
    "df_coolest = df_city_stats.orderBy(\"min_tempC\").limit(1)"
   ]
  },
  {
   "cell_type": "code",
   "execution_count": 0,
   "metadata": {
    "application/vnd.databricks.v1+cell": {
     "cellMetadata": {
      "byteLimit": 2048000,
      "rowLimit": 10000
     },
     "inputWidgets": {},
     "nuid": "cef8d84d-bb34-4ecb-b826-089d04ed235b",
     "showTitle": false,
     "tableResultSettingsMap": {},
     "title": ""
    }
   },
   "outputs": [],
   "source": [
    "gold_daily_table = \"weather_catalog.analytics.weather_daily_stats\"\n",
    "gold_city_table = \"weather_catalog.analytics.city_extremes\"\n"
   ]
  },
  {
   "cell_type": "code",
   "execution_count": 0,
   "metadata": {
    "application/vnd.databricks.v1+cell": {
     "cellMetadata": {
      "byteLimit": 2048000,
      "rowLimit": 10000
     },
     "inputWidgets": {},
     "nuid": "cd363d65-19d7-4be3-b2fa-cb032ae01611",
     "showTitle": false,
     "tableResultSettingsMap": {},
     "title": ""
    }
   },
   "outputs": [],
   "source": [
    "# Daily Aggregations → Gold\n",
    "df_daily.write.format(\"delta\") \\\n",
    "    .mode(\"overwrite\") \\\n",
    "    .option(\"mergeSchema\", \"true\") \\\n",
    "    .saveAsTable(gold_daily_table)"
   ]
  },
  {
   "cell_type": "code",
   "execution_count": 0,
   "metadata": {
    "application/vnd.databricks.v1+cell": {
     "cellMetadata": {},
     "inputWidgets": {},
     "nuid": "db61229a-02f6-41ce-9d70-6814cc1cccad",
     "showTitle": false,
     "tableResultSettingsMap": {},
     "title": ""
    }
   },
   "outputs": [],
   "source": [
    "df_city_stats.write.format(\"delta\") \\\n",
    "    .mode(\"overwrite\") \\\n",
    "    .option(\"mergeSchema\", \"true\") \\\n",
    "    .saveAsTable(gold_city_table)"
   ]
  },
  {
   "cell_type": "code",
   "execution_count": 0,
   "metadata": {
    "application/vnd.databricks.v1+cell": {
     "cellMetadata": {},
     "inputWidgets": {},
     "nuid": "b2bae1f8-7e5a-4778-bdd4-1594e2c6fcc4",
     "showTitle": false,
     "tableResultSettingsMap": {},
     "title": ""
    }
   },
   "outputs": [],
   "source": [
    "print(\"✅ Gold layer tables created:\")\n",
    "print(f\"- Daily Stats Table: {df_daily.count()} records\")\n",
    "print(f\"- City Stats Table: {df_city_stats.count()} records\")\n"
   ]
  },
  {
   "cell_type": "code",
   "execution_count": 0,
   "metadata": {
    "application/vnd.databricks.v1+cell": {
     "cellMetadata": {},
     "inputWidgets": {},
     "nuid": "3497fa25-b4cc-483a-be61-37194843cb64",
     "showTitle": false,
     "tableResultSettingsMap": {},
     "title": ""
    }
   },
   "outputs": [],
   "source": [
    "print(\"🔥 Hottest City:\")\n",
    "display(df_hottest)\n",
    "\n",
    "print(\"❄️ Coolest City:\")\n",
    "display(df_coolest)"
   ]
  }
 ],
 "metadata": {
  "application/vnd.databricks.v1+notebook": {
   "computePreferences": null,
   "dashboards": [],
   "environmentMetadata": {
    "base_environment": "",
    "environment_version": "3"
   },
   "inputWidgetPreferences": null,
   "language": "python",
   "notebookMetadata": {
    "pythonIndentUnit": 4
   },
   "notebookName": "Gold_Layer",
   "widgets": {}
  },
  "language_info": {
   "name": "python"
  }
 },
 "nbformat": 4,
 "nbformat_minor": 0
}
