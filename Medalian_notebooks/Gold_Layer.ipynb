{
 "cells": [
  {
   "cell_type": "code",
   "execution_count": 0,
   "metadata": {
    "application/vnd.databricks.v1+cell": {
     "cellMetadata": {
      "byteLimit": 2048000,
      "rowLimit": 10000
     },
     "inputWidgets": {},
     "nuid": "6ce8b0c6-bdaf-4e96-8484-3aec3fb7f7ae",
     "showTitle": false,
     "tableResultSettingsMap": {},
     "title": ""
    }
   },
   "outputs": [],
   "source": [
    "%run /Users/sireeshabyreddy96@gmail.com/real-time-weather-pipeline/Medalian_notebooks/Slack_utils\n"
   ]
  },
  {
   "cell_type": "code",
   "execution_count": 0,
   "metadata": {
    "application/vnd.databricks.v1+cell": {
     "cellMetadata": {
      "byteLimit": 2048000,
      "rowLimit": 10000
     },
     "inputWidgets": {},
     "nuid": "92b7876e-8d38-4c67-8c89-116f679745ff",
     "showTitle": false,
     "tableResultSettingsMap": {},
     "title": ""
    }
   },
   "outputs": [],
   "source": [
    "from pyspark.sql.functions import (\n",
    "    col, avg, min, max, count, to_date, hour, desc\n",
    ")"
   ]
  },
  {
   "cell_type": "code",
   "execution_count": 0,
   "metadata": {
    "application/vnd.databricks.v1+cell": {
     "cellMetadata": {
      "byteLimit": 2048000,
      "rowLimit": 10000
     },
     "inputWidgets": {},
     "nuid": "29b219da-e335-4397-b8eb-e087843a035c",
     "showTitle": false,
     "tableResultSettingsMap": {},
     "title": ""
    }
   },
   "outputs": [
    {
     "output_type": "display_data",
     "data": {
      "text/plain": [
       "Databricks visualization. Run in Databricks to view."
      ]
     },
     "metadata": {
      "application/vnd.databricks.v1.subcommand+json": {
       "baseErrorDetails": null,
       "bindings": {},
       "collapsed": false,
       "command": "%python\n__backend_agg_display_orig = display\n__backend_agg_dfs = []\ndef __backend_agg_display_new(df):\n    __backend_agg_df_modules = [\"pandas.core.frame\", \"databricks.koalas.frame\", \"pyspark.sql.dataframe\", \"pyspark.pandas.frame\", \"pyspark.sql.connect.dataframe\"]\n    if (type(df).__module__ in __backend_agg_df_modules and type(df).__name__ == 'DataFrame') or isinstance(df, list):\n        __backend_agg_dfs.append(df)\n\ndisplay = __backend_agg_display_new\n\ndef __backend_agg_user_code_fn():\n    import base64\n    exec(base64.standard_b64decode(\"ZnJvbSBweXNwYXJrLnNxbC51dGlscyBpbXBvcnQgQW5hbHlzaXNFeGNlcHRpb24KCnNpbHZlcl90YWJsZSA9ICJ3ZWF0aGVyX2NhdGFsb2cucmF3LnNpbHZlcl90YWJsZSIKCnRyeToKICAgICMgVHJ5IHJlYWRpbmcgdGhlIHNpbHZlciB0YWJsZQogICAgZGZfc2lsdmVyID0gc3BhcmsudGFibGUoc2lsdmVyX3RhYmxlKQogICAgZGlzcGxheShkZl9zaWx2ZXIpCiAgICBzZW5kX3NsYWNrX21lc3NhZ2UoZiIgU3VjY2Vzc2Z1bGx5IGxvYWRlZCB0YWJsZToge3NpbHZlcl90YWJsZX0iLCBsZXZlbD0iSU5GTyIpCgogICAgIyBDb3VudCByb3dzCiAgICByb3dfY291bnQgPSBkZl9zaWx2ZXIuY291bnQoKQogICAgc2VuZF9zbGFja19tZXNzYWdlKGYiIFJvdyBjb3VudCBmb3Ige3NpbHZlcl90YWJsZX06IHtyb3dfY291bnR9IiwgbGV2ZWw9IklORk8iKQogICAgcHJpbnQoZiJSb3cgY291bnQgaW4ge3NpbHZlcl90YWJsZX06IHtyb3dfY291bnR9IikKCmV4Y2VwdCBBbmFseXNpc0V4Y2VwdGlvbiBhcyBhZToKICAgIHNlbmRfc2xhY2tfbWVzc2FnZShmIiBUYWJsZSB7c2lsdmVyX3RhYmxlfSBub3QgZm91bmQgb3IgaW52YWxpZDoge2FlfSIsIGxldmVsPSJFUlJPUiIpCiAgICBkZl9zaWx2ZXIgPSBOb25lICAgIyBGYWxsYmFjayBoYW5kbGluZwoKZXhjZXB0IEV4Y2VwdGlvbiBhcyBlOgogICAgc2VuZF9zbGFja19tZXNzYWdlKGYiIFVuZXhwZWN0ZWQgZXJyb3Igd2hpbGUgcmVhZGluZyB7c2lsdmVyX3RhYmxlfToge2V9IiwgbGV2ZWw9IkVSUk9SIikKICAgIGRmX3NpbHZlciA9IE5vbmUgICAjIEZhbGxiYWNrIGhhbmRsaW5nCgppZiBkZl9zaWx2ZXI6CiAgICBkZl9zaWx2ZXIucHJpbnRTY2hlbWEoKQogICAgZGlzcGxheShkZl9zaWx2ZXIpCmRmX3NpbHZlci5jb3VudCgp\").decode())\n\ntry:\n    # run user code\n    __backend_agg_user_code_fn()\n\n    #reset display function\n    display = __backend_agg_display_orig\n\n    if len(__backend_agg_dfs) > 0:\n        # create a temp view\n        if type(__backend_agg_dfs[0]).__module__ == \"databricks.koalas.frame\":\n            # koalas dataframe\n            __backend_agg_dfs[0].to_spark().createOrReplaceTempView(\"DatabricksViewac64977\")\n        elif type(__backend_agg_dfs[0]).__module__ == \"pandas.core.frame\" or isinstance(__backend_agg_dfs[0], list):\n            # pandas dataframe\n            spark.createDataFrame(__backend_agg_dfs[0]).createOrReplaceTempView(\"DatabricksViewac64977\")\n        else:\n            __backend_agg_dfs[0].createOrReplaceTempView(\"DatabricksViewac64977\")\n        #run backend agg\n        display(spark.sql(\"\"\"WITH q AS (select * from DatabricksViewac64977) SELECT `tempC`,MAX(`humidity`) `column_e170a15c163` FROM q GROUP BY `tempC`\"\"\"))\n    else:\n        displayHTML(\"dataframe no longer exists. If you're using dataframe.display(), use display(dataframe) instead.\")\n\n\nfinally:\n    spark.sql(\"drop view if exists DatabricksViewac64977\")\n    display = __backend_agg_display_orig\n    del __backend_agg_display_new\n    del __backend_agg_display_orig\n    del __backend_agg_dfs\n    del __backend_agg_user_code_fn\n\n",
       "commandTitle": "Visualization 1",
       "commandType": "auto",
       "commandVersion": 0,
       "commentThread": [],
       "commentsVisible": false,
       "contentSha256Hex": null,
       "customPlotOptions": {
        "redashChart": [
         {
          "key": "type",
          "value": "CHART"
         },
         {
          "key": "options",
          "value": {
           "alignYAxesAtZero": true,
           "coefficient": 1,
           "columnConfigurationMap": {
            "x": {
             "column": "tempC",
             "id": "column_e170a15c157"
            },
            "y": [
             {
              "column": "humidity",
              "id": "column_e170a15c163",
              "transform": "MAX"
             }
            ]
           },
           "dateTimeFormat": "DD/MM/YYYY HH:mm",
           "direction": {
            "type": "counterclockwise"
           },
           "error_y": {
            "type": "data",
            "visible": true
           },
           "globalSeriesType": "line",
           "isAggregationOn": true,
           "legend": {
            "traceorder": "normal"
           },
           "missingValuesAsZero": true,
           "numberFormat": "0,0.[00000]",
           "percentFormat": "0[.]00%",
           "series": {
            "error_y": {
             "type": "data",
             "visible": true
            },
            "stacking": null
           },
           "seriesOptions": {
            "column_e170a15c160": {
             "type": "line",
             "yAxis": 0
            },
            "column_e170a15c163": {
             "type": "line",
             "yAxis": 0
            }
           },
           "showDataLabels": false,
           "sizemode": "diameter",
           "sortX": true,
           "sortY": true,
           "swappedAxes": false,
           "textFormat": "",
           "useAggregationsUi": true,
           "valuesOptions": {},
           "version": 2,
           "xAxis": {
            "labels": {
             "enabled": true
            },
            "type": "-"
           },
           "yAxis": [
            {
             "type": "-"
            },
            {
             "opposite": true,
             "type": "-"
            }
           ]
          }
         }
        ]
       },
       "datasetPreviewNameToCmdIdMap": {},
       "diffDeletes": [],
       "diffInserts": [],
       "displayType": "redashChart",
       "error": null,
       "errorDetails": null,
       "errorSummary": null,
       "errorTraceType": null,
       "finishTime": 0,
       "globalVars": {},
       "guid": "",
       "height": "auto",
       "hideCommandCode": false,
       "hideCommandResult": false,
       "iPythonMetadata": null,
       "inputWidgets": {},
       "isLockedInExamMode": false,
       "latestUser": "a user",
       "latestUserId": null,
       "listResultMetadata": null,
       "metadata": {
        "byteLimit": 2048000,
        "rowLimit": 10000
       },
       "nuid": "66d4e148-aac2-43e4-8367-e5730da4c1bd",
       "origId": 0,
       "parentHierarchy": [],
       "pivotAggregation": null,
       "pivotColumns": null,
       "position": 3.0,
       "resultDbfsErrorMessage": null,
       "resultDbfsStatus": "INLINED_IN_TREE",
       "results": null,
       "showCommandTitle": false,
       "startTime": 0,
       "state": "input",
       "streamStates": {},
       "subcommandOptions": {
        "queryPlan": {
         "groups": [
          {
           "column": "tempC",
           "type": "column"
          }
         ],
         "selects": [
          {
           "column": "tempC",
           "type": "column"
          },
          {
           "alias": "column_e170a15c163",
           "args": [
            {
             "column": "humidity",
             "type": "column"
            }
           ],
           "function": "MAX",
           "type": "function"
          }
         ]
        }
       },
       "submitTime": 0,
       "subtype": "tableResultSubCmd.visualization",
       "tableResultIndex": 0,
       "tableResultSettingsMap": {},
       "useConsistentColors": false,
       "version": "CommandV1",
       "width": "auto",
       "workflows": null,
       "xColumns": null,
       "yColumns": null
      }
     },
     "output_type": "display_data"
    }
   ],
   "source": [
    "from pyspark.sql.utils import AnalysisException\n",
    "\n",
    "silver_table = \"weather_catalog.raw.silver_table\"\n",
    "\n",
    "try:\n",
    "    # Try reading the silver table\n",
    "    df_silver = spark.table(silver_table)\n",
    "    display(df_silver)\n",
    "    send_slack_message(f\" Successfully loaded table: {silver_table}\", level=\"INFO\")\n",
    "\n",
    "    # Count rows\n",
    "    row_count = df_silver.count()\n",
    "    send_slack_message(f\" Row count for {silver_table}: {row_count}\", level=\"INFO\")\n",
    "    print(f\"Row count in {silver_table}: {row_count}\")\n",
    "\n",
    "except AnalysisException as ae:\n",
    "    send_slack_message(f\" Table {silver_table} not found or invalid: {ae}\", level=\"ERROR\")\n",
    "    df_silver = None   # Fallback handling\n",
    "\n",
    "except Exception as e:\n",
    "    send_slack_message(f\" Unexpected error while reading {silver_table}: {e}\", level=\"ERROR\")\n",
    "    df_silver = None   # Fallback handling\n",
    "\n",
    "if df_silver:\n",
    "    df_silver.printSchema()\n",
    "    display(df_silver)\n",
    "df_silver.count()"
   ]
  },
  {
   "cell_type": "code",
   "execution_count": 0,
   "metadata": {
    "application/vnd.databricks.v1+cell": {
     "cellMetadata": {},
     "inputWidgets": {},
     "nuid": "bf309cab-6b0d-49fb-992f-2b2a27ad8a70",
     "showTitle": false,
     "tableResultSettingsMap": {},
     "title": ""
    }
   },
   "outputs": [],
   "source": []
  },
  {
   "cell_type": "code",
   "execution_count": 0,
   "metadata": {
    "application/vnd.databricks.v1+cell": {
     "cellMetadata": {
      "byteLimit": 2048000,
      "rowLimit": 10000
     },
     "inputWidgets": {},
     "nuid": "321e51ae-ab22-40dd-af54-55e8b617e9ce",
     "showTitle": false,
     "tableResultSettingsMap": {},
     "title": ""
    }
   },
   "outputs": [
    {
     "output_type": "display_data",
     "data": {
      "text/plain": [
       "Databricks visualization. Run in Databricks to view."
      ]
     },
     "metadata": {
      "application/vnd.databricks.v1.subcommand+json": {
       "baseErrorDetails": null,
       "bindings": {},
       "collapsed": false,
       "command": "%python\n__backend_agg_display_orig = display\n__backend_agg_dfs = []\ndef __backend_agg_display_new(df):\n    __backend_agg_df_modules = [\"pandas.core.frame\", \"databricks.koalas.frame\", \"pyspark.sql.dataframe\", \"pyspark.pandas.frame\", \"pyspark.sql.connect.dataframe\"]\n    if (type(df).__module__ in __backend_agg_df_modules and type(df).__name__ == 'DataFrame') or isinstance(df, list):\n        __backend_agg_dfs.append(df)\n\ndisplay = __backend_agg_display_new\n\ndef __backend_agg_user_code_fn():\n    import base64\n    exec(base64.standard_b64decode(\"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\").decode())\n\ntry:\n    # run user code\n    __backend_agg_user_code_fn()\n\n    #reset display function\n    display = __backend_agg_display_orig\n\n    if len(__backend_agg_dfs) > 0:\n        # create a temp view\n        if type(__backend_agg_dfs[0]).__module__ == \"databricks.koalas.frame\":\n            # koalas dataframe\n            __backend_agg_dfs[0].to_spark().createOrReplaceTempView(\"DatabricksView0127766\")\n        elif type(__backend_agg_dfs[0]).__module__ == \"pandas.core.frame\" or isinstance(__backend_agg_dfs[0], list):\n            # pandas dataframe\n            spark.createDataFrame(__backend_agg_dfs[0]).createOrReplaceTempView(\"DatabricksView0127766\")\n        else:\n            __backend_agg_dfs[0].createOrReplaceTempView(\"DatabricksView0127766\")\n        #run backend agg\n        display(spark.sql(\"\"\"WITH q AS (select * from DatabricksView0127766) SELECT `year`,SUM(`precipMM_avg`) `column_2f51c49e95` FROM q GROUP BY `year`\"\"\"))\n    else:\n        displayHTML(\"dataframe no longer exists. If you're using dataframe.display(), use display(dataframe) instead.\")\n\n\nfinally:\n    spark.sql(\"drop view if exists DatabricksView0127766\")\n    display = __backend_agg_display_orig\n    del __backend_agg_display_new\n    del __backend_agg_display_orig\n    del __backend_agg_dfs\n    del __backend_agg_user_code_fn\n\n",
       "commandTitle": "Average precipitation per yea",
       "commandType": "auto",
       "commandVersion": 0,
       "commentThread": [],
       "commentsVisible": false,
       "contentSha256Hex": null,
       "customPlotOptions": {
        "redashChart": [
         {
          "key": "type",
          "value": "CHART"
         },
         {
          "key": "options",
          "value": {
           "alignYAxesAtZero": true,
           "coefficient": 1,
           "columnConfigurationMap": {
            "x": {
             "column": "year",
             "id": "column_2f51c49e93"
            },
            "y": [
             {
              "column": "precipMM_avg",
              "id": "column_2f51c49e95",
              "transform": "SUM"
             }
            ]
           },
           "dateTimeFormat": "DD/MM/YYYY HH:mm",
           "direction": {
            "type": "counterclockwise"
           },
           "error_y": {
            "type": "data",
            "visible": true
           },
           "globalSeriesType": "column",
           "isAggregationOn": true,
           "legend": {
            "traceorder": "normal"
           },
           "missingValuesAsZero": true,
           "numberFormat": "0,0.[00000]",
           "percentFormat": "0[.]00%",
           "series": {
            "error_y": {
             "type": "data",
             "visible": true
            },
            "stacking": null
           },
           "seriesOptions": {
            "column_2f51c49e95": {
             "type": "column",
             "yAxis": 0
            }
           },
           "showDataLabels": false,
           "sizemode": "diameter",
           "sortX": true,
           "sortY": true,
           "swappedAxes": false,
           "textFormat": "",
           "useAggregationsUi": true,
           "valuesOptions": {},
           "version": 2,
           "xAxis": {
            "labels": {
             "enabled": true
            },
            "type": "-"
           },
           "yAxis": [
            {
             "type": "-"
            },
            {
             "opposite": true,
             "type": "-"
            }
           ]
          }
         }
        ]
       },
       "datasetPreviewNameToCmdIdMap": {},
       "diffDeletes": [],
       "diffInserts": [],
       "displayType": "redashChart",
       "error": null,
       "errorDetails": null,
       "errorSummary": null,
       "errorTraceType": null,
       "finishTime": 0,
       "globalVars": {},
       "guid": "",
       "height": "auto",
       "hideCommandCode": false,
       "hideCommandResult": false,
       "iPythonMetadata": null,
       "inputWidgets": {},
       "isLockedInExamMode": false,
       "latestUser": "a user",
       "latestUserId": null,
       "listResultMetadata": null,
       "metadata": {},
       "nuid": "7cc1272b-19d8-4a10-95d5-8fe244f61f7b",
       "origId": 0,
       "parentHierarchy": [],
       "pivotAggregation": null,
       "pivotColumns": null,
       "position": 4.0,
       "resultDbfsErrorMessage": null,
       "resultDbfsStatus": "INLINED_IN_TREE",
       "results": null,
       "showCommandTitle": false,
       "startTime": 0,
       "state": "input",
       "streamStates": {},
       "subcommandOptions": {
        "queryPlan": {
         "groups": [
          {
           "column": "year",
           "type": "column"
          }
         ],
         "selects": [
          {
           "column": "year",
           "type": "column"
          },
          {
           "alias": "column_2f51c49e95",
           "args": [
            {
             "column": "precipMM_avg",
             "type": "column"
            }
           ],
           "function": "SUM",
           "type": "function"
          }
         ]
        }
       },
       "submitTime": 0,
       "subtype": "tableResultSubCmd.visualization",
       "tableResultIndex": 0,
       "tableResultSettingsMap": {},
       "useConsistentColors": false,
       "version": "CommandV1",
       "width": "auto",
       "workflows": null,
       "xColumns": null,
       "yColumns": null
      }
     },
     "output_type": "display_data"
    },
    {
     "output_type": "display_data",
     "data": {
      "text/plain": [
       "Databricks visualization. Run in Databricks to view."
      ]
     },
     "metadata": {
      "application/vnd.databricks.v1.subcommand+json": {
       "baseErrorDetails": null,
       "bindings": {},
       "collapsed": false,
       "command": "%python\n__backend_agg_display_orig = display\n__backend_agg_dfs = []\ndef __backend_agg_display_new(df):\n    __backend_agg_df_modules = [\"pandas.core.frame\", \"databricks.koalas.frame\", \"pyspark.sql.dataframe\", \"pyspark.pandas.frame\", \"pyspark.sql.connect.dataframe\"]\n    if (type(df).__module__ in __backend_agg_df_modules and type(df).__name__ == 'DataFrame') or isinstance(df, list):\n        __backend_agg_dfs.append(df)\n\ndisplay = __backend_agg_display_new\n\ndef __backend_agg_user_code_fn():\n    import base64\n    exec(base64.standard_b64decode(\"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\").decode())\n\ntry:\n    # run user code\n    __backend_agg_user_code_fn()\n\n    #reset display function\n    display = __backend_agg_display_orig\n\n    if len(__backend_agg_dfs) > 1:\n        # create a temp view\n        if type(__backend_agg_dfs[1]).__module__ == \"databricks.koalas.frame\":\n            # koalas dataframe\n            __backend_agg_dfs[1].to_spark().createOrReplaceTempView(\"DatabricksView13e9e6f\")\n        elif type(__backend_agg_dfs[1]).__module__ == \"pandas.core.frame\" or isinstance(__backend_agg_dfs[1], list):\n            # pandas dataframe\n            spark.createDataFrame(__backend_agg_dfs[1]).createOrReplaceTempView(\"DatabricksView13e9e6f\")\n        else:\n            __backend_agg_dfs[1].createOrReplaceTempView(\"DatabricksView13e9e6f\")\n        #run backend agg\n        display(spark.sql(\"\"\"WITH q AS (select * from DatabricksView13e9e6f) SELECT `month`,`year`,SUM(`maxtempC_avg`) `column_2f51c49e100` FROM q GROUP BY `month`,`year`\"\"\"))\n    else:\n        displayHTML(\"dataframe no longer exists. If you're using dataframe.display(), use display(dataframe) instead.\")\n\n\nfinally:\n    spark.sql(\"drop view if exists DatabricksView13e9e6f\")\n    display = __backend_agg_display_orig\n    del __backend_agg_display_new\n    del __backend_agg_display_orig\n    del __backend_agg_dfs\n    del __backend_agg_user_code_fn\n\n",
       "commandTitle": "Seasonal trend analysis",
       "commandType": "auto",
       "commandVersion": 0,
       "commentThread": [],
       "commentsVisible": false,
       "contentSha256Hex": null,
       "customPlotOptions": {
        "redashChart": [
         {
          "key": "type",
          "value": "CHART"
         },
         {
          "key": "options",
          "value": {
           "alignYAxesAtZero": true,
           "coefficient": 1,
           "columnConfigurationMap": {
            "x": {
             "column": "month",
             "id": "column_2f51c49e97"
            },
            "y": [
             {
              "column": "year",
              "id": "column_2f51c49e98"
             }
            ],
            "zVal": {
             "column": "maxtempC_avg",
             "id": "column_2f51c49e100",
             "transform": "SUM"
            }
           },
           "dateTimeFormat": "DD/MM/YYYY HH:mm",
           "direction": {
            "type": "counterclockwise"
           },
           "error_y": {
            "type": "data",
            "visible": true
           },
           "globalSeriesType": "heatmap",
           "isAggregationOn": true,
           "legend": {
            "traceorder": "normal"
           },
           "missingValuesAsZero": true,
           "numberFormat": "0,0.[00000]",
           "percentFormat": "0[.]00%",
           "series": {
            "error_y": {
             "type": "data",
             "visible": true
            },
            "stacking": null
           },
           "seriesOptions": {
            "column_2f51c49e98": {
             "type": "heatmap",
             "yAxis": 0
            }
           },
           "showDataLabels": false,
           "sizemode": "diameter",
           "sortX": true,
           "sortY": true,
           "swappedAxes": false,
           "textFormat": "",
           "useAggregationsUi": true,
           "valuesOptions": {},
           "version": 2,
           "xAxis": {
            "labels": {
             "enabled": true
            },
            "type": "-"
           },
           "yAxis": [
            {
             "type": "-"
            },
            {
             "opposite": true,
             "type": "-"
            }
           ]
          }
         }
        ]
       },
       "datasetPreviewNameToCmdIdMap": {},
       "diffDeletes": [],
       "diffInserts": [],
       "displayType": "redashChart",
       "error": null,
       "errorDetails": null,
       "errorSummary": null,
       "errorTraceType": null,
       "finishTime": 0,
       "globalVars": {},
       "guid": "",
       "height": "auto",
       "hideCommandCode": false,
       "hideCommandResult": false,
       "iPythonMetadata": null,
       "inputWidgets": {},
       "isLockedInExamMode": false,
       "latestUser": "a user",
       "latestUserId": null,
       "listResultMetadata": null,
       "metadata": {},
       "nuid": "943bace3-9bca-4fd2-b4c0-9d4dd6facaca",
       "origId": 0,
       "parentHierarchy": [],
       "pivotAggregation": null,
       "pivotColumns": null,
       "position": 4.0,
       "resultDbfsErrorMessage": null,
       "resultDbfsStatus": "INLINED_IN_TREE",
       "results": null,
       "showCommandTitle": false,
       "startTime": 0,
       "state": "input",
       "streamStates": {},
       "subcommandOptions": {
        "queryPlan": {
         "groups": [
          {
           "column": "month",
           "type": "column"
          },
          {
           "column": "year",
           "type": "column"
          }
         ],
         "selects": [
          {
           "column": "month",
           "type": "column"
          },
          {
           "column": "year",
           "type": "column"
          },
          {
           "alias": "column_2f51c49e100",
           "args": [
            {
             "column": "maxtempC_avg",
             "type": "column"
            }
           ],
           "function": "SUM",
           "type": "function"
          }
         ]
        }
       },
       "submitTime": 0,
       "subtype": "tableResultSubCmd.visualization",
       "tableResultIndex": 1,
       "tableResultSettingsMap": {},
       "useConsistentColors": false,
       "version": "CommandV1",
       "width": "auto",
       "workflows": null,
       "xColumns": null,
       "yColumns": null
      }
     },
     "output_type": "display_data"
    },
    {
     "output_type": "display_data",
     "data": {
      "text/plain": [
       "Databricks visualization. Run in Databricks to view."
      ]
     },
     "metadata": {
      "application/vnd.databricks.v1.subcommand+json": {
       "baseErrorDetails": null,
       "bindings": {},
       "collapsed": false,
       "command": "%python\n__backend_agg_display_orig = display\n__backend_agg_dfs = []\ndef __backend_agg_display_new(df):\n    __backend_agg_df_modules = [\"pandas.core.frame\", \"databricks.koalas.frame\", \"pyspark.sql.dataframe\", \"pyspark.pandas.frame\", \"pyspark.sql.connect.dataframe\"]\n    if (type(df).__module__ in __backend_agg_df_modules and type(df).__name__ == 'DataFrame') or isinstance(df, list):\n        __backend_agg_dfs.append(df)\n\ndisplay = __backend_agg_display_new\n\ndef __backend_agg_user_code_fn():\n    import base64\n    exec(base64.standard_b64decode(\"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\").decode())\n\ntry:\n    # run user code\n    __backend_agg_user_code_fn()\n\n    #reset display function\n    display = __backend_agg_display_orig\n\n    if len(__backend_agg_dfs) > 2:\n        # create a temp view\n        if type(__backend_agg_dfs[2]).__module__ == \"databricks.koalas.frame\":\n            # koalas dataframe\n            __backend_agg_dfs[2].to_spark().createOrReplaceTempView(\"DatabricksView9743457\")\n        elif type(__backend_agg_dfs[2]).__module__ == \"pandas.core.frame\" or isinstance(__backend_agg_dfs[2], list):\n            # pandas dataframe\n            spark.createDataFrame(__backend_agg_dfs[2]).createOrReplaceTempView(\"DatabricksView9743457\")\n        else:\n            __backend_agg_dfs[2].createOrReplaceTempView(\"DatabricksView9743457\")\n        #run backend agg\n        display(spark.sql(\"\"\"WITH q AS (select * from DatabricksView9743457) SELECT `year`,SUM(`precipMM_avg`) `column_2f51c49e104` FROM q GROUP BY `year`\"\"\"))\n    else:\n        displayHTML(\"dataframe no longer exists. If you're using dataframe.display(), use display(dataframe) instead.\")\n\n\nfinally:\n    spark.sql(\"drop view if exists DatabricksView9743457\")\n    display = __backend_agg_display_orig\n    del __backend_agg_display_new\n    del __backend_agg_display_orig\n    del __backend_agg_dfs\n    del __backend_agg_user_code_fn\n\n",
       "commandTitle": "Weekly rainfall",
       "commandType": "auto",
       "commandVersion": 0,
       "commentThread": [],
       "commentsVisible": false,
       "contentSha256Hex": null,
       "customPlotOptions": {
        "redashChart": [
         {
          "key": "type",
          "value": "CHART"
         },
         {
          "key": "options",
          "value": {
           "alignYAxesAtZero": true,
           "coefficient": 1,
           "columnConfigurationMap": {
            "x": {
             "column": "year",
             "id": "column_2f51c49e102"
            },
            "y": [
             {
              "column": "precipMM_avg",
              "id": "column_2f51c49e104",
              "transform": "SUM"
             }
            ]
           },
           "dateTimeFormat": "DD/MM/YYYY HH:mm",
           "direction": {
            "type": "counterclockwise"
           },
           "error_y": {
            "type": "data",
            "visible": true
           },
           "globalSeriesType": "area",
           "isAggregationOn": true,
           "legend": {
            "traceorder": "normal"
           },
           "missingValuesAsZero": true,
           "numberFormat": "0,0.[00000]",
           "percentFormat": "0[.]00%",
           "series": {
            "error_y": {
             "type": "data",
             "visible": true
            },
            "stacking": null
           },
           "seriesOptions": {
            "column_2f51c49e104": {
             "type": "area",
             "yAxis": 0
            }
           },
           "showDataLabels": false,
           "sizemode": "diameter",
           "sortX": true,
           "sortY": true,
           "swappedAxes": false,
           "textFormat": "",
           "useAggregationsUi": true,
           "valuesOptions": {},
           "version": 2,
           "xAxis": {
            "labels": {
             "enabled": true
            },
            "type": "-"
           },
           "yAxis": [
            {
             "type": "-"
            },
            {
             "opposite": true,
             "type": "-"
            }
           ]
          }
         }
        ]
       },
       "datasetPreviewNameToCmdIdMap": {},
       "diffDeletes": [],
       "diffInserts": [],
       "displayType": "redashChart",
       "error": null,
       "errorDetails": null,
       "errorSummary": null,
       "errorTraceType": null,
       "finishTime": 0,
       "globalVars": {},
       "guid": "",
       "height": "auto",
       "hideCommandCode": false,
       "hideCommandResult": false,
       "iPythonMetadata": null,
       "inputWidgets": {},
       "isLockedInExamMode": false,
       "latestUser": "a user",
       "latestUserId": null,
       "listResultMetadata": null,
       "metadata": {},
       "nuid": "07141a60-3853-4d71-a948-0cf89f493a49",
       "origId": 0,
       "parentHierarchy": [],
       "pivotAggregation": null,
       "pivotColumns": null,
       "position": 4.0,
       "resultDbfsErrorMessage": null,
       "resultDbfsStatus": "INLINED_IN_TREE",
       "results": null,
       "showCommandTitle": false,
       "startTime": 0,
       "state": "input",
       "streamStates": {},
       "subcommandOptions": {
        "queryPlan": {
         "groups": [
          {
           "column": "year",
           "type": "column"
          }
         ],
         "selects": [
          {
           "column": "year",
           "type": "column"
          },
          {
           "alias": "column_2f51c49e104",
           "args": [
            {
             "column": "precipMM_avg",
             "type": "column"
            }
           ],
           "function": "SUM",
           "type": "function"
          }
         ]
        }
       },
       "submitTime": 0,
       "subtype": "tableResultSubCmd.visualization",
       "tableResultIndex": 2,
       "tableResultSettingsMap": {},
       "useConsistentColors": false,
       "version": "CommandV1",
       "width": "auto",
       "workflows": null,
       "xColumns": null,
       "yColumns": null
      }
     },
     "output_type": "display_data"
    }
   ],
   "source": [
    "from pyspark.sql import functions as F\n",
    "\n",
    "silver_table = \"weather_catalog.raw.silver_table\"\n",
    "\n",
    "def safe_slack(msg, level=\"INFO\"):\n",
    "    \"\"\"Send Slack message safely without breaking ETL\"\"\"\n",
    "    try:\n",
    "        send_slack_message(msg, level)\n",
    "    except Exception as slack_err:\n",
    "        print(f\"⚠️ Slack notification failed: {slack_err}\")\n",
    "\n",
    "try:\n",
    "    # -------------------------\n",
    "    # Read Silver Layer\n",
    "    # -------------------------\n",
    "    df_silver = spark.read.table(silver_table)\n",
    "    safe_slack(f\"Successfully loaded table: {silver_table}\", level=\"INFO\")\n",
    "\n",
    "    # -------------------------\n",
    "    # Ensure date column is proper\n",
    "    # -------------------------\n",
    "    df_silver = df_silver.withColumn(\"date\", F.to_date(\"date_time\", \"dd-MM-yyyy HH:mm\"))\n",
    "\n",
    "    # -------------------------\n",
    "    # Extract time dimensions\n",
    "    # -------------------------\n",
    "    df_silver = df_silver.withColumn(\"year\", F.year(\"date\")) \\\n",
    "                         .withColumn(\"month\", F.month(\"date\")) \\\n",
    "                         .withColumn(\"week\", F.weekofyear(\"date\"))\n",
    "\n",
    "    # -------------------------\n",
    "    # Select numeric columns for aggregation\n",
    "    # -------------------------\n",
    "    metrics = [\n",
    "        \"maxtempC\", \"mintempC\", \"tempC\", \"humidity\", \"pressure\",\n",
    "        \"windspeedKmph\", \"WindGustKmph\", \"precipMM\", \"visibility\",\n",
    "        \"FeelsLikeC\", \"HeatIndexC\", \"WindChillC\", \"DewPointC\", \"uvIndex\", \"sunHour\"\n",
    "    ]\n",
    "\n",
    "    # Convert to numeric\n",
    "    for col in metrics:\n",
    "        df_silver = df_silver.withColumn(col, F.col(col).cast(\"double\"))\n",
    "\n",
    "    # -------------------------\n",
    "    # WEEKLY AGGREGATION\n",
    "    # -------------------------\n",
    "    weekly_df = df_silver.groupBy(\"year\", \"week\") \\\n",
    "        .agg(\n",
    "            *[F.avg(col).alias(f\"{col}_avg\") for col in metrics],\n",
    "            *[F.max(col).alias(f\"{col}_max\") for col in metrics],\n",
    "            *[F.min(col).alias(f\"{col}_min\") for col in metrics]\n",
    "        ).orderBy(\"year\", \"week\")\n",
    "\n",
    "    # -------------------------\n",
    "    # MONTHLY AGGREGATION\n",
    "    # -------------------------\n",
    "    monthly_df = df_silver.groupBy(\"year\", \"month\") \\\n",
    "        .agg(\n",
    "            *[F.avg(col).alias(f\"{col}_avg\") for col in metrics],\n",
    "            *[F.max(col).alias(f\"{col}_max\") for col in metrics],\n",
    "            *[F.min(col).alias(f\"{col}_min\") for col in metrics]\n",
    "        ).orderBy(\"year\", \"month\")\n",
    "\n",
    "    # -------------------------\n",
    "    # YEARLY AGGREGATION\n",
    "    # -------------------------\n",
    "    yearly_df = df_silver.groupBy(\"year\") \\\n",
    "        .agg(\n",
    "            *[F.avg(col).alias(f\"{col}_avg\") for col in metrics],\n",
    "            *[F.max(col).alias(f\"{col}_max\") for col in metrics],\n",
    "            *[F.min(col).alias(f\"{col}_min\") for col in metrics]\n",
    "        ).orderBy(\"year\")\n",
    "\n",
    "    # -------------------------\n",
    "    # Save to Gold Layer\n",
    "    # -------------------------\n",
    "    weekly_df.write.format(\"delta\").mode(\"overwrite\").saveAsTable(\"weather_catalog.gold.weather_weekly\")\n",
    "    monthly_df.write.format(\"delta\").mode(\"overwrite\").saveAsTable(\"weather_catalog.gold.weather_monthly\")\n",
    "    yearly_df.write.format(\"delta\").mode(\"overwrite\").saveAsTable(\"weather_catalog.gold.weather_yearly\")\n",
    "\n",
    "    safe_slack(\"Weekly, Monthly, and Yearly aggregations computed and saved to Gold Layer.\", level=\"INFO\")\n",
    "\n",
    "    # -------------------------\n",
    "    # Show results in Databricks\n",
    "    # -------------------------\n",
    "    display(weekly_df)\n",
    "    display(monthly_df)\n",
    "    display(yearly_df)\n",
    "\n",
    "except Exception as e:\n",
    "    safe_slack(f\"Error during aggregation ETL: {str(e)}\", level=\"ERROR\")\n",
    "    raise\n"
   ]
  },
  {
   "cell_type": "code",
   "execution_count": 0,
   "metadata": {
    "application/vnd.databricks.v1+cell": {
     "cellMetadata": {
      "byteLimit": 2048000,
      "rowLimit": 10000
     },
     "inputWidgets": {},
     "nuid": "95008e23-53da-468a-812a-f2286030cfe6",
     "showTitle": false,
     "tableResultSettingsMap": {},
     "title": ""
    }
   },
   "outputs": [],
   "source": [
    "from pyspark.sql import functions as F\n",
    "\n",
    "try:\n",
    "    # -------------------------\n",
    "    # Read Silver Layer\n",
    "    # -------------------------\n",
    "    df_silver = spark.read.format(\"delta\").table(\"weather_catalog.raw.silver_table\")\n",
    "\n",
    "    # -------------------------\n",
    "    # List of numeric columns to aggregate\n",
    "    # -------------------------\n",
    "    numeric_cols = [\n",
    "        \"maxtempC\", \"mintempC\", \"totalSnow_cm\", \"sunHour\", \"uvIndex\", \"moon_illumination\",\n",
    "        \"DewPointC\", \"FeelsLikeC\", \"HeatIndexC\", \"WindChillC\", \"WindGustKmph\",\n",
    "        \"cloudcover\", \"humidity\", \"precipMM\", \"pressure\", \"tempC\", \"visibility\",\n",
    "        \"winddirDegree\", \"windspeedKmph\"\n",
    "    ]\n",
    "\n",
    "    # -------------------------\n",
    "    # Build aggregation expressions\n",
    "    # -------------------------\n",
    "    aggregations = []\n",
    "    for c in numeric_cols:\n",
    "        aggregations.append(F.max(c).alias(f\"{c}_max\"))\n",
    "        aggregations.append(F.min(c).alias(f\"{c}_min\"))\n",
    "        aggregations.append(F.avg(c).alias(f\"{c}_avg\"))\n",
    "\n",
    "    # -------------------------\n",
    "    # Group by City\n",
    "    # -------------------------\n",
    "    df_citywise_stats = df_silver.groupBy(\"City\").agg(*aggregations)\n",
    "\n",
    "    # -------------------------\n",
    "    # Save results to Gold Layer\n",
    "    # -------------------------\n",
    "    df_citywise_stats.write.format(\"delta\").mode(\"overwrite\").saveAsTable(\n",
    "        \"weather_catalog.gold.citywise_stats\"\n",
    "    )\n",
    "\n",
    "    # -------------------------\n",
    "    # Slack notification (safe)\n",
    "    # -------------------------\n",
    "    try:\n",
    "        send_slack_message(\":white_check_mark: Citywise weather statistics computed and saved to `weather_catalog.gold.citywise_stats`.\")\n",
    "    except Exception as slack_err:\n",
    "        print(f\" Slack notification failed: {slack_err}\")\n",
    "\n",
    "    # -------------------------\n",
    "    # Show results in Databricks\n",
    "    # -------------------------\n",
    "    display(df_citywise_stats)\n",
    "\n",
    "except Exception as e:\n",
    "    error_message = f\":x: Error while computing citywise stats: {str(e)}\"\n",
    "    try:\n",
    "        send_slack_message(error_message)\n",
    "    except Exception as slack_err:\n",
    "        print(f\" Slack notification failed: {slack_err}\")\n",
    "    raise\n"
   ]
  },
  {
   "cell_type": "code",
   "execution_count": 0,
   "metadata": {
    "application/vnd.databricks.v1+cell": {
     "cellMetadata": {
      "byteLimit": 2048000,
      "rowLimit": 10000
     },
     "inputWidgets": {},
     "nuid": "b800113c-dc53-43d7-9292-0cf7da1f2916",
     "showTitle": false,
     "tableResultSettingsMap": {
      "0": {
       "dataGridStateBlob": "{\"version\":1,\"tableState\":{\"columnPinning\":{\"left\":[\"#row_number#\"],\"right\":[]},\"columnSizing\":{},\"columnVisibility\":{}},\"settings\":{\"columns\":{}},\"syncTimestamp\":1755926999512}",
       "filterBlob": null,
       "queryPlanFiltersBlob": null,
       "tableResultIndex": 0
      }
     },
     "title": ""
    }
   },
   "outputs": [],
   "source": [
    "from pyspark.sql import functions as F\n",
    "\n",
    "try:\n",
    "    # -------------------------\n",
    "    # Read Silver Layer\n",
    "    # -------------------------\n",
    "    df_silver = spark.read.format(\"delta\").table(\"weather_catalog.raw.silver_table\")\n",
    "\n",
    "    # -------------------------\n",
    "    # Numeric columns to aggregate\n",
    "    # -------------------------\n",
    "    numeric_cols = [\n",
    "        \"maxtempC\", \"mintempC\", \"totalSnow_cm\", \"sunHour\", \"uvIndex\", \"moon_illumination\",\n",
    "        \"DewPointC\", \"FeelsLikeC\", \"HeatIndexC\", \"WindChillC\", \"WindGustKmph\",\n",
    "        \"cloudcover\", \"humidity\", \"precipMM\", \"pressure\", \"tempC\", \"visibility\",\n",
    "        \"winddirDegree\", \"windspeedKmph\"\n",
    "    ]\n",
    "\n",
    "    # -------------------------\n",
    "    # Build aggregation expressions\n",
    "    # -------------------------\n",
    "    aggregations = []\n",
    "    for c in numeric_cols:\n",
    "        aggregations.append(F.max(c).alias(f\"{c}_max\"))\n",
    "        aggregations.append(F.min(c).alias(f\"{c}_min\"))\n",
    "        aggregations.append(F.avg(c).alias(f\"{c}_avg\"))\n",
    "\n",
    "    # -------------------------\n",
    "    # Group by City\n",
    "    # -------------------------\n",
    "    df_citywise_stats = df_silver.groupBy(\"City\").agg(*aggregations)\n",
    "\n",
    "    # -------------------------\n",
    "    # Save to Gold Layer\n",
    "    # -------------------------\n",
    "    df_citywise_stats.write.format(\"delta\").mode(\"overwrite\").saveAsTable(\"weather_catalog.gold.citywise_stats\")\n",
    "\n",
    "    # -------------------------\n",
    "    # Slack notification\n",
    "    # -------------------------\n",
    "    send_slack_message(\" Citywise weather statistics computed and saved to `weather_catalog.gold.citywise_stats`.\", level=\"INFO\")\n",
    "\n",
    "    # -------------------------\n",
    "    # Display results\n",
    "    # -------------------------\n",
    "    display(df_citywise_stats)\n",
    "\n",
    "except Exception as e:\n",
    "    send_slack_message(f\" Error while computing citywise stats: {str(e)}\", level=\"ERROR\")\n",
    "    raise\n"
   ]
  },
  {
   "cell_type": "code",
   "execution_count": 0,
   "metadata": {
    "application/vnd.databricks.v1+cell": {
     "cellMetadata": {
      "byteLimit": 2048000,
      "rowLimit": 10000
     },
     "inputWidgets": {},
     "nuid": "dc5ba874-aa6b-4412-b5fb-7ee81012dd86",
     "showTitle": false,
     "tableResultSettingsMap": {},
     "title": ""
    }
   },
   "outputs": [],
   "source": [
    "from pyspark.sql import functions as F\n",
    "\n",
    "try:\n",
    "    # -------------------------\n",
    "    # Group by city and calculate aggregate stats\n",
    "    # -------------------------\n",
    "    city_stats = df_silver.groupBy(\"City\").agg(\n",
    "        F.max(\"maxtempC\").alias(\"max_temp\"),\n",
    "        F.min(\"mintempC\").alias(\"min_temp\"),\n",
    "        F.sum(\"precipMM\").alias(\"total_rain\"),\n",
    "        F.avg(\"humidity\").alias(\"avg_humidity\"),\n",
    "        F.max(\"humidity\").alias(\"max_humidity\"),\n",
    "        F.min(\"humidity\").alias(\"min_humidity\"),\n",
    "        F.max(\"windspeedKmph\").alias(\"max_wind\"),\n",
    "        F.min(\"windspeedKmph\").alias(\"min_wind\"),\n",
    "        F.max(\"sunHour\").alias(\"max_sun\"),\n",
    "        F.max(\"cloudcover\").alias(\"max_cloud\"),\n",
    "        F.max(\"visibility\").alias(\"max_visibility\"),\n",
    "        F.min(\"visibility\").alias(\"min_visibility\"),\n",
    "        F.max(\"pressure\").alias(\"max_pressure\"),\n",
    "        F.min(\"pressure\").alias(\"min_pressure\")\n",
    "    )\n",
    "\n",
    "    # -------------------------\n",
    "    # Pick top cities for each category\n",
    "    # -------------------------\n",
    "    insights = {\n",
    "        \"Hottest City\": city_stats.orderBy(F.desc(\"max_temp\")).limit(1),\n",
    "        \"Coolest City\": city_stats.orderBy(\"min_temp\").limit(1),\n",
    "        \"Most Rainfall City\": city_stats.orderBy(F.desc(\"total_rain\")).limit(1),\n",
    "        \"Most Humid City\": city_stats.orderBy(F.desc(\"max_humidity\")).limit(1),\n",
    "        \"Driest City\": city_stats.orderBy(\"min_humidity\").limit(1),\n",
    "        \"Windiest City\": city_stats.orderBy(F.desc(\"max_wind\")).limit(1),\n",
    "        \"Calmest City\": city_stats.orderBy(\"min_wind\").limit(1),\n",
    "        \"Sunniest City\": city_stats.orderBy(F.desc(\"max_sun\")).limit(1),\n",
    "        \"Cloudiest City\": city_stats.orderBy(F.desc(\"max_cloud\")).limit(1),\n",
    "        \"Best Visibility City\": city_stats.orderBy(F.desc(\"max_visibility\")).limit(1),\n",
    "        \"Worst Visibility City\": city_stats.orderBy(\"min_visibility\").limit(1),\n",
    "        \"Highest Pressure City\": city_stats.orderBy(F.desc(\"max_pressure\")).limit(1),\n",
    "        \"Lowest Pressure City\": city_stats.orderBy(\"min_pressure\").limit(1),\n",
    "    }\n",
    "\n",
    "    # -------------------------\n",
    "    # Show insights\n",
    "    # -------------------------\n",
    "    for title, df in insights.items():\n",
    "        print(f\"\\n🔹 {title}:\")\n",
    "        display(df)\n",
    "\n",
    "    # -------------------------\n",
    "    # Slack success notification\n",
    "    # -------------------------\n",
    "    send_slack_message(\" City-level weather insights computed successfully.\", level=\"INFO\")\n",
    "\n",
    "except Exception as e:\n",
    "    try:\n",
    "        send_slack_message(f\" Error while computing city-level insights: {str(e)}\", level=\"ERROR\")\n",
    "    except Exception as slack_err:\n",
    "        print(f\" Slack notification failed: {slack_err}\")\n",
    "    raise\n"
   ]
  },
  {
   "cell_type": "code",
   "execution_count": 0,
   "metadata": {
    "application/vnd.databricks.v1+cell": {
     "cellMetadata": {
      "byteLimit": 2048000,
      "rowLimit": 10000
     },
     "inputWidgets": {},
     "nuid": "c1f260b6-4131-4437-88c6-7adc82f6266e",
     "showTitle": false,
     "tableResultSettingsMap": {},
     "title": ""
    }
   },
   "outputs": [],
   "source": [
    "from pyspark.sql import functions as F\n",
    "from pyspark.sql.functions import col, year, avg, min, max, sum\n",
    "from pyspark.sql.window import Window\n",
    "\n",
    "gold_base_path = \"weather_catalog.gold\"\n",
    "\n",
    "try:\n",
    "    # -------------------------\n",
    "    # Extract year from date_time\n",
    "    # -------------------------\n",
    "    df_yearly = df_silver.withColumn(\"year\", year(col(\"date_time\")))\n",
    "\n",
    "    # -------------------------\n",
    "    # Year-wise coolest city (min temp)\n",
    "    # -------------------------\n",
    "    coolest_city = df_yearly.groupBy(\"year\", \"City\") \\\n",
    "        .agg(min(\"mintempC\").alias(\"min_temp\")) \\\n",
    "        .withColumn(\"rank\", \n",
    "            F.row_number().over(Window.partitionBy(\"year\").orderBy(\"min_temp\"))\n",
    "        ).filter(col(\"rank\") == 1).drop(\"rank\")\n",
    "    \n",
    "    # Save Delta table\n",
    "    coolest_city.write.format(\"delta\").mode(\"overwrite\").saveAsTable(f\"{gold_base_path}.coolest_city\")\n",
    "    \n",
    "    # -------------------------\n",
    "    # Year-wise hottest city (max temp)\n",
    "    # -------------------------\n",
    "    hottest_city = df_yearly.groupBy(\"year\", \"City\") \\\n",
    "        .agg(max(\"maxtempC\").alias(\"max_temp\")) \\\n",
    "        .withColumn(\"rank\", \n",
    "            F.row_number().over(Window.partitionBy(\"year\").orderBy(col(\"max_temp\").desc()))\n",
    "        ).filter(col(\"rank\") == 1).drop(\"rank\")\n",
    "    \n",
    "    hottest_city.write.format(\"delta\").mode(\"overwrite\").saveAsTable(f\"{gold_base_path}.hottest_city\")\n",
    "\n",
    "    # -------------------------\n",
    "    # Year-wise rainiest city (sum of precipitation)\n",
    "    # -------------------------\n",
    "    rainiest_city = df_yearly.groupBy(\"year\", \"City\") \\\n",
    "        .agg(sum(\"precipMM\").alias(\"total_rain\")) \\\n",
    "        .withColumn(\"rank\", \n",
    "            F.row_number().over(Window.partitionBy(\"year\").orderBy(col(\"total_rain\").desc()))\n",
    "        ).filter(col(\"rank\") == 1).drop(\"rank\")\n",
    "    \n",
    "    rainiest_city.write.format(\"delta\").mode(\"overwrite\").saveAsTable(f\"{gold_base_path}.rainiest_city\")\n",
    "\n",
    "    # -------------------------\n",
    "    # Year-wise most humid city (avg humidity)\n",
    "    # -------------------------\n",
    "    most_humid_city = df_yearly.groupBy(\"year\", \"City\") \\\n",
    "        .agg(avg(\"humidity\").alias(\"avg_humidity\")) \\\n",
    "        .withColumn(\"rank\", \n",
    "            F.row_number().over(Window.partitionBy(\"year\").orderBy(col(\"avg_humidity\").desc()))\n",
    "        ).filter(col(\"rank\") == 1).drop(\"rank\")\n",
    "    \n",
    "    most_humid_city.write.format(\"delta\").mode(\"overwrite\").saveAsTable(f\"{gold_base_path}.most_humid_city\")\n",
    "\n",
    "    # -------------------------\n",
    "    # Year-wise sunniest city (avg sunHour)\n",
    "    # -------------------------\n",
    "    sunniest_city = df_yearly.groupBy(\"year\", \"City\") \\\n",
    "        .agg(avg(\"sunHour\").alias(\"avg_sunHour\")) \\\n",
    "        .withColumn(\"rank\", \n",
    "            F.row_number().over(Window.partitionBy(\"year\").orderBy(col(\"avg_sunHour\").desc()))\n",
    "        ).filter(col(\"rank\") == 1).drop(\"rank\")\n",
    "    \n",
    "    sunniest_city.write.format(\"delta\").mode(\"overwrite\").saveAsTable(f\"{gold_base_path}.sunniest_city\")\n",
    "\n",
    "    # -------------------------\n",
    "    # Year-wise windiest city (avg windspeed)\n",
    "    # -------------------------\n",
    "    windiest_city = df_yearly.groupBy(\"year\", \"City\") \\\n",
    "        .agg(avg(\"windspeedKmph\").alias(\"avg_wind\")) \\\n",
    "        .withColumn(\"rank\", \n",
    "            F.row_number().over(Window.partitionBy(\"year\").orderBy(col(\"avg_wind\").desc()))\n",
    "        ).filter(col(\"rank\") == 1).drop(\"rank\")\n",
    "    \n",
    "    windiest_city.write.format(\"delta\").mode(\"overwrite\").saveAsTable(f\"{gold_base_path}.windiest_city\")\n",
    "\n",
    "    # -------------------------\n",
    "    # Display results\n",
    "    # -------------------------\n",
    "    display(coolest_city)\n",
    "    display(hottest_city)\n",
    "    display(rainiest_city)\n",
    "    display(most_humid_city)\n",
    "    display(sunniest_city)\n",
    "    display(windiest_city)\n",
    "\n",
    "    # -------------------------\n",
    "    # Slack success notification\n",
    "    # -------------------------\n",
    "    send_slack_message(\" Year-wise city-level weather insights computed and saved to Gold layer successfully.\", level=\"INFO\")\n",
    "\n",
    "except Exception as e:\n",
    "    try:\n",
    "        send_slack_message(f\" Error during year-wise city-level ETL: {str(e)}\", level=\"ERROR\")\n",
    "    except Exception as slack_err:\n",
    "        print(f\" Slack notification failed: {slack_err}\")\n",
    "    raise\n"
   ]
  },
  {
   "cell_type": "code",
   "execution_count": 0,
   "metadata": {
    "application/vnd.databricks.v1+cell": {
     "cellMetadata": {},
     "inputWidgets": {},
     "nuid": "e1a121d9-1e0e-44ae-b8ca-c0f25b746ca4",
     "showTitle": false,
     "tableResultSettingsMap": {},
     "title": ""
    }
   },
   "outputs": [],
   "source": []
  }
 ],
 "metadata": {
  "application/vnd.databricks.v1+notebook": {
   "computePreferences": null,
   "dashboards": [
    {
     "elements": [],
     "globalVars": {},
     "guid": "",
     "layoutOption": {
      "grid": true,
      "stack": true
     },
     "nuid": "bd33d84b-cae9-4577-840f-2a6e9df4c34d",
     "origId": 8755736637179637,
     "title": "Dashboards",
     "version": "DashboardViewV1",
     "width": 1024
    }
   ],
   "environmentMetadata": {
    "base_environment": "",
    "environment_version": "3"
   },
   "inputWidgetPreferences": null,
   "language": "python",
   "notebookMetadata": {
    "mostRecentlyExecutedCommandWithImplicitDF": {
     "commandId": 4605845551887244,
     "dataframes": [
      "_sqldf"
     ]
    },
    "pythonIndentUnit": 4
   },
   "notebookName": "Gold_Layer",
   "widgets": {}
  },
  "language_info": {
   "name": "python"
  }
 },
 "nbformat": 4,
 "nbformat_minor": 0
}
