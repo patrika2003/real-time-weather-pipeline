{
 "cells": [
  {
   "cell_type": "code",
   "execution_count": 0,
   "metadata": {
    "application/vnd.databricks.v1+cell": {
     "cellMetadata": {
      "byteLimit": 2048000,
      "rowLimit": 10000
     },
     "inputWidgets": {},
     "nuid": "77abe952-c663-44e0-acad-cb42bfb88a01",
     "showTitle": false,
     "tableResultSettingsMap": {},
     "title": ""
    }
   },
   "outputs": [],
   "source": [
    "%run /Workspace/Users/sireeshabyreddy96@gmail.com/real-time-weather-pipeline/Medalian_notebooks/Slack_utils"
   ]
  },
  {
   "cell_type": "code",
   "execution_count": 0,
   "metadata": {
    "application/vnd.databricks.v1+cell": {
     "cellMetadata": {
      "byteLimit": 2048000,
      "rowLimit": 10000
     },
     "inputWidgets": {},
     "nuid": "92b7876e-8d38-4c67-8c89-116f679745ff",
     "showTitle": false,
     "tableResultSettingsMap": {},
     "title": ""
    }
   },
   "outputs": [],
   "source": [
    "from pyspark.sql.functions import (\n",
    "    col, avg, min, max, count, to_date, hour, desc\n",
    ")"
   ]
  },
  {
   "cell_type": "code",
   "execution_count": 0,
   "metadata": {
    "application/vnd.databricks.v1+cell": {
     "cellMetadata": {
      "byteLimit": 2048000,
      "rowLimit": 10000
     },
     "inputWidgets": {},
     "nuid": "29b219da-e335-4397-b8eb-e087843a035c",
     "showTitle": false,
     "tableResultSettingsMap": {},
     "title": ""
    }
   },
   "outputs": [
    {
     "output_type": "display_data",
     "data": {
      "text/plain": [
       "Databricks visualization. Run in Databricks to view."
      ]
     },
     "metadata": {
      "application/vnd.databricks.v1.subcommand+json": {
       "baseErrorDetails": null,
       "bindings": {},
       "collapsed": false,
       "command": "%python\n__backend_agg_display_orig = display\n__backend_agg_dfs = []\ndef __backend_agg_display_new(df):\n    __backend_agg_df_modules = [\"pandas.core.frame\", \"databricks.koalas.frame\", \"pyspark.sql.dataframe\", \"pyspark.pandas.frame\", \"pyspark.sql.connect.dataframe\"]\n    if (type(df).__module__ in __backend_agg_df_modules and type(df).__name__ == 'DataFrame') or isinstance(df, list):\n        __backend_agg_dfs.append(df)\n\ndisplay = __backend_agg_display_new\n\ndef __backend_agg_user_code_fn():\n    import base64\n    exec(base64.standard_b64decode(\"ZnJvbSBweXNwYXJrLnNxbC51dGlscyBpbXBvcnQgQW5hbHlzaXNFeGNlcHRpb24KCnNpbHZlcl90YWJsZSA9ICJ3ZWF0aGVyX2NhdGFsb2cucmF3LnNpbHZlcl90YWJsZSIKCnRyeToKICAgICMgVHJ5IHJlYWRpbmcgdGhlIHNpbHZlciB0YWJsZQogICAgZGZfc2lsdmVyID0gc3BhcmsudGFibGUoc2lsdmVyX3RhYmxlKQogICAgZGlzcGxheShkZl9zaWx2ZXIpCiAgICBzZW5kX3NsYWNrX21lc3NhZ2UoZiIgU3VjY2Vzc2Z1bGx5IGxvYWRlZCB0YWJsZToge3NpbHZlcl90YWJsZX0iLCBsZXZlbD0iSU5GTyIpCgogICAgIyBDb3VudCByb3dzCiAgICByb3dfY291bnQgPSBkZl9zaWx2ZXIuY291bnQoKQogICAgc2VuZF9zbGFja19tZXNzYWdlKGYiIFJvdyBjb3VudCBmb3Ige3NpbHZlcl90YWJsZX06IHtyb3dfY291bnR9IiwgbGV2ZWw9IklORk8iKQogICAgcHJpbnQoZiJSb3cgY291bnQgaW4ge3NpbHZlcl90YWJsZX06IHtyb3dfY291bnR9IikKCmV4Y2VwdCBBbmFseXNpc0V4Y2VwdGlvbiBhcyBhZToKICAgIHNlbmRfc2xhY2tfbWVzc2FnZShmIiBUYWJsZSB7c2lsdmVyX3RhYmxlfSBub3QgZm91bmQgb3IgaW52YWxpZDoge2FlfSIsIGxldmVsPSJFUlJPUiIpCiAgICBkZl9zaWx2ZXIgPSBOb25lICAgIyBGYWxsYmFjayBoYW5kbGluZwoKZXhjZXB0IEV4Y2VwdGlvbiBhcyBlOgogICAgc2VuZF9zbGFja19tZXNzYWdlKGYiIFVuZXhwZWN0ZWQgZXJyb3Igd2hpbGUgcmVhZGluZyB7c2lsdmVyX3RhYmxlfToge2V9IiwgbGV2ZWw9IkVSUk9SIikKICAgIGRmX3NpbHZlciA9IE5vbmUgICAjIEZhbGxiYWNrIGhhbmRsaW5nCgppZiBkZl9zaWx2ZXI6CiAgICBkZl9zaWx2ZXIucHJpbnRTY2hlbWEoKQogICAgZGlzcGxheShkZl9zaWx2ZXIpCmRmX3NpbHZlci5jb3VudCgp\").decode())\n\ntry:\n    # run user code\n    __backend_agg_user_code_fn()\n\n    #reset display function\n    display = __backend_agg_display_orig\n\n    if len(__backend_agg_dfs) > 0:\n        # create a temp view\n        if type(__backend_agg_dfs[0]).__module__ == \"databricks.koalas.frame\":\n            # koalas dataframe\n            __backend_agg_dfs[0].to_spark().createOrReplaceTempView(\"DatabricksViewac64977\")\n        elif type(__backend_agg_dfs[0]).__module__ == \"pandas.core.frame\" or isinstance(__backend_agg_dfs[0], list):\n            # pandas dataframe\n            spark.createDataFrame(__backend_agg_dfs[0]).createOrReplaceTempView(\"DatabricksViewac64977\")\n        else:\n            __backend_agg_dfs[0].createOrReplaceTempView(\"DatabricksViewac64977\")\n        #run backend agg\n        display(spark.sql(\"\"\"WITH q AS (select * from DatabricksViewac64977) SELECT `tempC`,MAX(`humidity`) `column_e170a15c163` FROM q GROUP BY `tempC`\"\"\"))\n    else:\n        displayHTML(\"dataframe no longer exists. If you're using dataframe.display(), use display(dataframe) instead.\")\n\n\nfinally:\n    spark.sql(\"drop view if exists DatabricksViewac64977\")\n    display = __backend_agg_display_orig\n    del __backend_agg_display_new\n    del __backend_agg_display_orig\n    del __backend_agg_dfs\n    del __backend_agg_user_code_fn\n\n",
       "commandTitle": "Visualization 1",
       "commandType": "auto",
       "commandVersion": 0,
       "commentThread": [],
       "commentsVisible": false,
       "contentSha256Hex": null,
       "customPlotOptions": {
        "redashChart": [
         {
          "key": "type",
          "value": "CHART"
         },
         {
          "key": "options",
          "value": {
           "alignYAxesAtZero": true,
           "coefficient": 1,
           "columnConfigurationMap": {
            "x": {
             "column": "tempC",
             "id": "column_e170a15c157"
            },
            "y": [
             {
              "column": "humidity",
              "id": "column_e170a15c163",
              "transform": "MAX"
             }
            ]
           },
           "dateTimeFormat": "DD/MM/YYYY HH:mm",
           "direction": {
            "type": "counterclockwise"
           },
           "error_y": {
            "type": "data",
            "visible": true
           },
           "globalSeriesType": "line",
           "isAggregationOn": true,
           "legend": {
            "traceorder": "normal"
           },
           "missingValuesAsZero": true,
           "numberFormat": "0,0.[00000]",
           "percentFormat": "0[.]00%",
           "series": {
            "error_y": {
             "type": "data",
             "visible": true
            },
            "stacking": null
           },
           "seriesOptions": {
            "column_e170a15c160": {
             "type": "line",
             "yAxis": 0
            },
            "column_e170a15c163": {
             "type": "line",
             "yAxis": 0
            }
           },
           "showDataLabels": false,
           "sizemode": "diameter",
           "sortX": true,
           "sortY": true,
           "swappedAxes": false,
           "textFormat": "",
           "useAggregationsUi": true,
           "valuesOptions": {},
           "version": 2,
           "xAxis": {
            "labels": {
             "enabled": true
            },
            "type": "-"
           },
           "yAxis": [
            {
             "type": "-"
            },
            {
             "opposite": true,
             "type": "-"
            }
           ]
          }
         }
        ]
       },
       "datasetPreviewNameToCmdIdMap": {},
       "diffDeletes": [],
       "diffInserts": [],
       "displayType": "redashChart",
       "error": null,
       "errorDetails": null,
       "errorSummary": null,
       "errorTraceType": null,
       "finishTime": 0,
       "globalVars": {},
       "guid": "",
       "height": "auto",
       "hideCommandCode": false,
       "hideCommandResult": false,
       "iPythonMetadata": null,
       "inputWidgets": {},
       "isLockedInExamMode": false,
       "latestUser": "a user",
       "latestUserId": null,
       "listResultMetadata": null,
       "metadata": {
        "byteLimit": 2048000,
        "rowLimit": 10000
       },
       "nuid": "66d4e148-aac2-43e4-8367-e5730da4c1bd",
       "origId": 0,
       "parentHierarchy": [],
       "pivotAggregation": null,
       "pivotColumns": null,
       "position": 3.0,
       "resultDbfsErrorMessage": null,
       "resultDbfsStatus": "INLINED_IN_TREE",
       "results": null,
       "showCommandTitle": false,
       "startTime": 0,
       "state": "input",
       "streamStates": {},
       "subcommandOptions": {
        "queryPlan": {
         "groups": [
          {
           "column": "tempC",
           "type": "column"
          }
         ],
         "selects": [
          {
           "column": "tempC",
           "type": "column"
          },
          {
           "alias": "column_e170a15c163",
           "args": [
            {
             "column": "humidity",
             "type": "column"
            }
           ],
           "function": "MAX",
           "type": "function"
          }
         ]
        }
       },
       "submitTime": 0,
       "subtype": "tableResultSubCmd.visualization",
       "tableResultIndex": 0,
       "tableResultSettingsMap": {},
       "useConsistentColors": false,
       "version": "CommandV1",
       "width": "auto",
       "workflows": null,
       "xColumns": null,
       "yColumns": null
      }
     },
     "output_type": "display_data"
    }
   ],
   "source": [
    "from pyspark.sql.functions import col, when\n",
    "from pyspark.sql.types import DoubleType\n",
    "from pyspark.sql.utils import AnalysisException\n",
    "\n",
    "silver_table = \"weather_catalog.raw.silver_table\"\n",
    "checkpoint_path = \"s3://weather-streaming-proj-bucket/checkpoints\"\n",
    "\n",
    "try:\n",
    "    # Read Silver table as streaming\n",
    "    df_silver = spark.readStream.format(\"delta\").table(silver_table)\n",
    "    display(df_silver)\n",
    "\n",
    "    # Count rows (batch read for monitoring)\n",
    "    row_count = spark.table(silver_table).count()\n",
    "    print(f\"Row count in {silver_table}: {row_count}\")\n",
    "\n",
    "except AnalysisException as ae:\n",
    "    print(f\"Table {silver_table} not found or invalid: {ae}\")\n",
    "    df_silver = None\n",
    "\n",
    "except Exception as e:\n",
    "    print(f\"Unexpected error while reading {silver_table}: {e}\")\n",
    "    df_silver = None\n",
    "\n",
    "if df_silver:\n",
    "    df_silver.printSchema()\n",
    "    display(df_silver)\n",
    "\n",
    "    # Start streaming query to print data to console\n",
    "    query = (\n",
    "        df_silver.writeStream\n",
    "        .format(\"console\")\n",
    "        .option(\"checkpointLocation\", checkpoint_path)\n",
    "        .option(\"skipChangeCommits\", \"true\")\n",
    "        .start()\n",
    "    )\n",
    "    query.awaitTermination()"
   ]
  },
  {
   "cell_type": "code",
   "execution_count": 0,
   "metadata": {
    "application/vnd.databricks.v1+cell": {
     "cellMetadata": {
      "byteLimit": 2048000,
      "rowLimit": 10000
     },
     "inputWidgets": {},
     "nuid": "321e51ae-ab22-40dd-af54-55e8b617e9ce",
     "showTitle": false,
     "tableResultSettingsMap": {},
     "title": ""
    }
   },
   "outputs": [
    {
     "output_type": "display_data",
     "data": {
      "text/plain": [
       "Databricks visualization. Run in Databricks to view."
      ]
     },
     "metadata": {
      "application/vnd.databricks.v1.subcommand+json": {
       "baseErrorDetails": null,
       "bindings": {},
       "collapsed": false,
       "command": "%python\n__backend_agg_display_orig = display\n__backend_agg_dfs = []\ndef __backend_agg_display_new(df):\n    __backend_agg_df_modules = [\"pandas.core.frame\", \"databricks.koalas.frame\", \"pyspark.sql.dataframe\", \"pyspark.pandas.frame\", \"pyspark.sql.connect.dataframe\"]\n    if (type(df).__module__ in __backend_agg_df_modules and type(df).__name__ == 'DataFrame') or isinstance(df, list):\n        __backend_agg_dfs.append(df)\n\ndisplay = __backend_agg_display_new\n\ndef __backend_agg_user_code_fn():\n    import base64\n    exec(base64.standard_b64decode(\"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\").decode())\n\ntry:\n    # run user code\n    __backend_agg_user_code_fn()\n\n    #reset display function\n    display = __backend_agg_display_orig\n\n    if len(__backend_agg_dfs) > 0:\n        # create a temp view\n        if type(__backend_agg_dfs[0]).__module__ == \"databricks.koalas.frame\":\n            # koalas dataframe\n            __backend_agg_dfs[0].to_spark().createOrReplaceTempView(\"DatabricksView0127766\")\n        elif type(__backend_agg_dfs[0]).__module__ == \"pandas.core.frame\" or isinstance(__backend_agg_dfs[0], list):\n            # pandas dataframe\n            spark.createDataFrame(__backend_agg_dfs[0]).createOrReplaceTempView(\"DatabricksView0127766\")\n        else:\n            __backend_agg_dfs[0].createOrReplaceTempView(\"DatabricksView0127766\")\n        #run backend agg\n        display(spark.sql(\"\"\"WITH q AS (select * from DatabricksView0127766) SELECT `year`,SUM(`precipMM_avg`) `column_2f51c49e95` FROM q GROUP BY `year`\"\"\"))\n    else:\n        displayHTML(\"dataframe no longer exists. If you're using dataframe.display(), use display(dataframe) instead.\")\n\n\nfinally:\n    spark.sql(\"drop view if exists DatabricksView0127766\")\n    display = __backend_agg_display_orig\n    del __backend_agg_display_new\n    del __backend_agg_display_orig\n    del __backend_agg_dfs\n    del __backend_agg_user_code_fn\n\n",
       "commandTitle": "Average precipitation per yea",
       "commandType": "auto",
       "commandVersion": 0,
       "commentThread": [],
       "commentsVisible": false,
       "contentSha256Hex": null,
       "customPlotOptions": {
        "redashChart": [
         {
          "key": "type",
          "value": "CHART"
         },
         {
          "key": "options",
          "value": {
           "alignYAxesAtZero": true,
           "coefficient": 1,
           "columnConfigurationMap": {
            "x": {
             "column": "year",
             "id": "column_2f51c49e93"
            },
            "y": [
             {
              "column": "precipMM_avg",
              "id": "column_2f51c49e95",
              "transform": "SUM"
             }
            ]
           },
           "dateTimeFormat": "DD/MM/YYYY HH:mm",
           "direction": {
            "type": "counterclockwise"
           },
           "error_y": {
            "type": "data",
            "visible": true
           },
           "globalSeriesType": "column",
           "isAggregationOn": true,
           "legend": {
            "traceorder": "normal"
           },
           "missingValuesAsZero": true,
           "numberFormat": "0,0.[00000]",
           "percentFormat": "0[.]00%",
           "series": {
            "error_y": {
             "type": "data",
             "visible": true
            },
            "stacking": null
           },
           "seriesOptions": {
            "column_2f51c49e95": {
             "type": "column",
             "yAxis": 0
            }
           },
           "showDataLabels": false,
           "sizemode": "diameter",
           "sortX": true,
           "sortY": true,
           "swappedAxes": false,
           "textFormat": "",
           "useAggregationsUi": true,
           "valuesOptions": {},
           "version": 2,
           "xAxis": {
            "labels": {
             "enabled": true
            },
            "type": "-"
           },
           "yAxis": [
            {
             "type": "-"
            },
            {
             "opposite": true,
             "type": "-"
            }
           ]
          }
         }
        ]
       },
       "datasetPreviewNameToCmdIdMap": {},
       "diffDeletes": [],
       "diffInserts": [],
       "displayType": "redashChart",
       "error": null,
       "errorDetails": null,
       "errorSummary": null,
       "errorTraceType": null,
       "finishTime": 0,
       "globalVars": {},
       "guid": "",
       "height": "auto",
       "hideCommandCode": false,
       "hideCommandResult": false,
       "iPythonMetadata": null,
       "inputWidgets": {},
       "isLockedInExamMode": false,
       "latestUser": "a user",
       "latestUserId": null,
       "listResultMetadata": null,
       "metadata": {},
       "nuid": "7cc1272b-19d8-4a10-95d5-8fe244f61f7b",
       "origId": 0,
       "parentHierarchy": [],
       "pivotAggregation": null,
       "pivotColumns": null,
       "position": 4.0,
       "resultDbfsErrorMessage": null,
       "resultDbfsStatus": "INLINED_IN_TREE",
       "results": null,
       "showCommandTitle": false,
       "startTime": 0,
       "state": "input",
       "streamStates": {},
       "subcommandOptions": {
        "queryPlan": {
         "groups": [
          {
           "column": "year",
           "type": "column"
          }
         ],
         "selects": [
          {
           "column": "year",
           "type": "column"
          },
          {
           "alias": "column_2f51c49e95",
           "args": [
            {
             "column": "precipMM_avg",
             "type": "column"
            }
           ],
           "function": "SUM",
           "type": "function"
          }
         ]
        }
       },
       "submitTime": 0,
       "subtype": "tableResultSubCmd.visualization",
       "tableResultIndex": 0,
       "tableResultSettingsMap": {},
       "useConsistentColors": false,
       "version": "CommandV1",
       "width": "auto",
       "workflows": null,
       "xColumns": null,
       "yColumns": null
      }
     },
     "output_type": "display_data"
    },
    {
     "output_type": "display_data",
     "data": {
      "text/plain": [
       "Databricks visualization. Run in Databricks to view."
      ]
     },
     "metadata": {
      "application/vnd.databricks.v1.subcommand+json": {
       "baseErrorDetails": null,
       "bindings": {},
       "collapsed": false,
       "command": "%python\n__backend_agg_display_orig = display\n__backend_agg_dfs = []\ndef __backend_agg_display_new(df):\n    __backend_agg_df_modules = [\"pandas.core.frame\", \"databricks.koalas.frame\", \"pyspark.sql.dataframe\", \"pyspark.pandas.frame\", \"pyspark.sql.connect.dataframe\"]\n    if (type(df).__module__ in __backend_agg_df_modules and type(df).__name__ == 'DataFrame') or isinstance(df, list):\n        __backend_agg_dfs.append(df)\n\ndisplay = __backend_agg_display_new\n\ndef __backend_agg_user_code_fn():\n    import base64\n    exec(base64.standard_b64decode(\"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\").decode())\n\ntry:\n    # run user code\n    __backend_agg_user_code_fn()\n\n    #reset display function\n    display = __backend_agg_display_orig\n\n    if len(__backend_agg_dfs) > 1:\n        # create a temp view\n        if type(__backend_agg_dfs[1]).__module__ == \"databricks.koalas.frame\":\n            # koalas dataframe\n            __backend_agg_dfs[1].to_spark().createOrReplaceTempView(\"DatabricksView13e9e6f\")\n        elif type(__backend_agg_dfs[1]).__module__ == \"pandas.core.frame\" or isinstance(__backend_agg_dfs[1], list):\n            # pandas dataframe\n            spark.createDataFrame(__backend_agg_dfs[1]).createOrReplaceTempView(\"DatabricksView13e9e6f\")\n        else:\n            __backend_agg_dfs[1].createOrReplaceTempView(\"DatabricksView13e9e6f\")\n        #run backend agg\n        display(spark.sql(\"\"\"WITH q AS (select * from DatabricksView13e9e6f) SELECT `month`,`year`,SUM(`maxtempC_avg`) `column_2f51c49e100` FROM q GROUP BY `month`,`year`\"\"\"))\n    else:\n        displayHTML(\"dataframe no longer exists. If you're using dataframe.display(), use display(dataframe) instead.\")\n\n\nfinally:\n    spark.sql(\"drop view if exists DatabricksView13e9e6f\")\n    display = __backend_agg_display_orig\n    del __backend_agg_display_new\n    del __backend_agg_display_orig\n    del __backend_agg_dfs\n    del __backend_agg_user_code_fn\n\n",
       "commandTitle": "Seasonal trend analysis",
       "commandType": "auto",
       "commandVersion": 0,
       "commentThread": [],
       "commentsVisible": false,
       "contentSha256Hex": null,
       "customPlotOptions": {
        "redashChart": [
         {
          "key": "type",
          "value": "CHART"
         },
         {
          "key": "options",
          "value": {
           "alignYAxesAtZero": true,
           "coefficient": 1,
           "columnConfigurationMap": {
            "x": {
             "column": "month",
             "id": "column_2f51c49e97"
            },
            "y": [
             {
              "column": "year",
              "id": "column_2f51c49e98"
             }
            ],
            "zVal": {
             "column": "maxtempC_avg",
             "id": "column_2f51c49e100",
             "transform": "SUM"
            }
           },
           "dateTimeFormat": "DD/MM/YYYY HH:mm",
           "direction": {
            "type": "counterclockwise"
           },
           "error_y": {
            "type": "data",
            "visible": true
           },
           "globalSeriesType": "heatmap",
           "isAggregationOn": true,
           "legend": {
            "traceorder": "normal"
           },
           "missingValuesAsZero": true,
           "numberFormat": "0,0.[00000]",
           "percentFormat": "0[.]00%",
           "series": {
            "error_y": {
             "type": "data",
             "visible": true
            },
            "stacking": null
           },
           "seriesOptions": {
            "column_2f51c49e98": {
             "type": "heatmap",
             "yAxis": 0
            }
           },
           "showDataLabels": false,
           "sizemode": "diameter",
           "sortX": true,
           "sortY": true,
           "swappedAxes": false,
           "textFormat": "",
           "useAggregationsUi": true,
           "valuesOptions": {},
           "version": 2,
           "xAxis": {
            "labels": {
             "enabled": true
            },
            "type": "-"
           },
           "yAxis": [
            {
             "type": "-"
            },
            {
             "opposite": true,
             "type": "-"
            }
           ]
          }
         }
        ]
       },
       "datasetPreviewNameToCmdIdMap": {},
       "diffDeletes": [],
       "diffInserts": [],
       "displayType": "redashChart",
       "error": null,
       "errorDetails": null,
       "errorSummary": null,
       "errorTraceType": null,
       "finishTime": 0,
       "globalVars": {},
       "guid": "",
       "height": "auto",
       "hideCommandCode": false,
       "hideCommandResult": false,
       "iPythonMetadata": null,
       "inputWidgets": {},
       "isLockedInExamMode": false,
       "latestUser": "a user",
       "latestUserId": null,
       "listResultMetadata": null,
       "metadata": {},
       "nuid": "943bace3-9bca-4fd2-b4c0-9d4dd6facaca",
       "origId": 0,
       "parentHierarchy": [],
       "pivotAggregation": null,
       "pivotColumns": null,
       "position": 4.0,
       "resultDbfsErrorMessage": null,
       "resultDbfsStatus": "INLINED_IN_TREE",
       "results": null,
       "showCommandTitle": false,
       "startTime": 0,
       "state": "input",
       "streamStates": {},
       "subcommandOptions": {
        "queryPlan": {
         "groups": [
          {
           "column": "month",
           "type": "column"
          },
          {
           "column": "year",
           "type": "column"
          }
         ],
         "selects": [
          {
           "column": "month",
           "type": "column"
          },
          {
           "column": "year",
           "type": "column"
          },
          {
           "alias": "column_2f51c49e100",
           "args": [
            {
             "column": "maxtempC_avg",
             "type": "column"
            }
           ],
           "function": "SUM",
           "type": "function"
          }
         ]
        }
       },
       "submitTime": 0,
       "subtype": "tableResultSubCmd.visualization",
       "tableResultIndex": 1,
       "tableResultSettingsMap": {},
       "useConsistentColors": false,
       "version": "CommandV1",
       "width": "auto",
       "workflows": null,
       "xColumns": null,
       "yColumns": null
      }
     },
     "output_type": "display_data"
    },
    {
     "output_type": "display_data",
     "data": {
      "text/plain": [
       "Databricks visualization. Run in Databricks to view."
      ]
     },
     "metadata": {
      "application/vnd.databricks.v1.subcommand+json": {
       "baseErrorDetails": null,
       "bindings": {},
       "collapsed": false,
       "command": "%python\n__backend_agg_display_orig = display\n__backend_agg_dfs = []\ndef __backend_agg_display_new(df):\n    __backend_agg_df_modules = [\"pandas.core.frame\", \"databricks.koalas.frame\", \"pyspark.sql.dataframe\", \"pyspark.pandas.frame\", \"pyspark.sql.connect.dataframe\"]\n    if (type(df).__module__ in __backend_agg_df_modules and type(df).__name__ == 'DataFrame') or isinstance(df, list):\n        __backend_agg_dfs.append(df)\n\ndisplay = __backend_agg_display_new\n\ndef __backend_agg_user_code_fn():\n    import base64\n    exec(base64.standard_b64decode(\"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\").decode())\n\ntry:\n    # run user code\n    __backend_agg_user_code_fn()\n\n    #reset display function\n    display = __backend_agg_display_orig\n\n    if len(__backend_agg_dfs) > 2:\n        # create a temp view\n        if type(__backend_agg_dfs[2]).__module__ == \"databricks.koalas.frame\":\n            # koalas dataframe\n            __backend_agg_dfs[2].to_spark().createOrReplaceTempView(\"DatabricksView9743457\")\n        elif type(__backend_agg_dfs[2]).__module__ == \"pandas.core.frame\" or isinstance(__backend_agg_dfs[2], list):\n            # pandas dataframe\n            spark.createDataFrame(__backend_agg_dfs[2]).createOrReplaceTempView(\"DatabricksView9743457\")\n        else:\n            __backend_agg_dfs[2].createOrReplaceTempView(\"DatabricksView9743457\")\n        #run backend agg\n        display(spark.sql(\"\"\"WITH q AS (select * from DatabricksView9743457) SELECT `year`,SUM(`precipMM_avg`) `column_2f51c49e104` FROM q GROUP BY `year`\"\"\"))\n    else:\n        displayHTML(\"dataframe no longer exists. If you're using dataframe.display(), use display(dataframe) instead.\")\n\n\nfinally:\n    spark.sql(\"drop view if exists DatabricksView9743457\")\n    display = __backend_agg_display_orig\n    del __backend_agg_display_new\n    del __backend_agg_display_orig\n    del __backend_agg_dfs\n    del __backend_agg_user_code_fn\n\n",
       "commandTitle": "Weekly rainfall",
       "commandType": "auto",
       "commandVersion": 0,
       "commentThread": [],
       "commentsVisible": false,
       "contentSha256Hex": null,
       "customPlotOptions": {
        "redashChart": [
         {
          "key": "type",
          "value": "CHART"
         },
         {
          "key": "options",
          "value": {
           "alignYAxesAtZero": true,
           "coefficient": 1,
           "columnConfigurationMap": {
            "x": {
             "column": "year",
             "id": "column_2f51c49e102"
            },
            "y": [
             {
              "column": "precipMM_avg",
              "id": "column_2f51c49e104",
              "transform": "SUM"
             }
            ]
           },
           "dateTimeFormat": "DD/MM/YYYY HH:mm",
           "direction": {
            "type": "counterclockwise"
           },
           "error_y": {
            "type": "data",
            "visible": true
           },
           "globalSeriesType": "area",
           "isAggregationOn": true,
           "legend": {
            "traceorder": "normal"
           },
           "missingValuesAsZero": true,
           "numberFormat": "0,0.[00000]",
           "percentFormat": "0[.]00%",
           "series": {
            "error_y": {
             "type": "data",
             "visible": true
            },
            "stacking": null
           },
           "seriesOptions": {
            "column_2f51c49e104": {
             "type": "area",
             "yAxis": 0
            }
           },
           "showDataLabels": false,
           "sizemode": "diameter",
           "sortX": true,
           "sortY": true,
           "swappedAxes": false,
           "textFormat": "",
           "useAggregationsUi": true,
           "valuesOptions": {},
           "version": 2,
           "xAxis": {
            "labels": {
             "enabled": true
            },
            "type": "-"
           },
           "yAxis": [
            {
             "type": "-"
            },
            {
             "opposite": true,
             "type": "-"
            }
           ]
          }
         }
        ]
       },
       "datasetPreviewNameToCmdIdMap": {},
       "diffDeletes": [],
       "diffInserts": [],
       "displayType": "redashChart",
       "error": null,
       "errorDetails": null,
       "errorSummary": null,
       "errorTraceType": null,
       "finishTime": 0,
       "globalVars": {},
       "guid": "",
       "height": "auto",
       "hideCommandCode": false,
       "hideCommandResult": false,
       "iPythonMetadata": null,
       "inputWidgets": {},
       "isLockedInExamMode": false,
       "latestUser": "a user",
       "latestUserId": null,
       "listResultMetadata": null,
       "metadata": {},
       "nuid": "07141a60-3853-4d71-a948-0cf89f493a49",
       "origId": 0,
       "parentHierarchy": [],
       "pivotAggregation": null,
       "pivotColumns": null,
       "position": 4.0,
       "resultDbfsErrorMessage": null,
       "resultDbfsStatus": "INLINED_IN_TREE",
       "results": null,
       "showCommandTitle": false,
       "startTime": 0,
       "state": "input",
       "streamStates": {},
       "subcommandOptions": {
        "queryPlan": {
         "groups": [
          {
           "column": "year",
           "type": "column"
          }
         ],
         "selects": [
          {
           "column": "year",
           "type": "column"
          },
          {
           "alias": "column_2f51c49e104",
           "args": [
            {
             "column": "precipMM_avg",
             "type": "column"
            }
           ],
           "function": "SUM",
           "type": "function"
          }
         ]
        }
       },
       "submitTime": 0,
       "subtype": "tableResultSubCmd.visualization",
       "tableResultIndex": 2,
       "tableResultSettingsMap": {},
       "useConsistentColors": false,
       "version": "CommandV1",
       "width": "auto",
       "workflows": null,
       "xColumns": null,
       "yColumns": null
      }
     },
     "output_type": "display_data"
    }
   ],
   "source": [
    "from pyspark.sql import functions as F\n",
    "\n",
    "silver_table = \"weather_catalog.raw.silver_table\"\n",
    "\n",
    "\n",
    "def safe_slack(msg, level=\"INFO\"):\n",
    "    \"\"\"Send Slack message safely without breaking ETL\"\"\"\n",
    "    try:\n",
    "        send_slack_message(msg, level)\n",
    "    except Exception as slack_err:\n",
    "        print(f\"⚠️ Slack notification failed: {slack_err}\")\n",
    "\n",
    "try:\n",
    "    # -------------------------\n",
    "    # Read Silver Layer as STREAM\n",
    "    # -------------------------\n",
    "    df_silver = spark.readStream.format(\"delta\").table(silver_table)\n",
    "    safe_slack(f\"Successfully started streaming from table: {silver_table}\", level=\"INFO\")\n",
    "\n",
    "    # -------------------------\n",
    "    # Ensure date column is proper\n",
    "    # -------------------------\n",
    "    df_silver = df_silver.withColumn(\"date\", F.to_date(\"date_time\", \"dd-MM-yyyy HH:mm\"))\n",
    "\n",
    "    # -------------------------\n",
    "    # Extract time dimensions\n",
    "    # -------------------------\n",
    "    df_silver = df_silver.withColumn(\"year\", F.year(\"date\")) \\\n",
    "                         .withColumn(\"month\", F.month(\"date\")) \\\n",
    "                         .withColumn(\"week\", F.weekofyear(\"date\"))\n",
    "\n",
    "    # -------------------------\n",
    "    # Select numeric columns for aggregation\n",
    "    # -------------------------\n",
    "    metrics = [\n",
    "        \"maxtempC\", \"mintempC\", \"tempC\", \"humidity\", \"pressure\",\n",
    "        \"windspeedKmph\", \"WindGustKmph\", \"precipMM\", \"visibility\",\n",
    "        \"FeelsLikeC\", \"HeatIndexC\", \"WindChillC\", \"DewPointC\", \"uvIndex\", \"sunHour\"\n",
    "    ]\n",
    "\n",
    "    # Convert to numeric\n",
    "    for col in metrics:\n",
    "        df_silver = df_silver.withColumn(col, F.col(col).cast(\"double\"))\n",
    "\n",
    "    # -------------------------\n",
    "    # WEEKLY AGGREGATION\n",
    "    # -------------------------\n",
    "    weekly_df = df_silver.groupBy(\"year\", \"week\") \\\n",
    "        .agg(\n",
    "            *[F.avg(col).alias(f\"{col}_avg\") for col in metrics],\n",
    "            *[F.max(col).alias(f\"{col}_max\") for col in metrics],\n",
    "            *[F.min(col).alias(f\"{col}_min\") for col in metrics]\n",
    "        ).orderBy(\"year\", \"week\")\n",
    "\n",
    "    # -------------------------\n",
    "    # MONTHLY AGGREGATION\n",
    "    # -------------------------\n",
    "    monthly_df = df_silver.groupBy(\"year\", \"month\") \\\n",
    "        .agg(\n",
    "            *[F.avg(col).alias(f\"{col}_avg\") for col in metrics],\n",
    "            *[F.max(col).alias(f\"{col}_max\") for col in metrics],\n",
    "            *[F.min(col).alias(f\"{col}_min\") for col in metrics]\n",
    "        ).orderBy(\"year\", \"month\")\n",
    "\n",
    "    # -------------------------\n",
    "    # YEARLY AGGREGATION\n",
    "    # -------------------------\n",
    "    yearly_df = df_silver.groupBy(\"year\") \\\n",
    "        .agg(\n",
    "            *[F.avg(col).alias(f\"{col}_avg\") for col in metrics],\n",
    "            *[F.max(col).alias(f\"{col}_max\") for col in metrics],\n",
    "            *[F.min(col).alias(f\"{col}_min\") for col in metrics]\n",
    "        ).orderBy(\"year\")\n",
    "\n",
    "    # -------------------------\n",
    "    # Write streaming output to Gold Layer\n",
    "    # -------------------------\n",
    "    weekly_df.writeStream.format(\"delta\") \\\n",
    "        .outputMode(\"complete\") \\\n",
    "        .option(\"skipChangeCommits\", \"true\") \\\n",
    "        .option(\"checkpointLocation\", f\"{checkpoint_path}/gold_weekly\") \\\n",
    "        .toTable(\"weather_catalog.gold.weather_weekly\")\n",
    "\n",
    "    monthly_df.writeStream.format(\"delta\") \\\n",
    "        .option(\"skipChangeCommits\", \"true\") \\\n",
    "        .outputMode(\"complete\") \\\n",
    "        .option(\"checkpointLocation\", f\"{checkpoint_path}/gold_monthly\") \\\n",
    "        .toTable(\"weather_catalog.gold.weather_monthly\")\n",
    "\n",
    "    yearly_df.writeStream.format(\"delta\") \\\n",
    "        .outputMode(\"complete\") \\\n",
    "        .option(\"skipChangeCommits\", \"true\") \\\n",
    "        .option(\"checkpointLocation\", f\"{checkpoint_path}/gold_yearly\") \\\n",
    "        .toTable(\"weather_catalog.gold.weather_yearly\")\n",
    "\n",
    "    safe_slack(\"Weekly, Monthly, and Yearly aggregations are streaming to Gold Layer.\", level=\"INFO\")\n",
    "\n",
    "except Exception as e:\n",
    "    safe_slack(f\"Error during aggregation ETL: {str(e)}\", level=\"ERROR\")\n",
    "    raise\n"
   ]
  },
  {
   "cell_type": "code",
   "execution_count": 0,
   "metadata": {
    "application/vnd.databricks.v1+cell": {
     "cellMetadata": {
      "byteLimit": 2048000,
      "rowLimit": 10000
     },
     "inputWidgets": {},
     "nuid": "95008e23-53da-468a-812a-f2286030cfe6",
     "showTitle": false,
     "tableResultSettingsMap": {},
     "title": ""
    }
   },
   "outputs": [
    {
     "output_type": "display_data",
     "data": {
      "text/plain": [
       "Databricks visualization. Run in Databricks to view."
      ]
     },
     "metadata": {
      "application/vnd.databricks.v1.subcommand+json": {
       "baseErrorDetails": null,
       "bindings": {},
       "collapsed": false,
       "command": "%python\n__backend_agg_display_orig = display\n__backend_agg_dfs = []\ndef __backend_agg_display_new(df):\n    __backend_agg_df_modules = [\"pandas.core.frame\", \"databricks.koalas.frame\", \"pyspark.sql.dataframe\", \"pyspark.pandas.frame\", \"pyspark.sql.connect.dataframe\"]\n    if (type(df).__module__ in __backend_agg_df_modules and type(df).__name__ == 'DataFrame') or isinstance(df, list):\n        __backend_agg_dfs.append(df)\n\ndisplay = __backend_agg_display_new\n\ndef __backend_agg_user_code_fn():\n    import base64\n    exec(base64.standard_b64decode(\"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\").decode())\n\ntry:\n    # run user code\n    __backend_agg_user_code_fn()\n\n    #reset display function\n    display = __backend_agg_display_orig\n\n    if len(__backend_agg_dfs) > 0:\n        # create a temp view\n        if type(__backend_agg_dfs[0]).__module__ == \"databricks.koalas.frame\":\n            # koalas dataframe\n            __backend_agg_dfs[0].to_spark().createOrReplaceTempView(\"DatabricksView33ddc52\")\n        elif type(__backend_agg_dfs[0]).__module__ == \"pandas.core.frame\" or isinstance(__backend_agg_dfs[0], list):\n            # pandas dataframe\n            spark.createDataFrame(__backend_agg_dfs[0]).createOrReplaceTempView(\"DatabricksView33ddc52\")\n        else:\n            __backend_agg_dfs[0].createOrReplaceTempView(\"DatabricksView33ddc52\")\n        #run backend agg\n        display(spark.sql(\"\"\"WITH q AS (select * from DatabricksView33ddc52) SELECT `City`,SUM(`maxtempC_max`) `column_2f51c49e113` FROM q GROUP BY `City`\"\"\"))\n    else:\n        displayHTML(\"dataframe no longer exists. If you're using dataframe.display(), use display(dataframe) instead.\")\n\n\nfinally:\n    spark.sql(\"drop view if exists DatabricksView33ddc52\")\n    display = __backend_agg_display_orig\n    del __backend_agg_display_new\n    del __backend_agg_display_orig\n    del __backend_agg_dfs\n    del __backend_agg_user_code_fn\n\n",
       "commandTitle": "Top  Hottest Cities",
       "commandType": "auto",
       "commandVersion": 0,
       "commentThread": [],
       "commentsVisible": false,
       "contentSha256Hex": null,
       "customPlotOptions": {
        "redashChart": [
         {
          "key": "type",
          "value": "CHART"
         },
         {
          "key": "options",
          "value": {
           "alignYAxesAtZero": true,
           "coefficient": 1,
           "columnConfigurationMap": {
            "x": {
             "column": "City",
             "id": "column_2f51c49e111"
            },
            "y": [
             {
              "column": "maxtempC_max",
              "id": "column_2f51c49e113",
              "transform": "SUM"
             }
            ]
           },
           "dateTimeFormat": "DD/MM/YYYY HH:mm",
           "direction": {
            "type": "counterclockwise"
           },
           "error_y": {
            "type": "data",
            "visible": true
           },
           "globalSeriesType": "column",
           "isAggregationOn": true,
           "legend": {
            "traceorder": "normal"
           },
           "missingValuesAsZero": true,
           "numberFormat": "0,0.[00000]",
           "percentFormat": "0[.]00%",
           "series": {
            "error_y": {
             "type": "data",
             "visible": true
            },
            "stacking": null
           },
           "seriesOptions": {
            "column_2f51c49e113": {
             "type": "column",
             "yAxis": 0
            }
           },
           "showDataLabels": false,
           "sizemode": "diameter",
           "sortX": true,
           "sortY": true,
           "swappedAxes": false,
           "textFormat": "",
           "useAggregationsUi": true,
           "valuesOptions": {},
           "version": 2,
           "xAxis": {
            "labels": {
             "enabled": true
            },
            "type": "-"
           },
           "yAxis": [
            {
             "type": "-"
            },
            {
             "opposite": true,
             "type": "-"
            }
           ]
          }
         }
        ]
       },
       "datasetPreviewNameToCmdIdMap": {},
       "diffDeletes": [],
       "diffInserts": [],
       "displayType": "redashChart",
       "error": null,
       "errorDetails": null,
       "errorSummary": null,
       "errorTraceType": null,
       "finishTime": 0,
       "globalVars": {},
       "guid": "",
       "height": "auto",
       "hideCommandCode": false,
       "hideCommandResult": false,
       "iPythonMetadata": null,
       "inputWidgets": {},
       "isLockedInExamMode": false,
       "latestUser": "a user",
       "latestUserId": null,
       "listResultMetadata": null,
       "metadata": {},
       "nuid": "a3a96488-20ea-4116-b07b-59d13138c0d1",
       "origId": 0,
       "parentHierarchy": [],
       "pivotAggregation": null,
       "pivotColumns": null,
       "position": 4.25,
       "resultDbfsErrorMessage": null,
       "resultDbfsStatus": "INLINED_IN_TREE",
       "results": null,
       "showCommandTitle": false,
       "startTime": 0,
       "state": "input",
       "streamStates": {},
       "subcommandOptions": {
        "queryPlan": {
         "groups": [
          {
           "column": "City",
           "type": "column"
          }
         ],
         "selects": [
          {
           "column": "City",
           "type": "column"
          },
          {
           "alias": "column_2f51c49e113",
           "args": [
            {
             "column": "maxtempC_max",
             "type": "column"
            }
           ],
           "function": "SUM",
           "type": "function"
          }
         ]
        }
       },
       "submitTime": 0,
       "subtype": "tableResultSubCmd.visualization",
       "tableResultIndex": 0,
       "tableResultSettingsMap": {},
       "useConsistentColors": false,
       "version": "CommandV1",
       "width": "auto",
       "workflows": null,
       "xColumns": null,
       "yColumns": null
      }
     },
     "output_type": "display_data"
    },
    {
     "output_type": "display_data",
     "data": {
      "text/plain": [
       "Databricks visualization. Run in Databricks to view."
      ]
     },
     "metadata": {
      "application/vnd.databricks.v1.subcommand+json": {
       "baseErrorDetails": null,
       "bindings": {},
       "collapsed": false,
       "command": "%python\n__backend_agg_display_orig = display\n__backend_agg_dfs = []\ndef __backend_agg_display_new(df):\n    __backend_agg_df_modules = [\"pandas.core.frame\", \"databricks.koalas.frame\", \"pyspark.sql.dataframe\", \"pyspark.pandas.frame\", \"pyspark.sql.connect.dataframe\"]\n    if (type(df).__module__ in __backend_agg_df_modules and type(df).__name__ == 'DataFrame') or isinstance(df, list):\n        __backend_agg_dfs.append(df)\n\ndisplay = __backend_agg_display_new\n\ndef __backend_agg_user_code_fn():\n    import base64\n    exec(base64.standard_b64decode(\"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\").decode())\n\ntry:\n    # run user code\n    __backend_agg_user_code_fn()\n\n    #reset display function\n    display = __backend_agg_display_orig\n\n    if len(__backend_agg_dfs) > 0:\n        # create a temp view\n        if type(__backend_agg_dfs[0]).__module__ == \"databricks.koalas.frame\":\n            # koalas dataframe\n            __backend_agg_dfs[0].to_spark().createOrReplaceTempView(\"DatabricksView80ac3a1\")\n        elif type(__backend_agg_dfs[0]).__module__ == \"pandas.core.frame\" or isinstance(__backend_agg_dfs[0], list):\n            # pandas dataframe\n            spark.createDataFrame(__backend_agg_dfs[0]).createOrReplaceTempView(\"DatabricksView80ac3a1\")\n        else:\n            __backend_agg_dfs[0].createOrReplaceTempView(\"DatabricksView80ac3a1\")\n        #run backend agg\n        display(spark.sql(\"\"\"WITH q AS (select * from DatabricksView80ac3a1) SELECT `City`,SUM(`mintempC_min`) `column_2f51c49e141` FROM q GROUP BY `City`\"\"\"))\n    else:\n        displayHTML(\"dataframe no longer exists. If you're using dataframe.display(), use display(dataframe) instead.\")\n\n\nfinally:\n    spark.sql(\"drop view if exists DatabricksView80ac3a1\")\n    display = __backend_agg_display_orig\n    del __backend_agg_display_new\n    del __backend_agg_display_orig\n    del __backend_agg_dfs\n    del __backend_agg_user_code_fn\n\n",
       "commandTitle": "Top Coolest Cities",
       "commandType": "auto",
       "commandVersion": 0,
       "commentThread": [],
       "commentsVisible": false,
       "contentSha256Hex": null,
       "customPlotOptions": {
        "redashChart": [
         {
          "key": "type",
          "value": "CHART"
         },
         {
          "key": "options",
          "value": {
           "alignYAxesAtZero": true,
           "coefficient": 1,
           "columnConfigurationMap": {
            "x": {
             "column": "City",
             "id": "column_2f51c49e139"
            },
            "y": [
             {
              "column": "mintempC_min",
              "id": "column_2f51c49e141",
              "transform": "SUM"
             }
            ]
           },
           "dateTimeFormat": "DD/MM/YYYY HH:mm",
           "direction": {
            "type": "counterclockwise"
           },
           "error_y": {
            "type": "data",
            "visible": true
           },
           "globalSeriesType": "column",
           "isAggregationOn": true,
           "legend": {
            "traceorder": "normal"
           },
           "missingValuesAsZero": true,
           "numberFormat": "0,0.[00000]",
           "percentFormat": "0[.]00%",
           "series": {
            "error_y": {
             "type": "data",
             "visible": true
            },
            "stacking": null
           },
           "seriesOptions": {
            "column_2f51c49e141": {
             "type": "column",
             "yAxis": 0
            }
           },
           "showDataLabels": false,
           "sizemode": "diameter",
           "sortX": true,
           "sortY": true,
           "swappedAxes": false,
           "textFormat": "",
           "useAggregationsUi": true,
           "valuesOptions": {},
           "version": 2,
           "xAxis": {
            "labels": {
             "enabled": true
            },
            "type": "-"
           },
           "yAxis": [
            {
             "type": "-"
            },
            {
             "opposite": true,
             "type": "-"
            }
           ]
          }
         }
        ]
       },
       "datasetPreviewNameToCmdIdMap": {},
       "diffDeletes": [],
       "diffInserts": [],
       "displayType": "redashChart",
       "error": null,
       "errorDetails": null,
       "errorSummary": null,
       "errorTraceType": null,
       "finishTime": 0,
       "globalVars": {},
       "guid": "",
       "height": "auto",
       "hideCommandCode": false,
       "hideCommandResult": false,
       "iPythonMetadata": null,
       "inputWidgets": {},
       "isLockedInExamMode": false,
       "latestUser": "a user",
       "latestUserId": null,
       "listResultMetadata": null,
       "metadata": {},
       "nuid": "d549fea1-00d2-4908-8e0b-22daf2816f34",
       "origId": 0,
       "parentHierarchy": [],
       "pivotAggregation": null,
       "pivotColumns": null,
       "position": 5.25,
       "resultDbfsErrorMessage": null,
       "resultDbfsStatus": "INLINED_IN_TREE",
       "results": null,
       "showCommandTitle": false,
       "startTime": 0,
       "state": "input",
       "streamStates": {},
       "subcommandOptions": {
        "queryPlan": {
         "groups": [
          {
           "column": "City",
           "type": "column"
          }
         ],
         "selects": [
          {
           "column": "City",
           "type": "column"
          },
          {
           "alias": "column_2f51c49e141",
           "args": [
            {
             "column": "mintempC_min",
             "type": "column"
            }
           ],
           "function": "SUM",
           "type": "function"
          }
         ]
        }
       },
       "submitTime": 0,
       "subtype": "tableResultSubCmd.visualization",
       "tableResultIndex": 0,
       "tableResultSettingsMap": {},
       "useConsistentColors": false,
       "version": "CommandV1",
       "width": "auto",
       "workflows": null,
       "xColumns": null,
       "yColumns": null
      }
     },
     "output_type": "display_data"
    },
    {
     "output_type": "display_data",
     "data": {
      "text/plain": [
       "Databricks visualization. Run in Databricks to view."
      ]
     },
     "metadata": {
      "application/vnd.databricks.v1.subcommand+json": {
       "baseErrorDetails": null,
       "bindings": {},
       "collapsed": false,
       "command": "%python\n__backend_agg_display_orig = display\n__backend_agg_dfs = []\ndef __backend_agg_display_new(df):\n    __backend_agg_df_modules = [\"pandas.core.frame\", \"databricks.koalas.frame\", \"pyspark.sql.dataframe\", \"pyspark.pandas.frame\", \"pyspark.sql.connect.dataframe\"]\n    if (type(df).__module__ in __backend_agg_df_modules and type(df).__name__ == 'DataFrame') or isinstance(df, list):\n        __backend_agg_dfs.append(df)\n\ndisplay = __backend_agg_display_new\n\ndef __backend_agg_user_code_fn():\n    import base64\n    exec(base64.standard_b64decode(\"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\").decode())\n\ntry:\n    # run user code\n    __backend_agg_user_code_fn()\n\n    #reset display function\n    display = __backend_agg_display_orig\n\n    if len(__backend_agg_dfs) > 0:\n        # create a temp view\n        if type(__backend_agg_dfs[0]).__module__ == \"databricks.koalas.frame\":\n            # koalas dataframe\n            __backend_agg_dfs[0].to_spark().createOrReplaceTempView(\"DatabricksView58c9483\")\n        elif type(__backend_agg_dfs[0]).__module__ == \"pandas.core.frame\" or isinstance(__backend_agg_dfs[0], list):\n            # pandas dataframe\n            spark.createDataFrame(__backend_agg_dfs[0]).createOrReplaceTempView(\"DatabricksView58c9483\")\n        else:\n            __backend_agg_dfs[0].createOrReplaceTempView(\"DatabricksView58c9483\")\n        #run backend agg\n        display(spark.sql(\"\"\"WITH q AS (select * from DatabricksView58c9483) SELECT `humidity_avg`,COUNT(`City`) `column_2f51c49e145` FROM q GROUP BY `humidity_avg`\"\"\"))\n    else:\n        displayHTML(\"dataframe no longer exists. If you're using dataframe.display(), use display(dataframe) instead.\")\n\n\nfinally:\n    spark.sql(\"drop view if exists DatabricksView58c9483\")\n    display = __backend_agg_display_orig\n    del __backend_agg_display_new\n    del __backend_agg_display_orig\n    del __backend_agg_dfs\n    del __backend_agg_user_code_fn\n\n",
       "commandTitle": "Humidity Average Across cities",
       "commandType": "auto",
       "commandVersion": 0,
       "commentThread": [],
       "commentsVisible": false,
       "contentSha256Hex": null,
       "customPlotOptions": {
        "redashChart": [
         {
          "key": "type",
          "value": "CHART"
         },
         {
          "key": "options",
          "value": {
           "alignYAxesAtZero": true,
           "coefficient": 1,
           "columnConfigurationMap": {
            "x": {
             "column": "humidity_avg",
             "id": "column_2f51c49e143"
            },
            "y": [
             {
              "column": "City",
              "id": "column_2f51c49e145"
             }
            ]
           },
           "dateTimeFormat": "DD/MM/YYYY HH:mm",
           "direction": {
            "type": "counterclockwise"
           },
           "error_y": {
            "type": "data",
            "visible": true
           },
           "globalSeriesType": "heatmap",
           "isAggregationOn": true,
           "legend": {
            "traceorder": "normal"
           },
           "missingValuesAsZero": true,
           "numberFormat": "0,0.[00000]",
           "percentFormat": "0[.]00%",
           "series": {
            "error_y": {
             "type": "data",
             "visible": true
            },
            "stacking": null
           },
           "seriesOptions": {
            "column_2f51c49e145": {
             "type": "heatmap",
             "yAxis": 0
            }
           },
           "showDataLabels": false,
           "sizemode": "diameter",
           "sortX": true,
           "sortY": true,
           "swappedAxes": false,
           "textFormat": "",
           "useAggregationsUi": true,
           "valuesOptions": {},
           "version": 2,
           "xAxis": {
            "labels": {
             "enabled": true
            },
            "type": "-"
           },
           "yAxis": [
            {
             "type": "-"
            },
            {
             "opposite": true,
             "type": "-"
            }
           ]
          }
         }
        ]
       },
       "datasetPreviewNameToCmdIdMap": {},
       "diffDeletes": [],
       "diffInserts": [],
       "displayType": "redashChart",
       "error": null,
       "errorDetails": null,
       "errorSummary": null,
       "errorTraceType": null,
       "finishTime": 0,
       "globalVars": {},
       "guid": "",
       "height": "auto",
       "hideCommandCode": false,
       "hideCommandResult": false,
       "iPythonMetadata": null,
       "inputWidgets": {},
       "isLockedInExamMode": false,
       "latestUser": "a user",
       "latestUserId": null,
       "listResultMetadata": null,
       "metadata": {},
       "nuid": "462f67b4-f08e-4ad9-9410-1b224e64c5e8",
       "origId": 0,
       "parentHierarchy": [],
       "pivotAggregation": null,
       "pivotColumns": null,
       "position": 6.25,
       "resultDbfsErrorMessage": null,
       "resultDbfsStatus": "INLINED_IN_TREE",
       "results": null,
       "showCommandTitle": false,
       "startTime": 0,
       "state": "input",
       "streamStates": {},
       "subcommandOptions": {
        "queryPlan": {
         "groups": [
          {
           "column": "humidity_avg",
           "type": "column"
          },
          {
           "column": "City",
           "type": "column"
          }
         ],
         "selects": [
          {
           "column": "humidity_avg",
           "type": "column"
          },
          {
           "column": "City",
           "type": "column"
          }
         ]
        }
       },
       "submitTime": 0,
       "subtype": "tableResultSubCmd.visualization",
       "tableResultIndex": 0,
       "tableResultSettingsMap": {},
       "useConsistentColors": false,
       "version": "CommandV1",
       "width": "auto",
       "workflows": null,
       "xColumns": null,
       "yColumns": null
      }
     },
     "output_type": "display_data"
    },
    {
     "output_type": "display_data",
     "data": {
      "text/plain": [
       "Databricks visualization. Run in Databricks to view."
      ]
     },
     "metadata": {
      "application/vnd.databricks.v1.subcommand+json": {
       "baseErrorDetails": null,
       "bindings": {},
       "collapsed": false,
       "command": "%python\n__backend_agg_display_orig = display\n__backend_agg_dfs = []\ndef __backend_agg_display_new(df):\n    __backend_agg_df_modules = [\"pandas.core.frame\", \"databricks.koalas.frame\", \"pyspark.sql.dataframe\", \"pyspark.pandas.frame\", \"pyspark.sql.connect.dataframe\"]\n    if (type(df).__module__ in __backend_agg_df_modules and type(df).__name__ == 'DataFrame') or isinstance(df, list):\n        __backend_agg_dfs.append(df)\n\ndisplay = __backend_agg_display_new\n\ndef __backend_agg_user_code_fn():\n    import base64\n    exec(base64.standard_b64decode(\"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\").decode())\n\ntry:\n    # run user code\n    __backend_agg_user_code_fn()\n\n    #reset display function\n    display = __backend_agg_display_orig\n\n    if len(__backend_agg_dfs) > 0:\n        # create a temp view\n        if type(__backend_agg_dfs[0]).__module__ == \"databricks.koalas.frame\":\n            # koalas dataframe\n            __backend_agg_dfs[0].to_spark().createOrReplaceTempView(\"DatabricksView605ce05\")\n        elif type(__backend_agg_dfs[0]).__module__ == \"pandas.core.frame\" or isinstance(__backend_agg_dfs[0], list):\n            # pandas dataframe\n            spark.createDataFrame(__backend_agg_dfs[0]).createOrReplaceTempView(\"DatabricksView605ce05\")\n        else:\n            __backend_agg_dfs[0].createOrReplaceTempView(\"DatabricksView605ce05\")\n        #run backend agg\n        display(spark.sql(\"\"\"WITH q AS (select * from DatabricksView605ce05) SELECT `City`,SUM(`sunHour_avg`) `column_2f51c49e150` FROM q GROUP BY `City`\"\"\"))\n    else:\n        displayHTML(\"dataframe no longer exists. If you're using dataframe.display(), use display(dataframe) instead.\")\n\n\nfinally:\n    spark.sql(\"drop view if exists DatabricksView605ce05\")\n    display = __backend_agg_display_orig\n    del __backend_agg_display_new\n    del __backend_agg_display_orig\n    del __backend_agg_dfs\n    del __backend_agg_user_code_fn\n\n",
       "commandTitle": "Sunniest Cities",
       "commandType": "auto",
       "commandVersion": 0,
       "commentThread": [],
       "commentsVisible": false,
       "contentSha256Hex": null,
       "customPlotOptions": {
        "redashChart": [
         {
          "key": "type",
          "value": "CHART"
         },
         {
          "key": "options",
          "value": {
           "alignYAxesAtZero": true,
           "coefficient": 1,
           "columnConfigurationMap": {
            "x": {
             "column": "City",
             "id": "column_2f51c49e148"
            },
            "y": [
             {
              "column": "sunHour_avg",
              "id": "column_2f51c49e150",
              "transform": "SUM"
             }
            ]
           },
           "dateTimeFormat": "DD/MM/YYYY HH:mm",
           "direction": {
            "type": "counterclockwise"
           },
           "error_y": {
            "type": "data",
            "visible": true
           },
           "globalSeriesType": "pie",
           "isAggregationOn": true,
           "legend": {
            "traceorder": "normal"
           },
           "missingValuesAsZero": true,
           "numberFormat": "0,0.[00000]",
           "percentFormat": "0[.]00%",
           "series": {
            "error_y": {
             "type": "data",
             "visible": true
            },
            "stacking": null
           },
           "seriesOptions": {
            "column_2f51c49e150": {
             "type": "pie",
             "yAxis": 0
            }
           },
           "showDataLabels": true,
           "sizemode": "diameter",
           "sortX": true,
           "sortY": true,
           "swappedAxes": false,
           "textFormat": "",
           "useAggregationsUi": true,
           "valuesOptions": {},
           "version": 2,
           "xAxis": {
            "labels": {
             "enabled": true
            },
            "type": "-"
           },
           "yAxis": [
            {
             "type": "-"
            },
            {
             "opposite": true,
             "type": "-"
            }
           ]
          }
         }
        ]
       },
       "datasetPreviewNameToCmdIdMap": {},
       "diffDeletes": [],
       "diffInserts": [],
       "displayType": "redashChart",
       "error": null,
       "errorDetails": null,
       "errorSummary": null,
       "errorTraceType": null,
       "finishTime": 0,
       "globalVars": {},
       "guid": "",
       "height": "auto",
       "hideCommandCode": false,
       "hideCommandResult": false,
       "iPythonMetadata": null,
       "inputWidgets": {},
       "isLockedInExamMode": false,
       "latestUser": "a user",
       "latestUserId": null,
       "listResultMetadata": null,
       "metadata": {},
       "nuid": "21de3861-97ee-429d-91c8-a34f9888c517",
       "origId": 0,
       "parentHierarchy": [],
       "pivotAggregation": null,
       "pivotColumns": null,
       "position": 7.25,
       "resultDbfsErrorMessage": null,
       "resultDbfsStatus": "INLINED_IN_TREE",
       "results": null,
       "showCommandTitle": false,
       "startTime": 0,
       "state": "input",
       "streamStates": {},
       "subcommandOptions": {
        "queryPlan": {
         "groups": [
          {
           "column": "City",
           "type": "column"
          }
         ],
         "selects": [
          {
           "column": "City",
           "type": "column"
          },
          {
           "alias": "column_2f51c49e150",
           "args": [
            {
             "column": "sunHour_avg",
             "type": "column"
            }
           ],
           "function": "SUM",
           "type": "function"
          }
         ]
        }
       },
       "submitTime": 0,
       "subtype": "tableResultSubCmd.visualization",
       "tableResultIndex": 0,
       "tableResultSettingsMap": {},
       "useConsistentColors": false,
       "version": "CommandV1",
       "width": "auto",
       "workflows": null,
       "xColumns": null,
       "yColumns": null
      }
     },
     "output_type": "display_data"
    },
    {
     "output_type": "display_data",
     "data": {
      "text/plain": [
       "Databricks visualization. Run in Databricks to view."
      ]
     },
     "metadata": {
      "application/vnd.databricks.v1.subcommand+json": {
       "baseErrorDetails": null,
       "bindings": {},
       "collapsed": false,
       "command": "%python\n__backend_agg_display_orig = display\n__backend_agg_dfs = []\ndef __backend_agg_display_new(df):\n    __backend_agg_df_modules = [\"pandas.core.frame\", \"databricks.koalas.frame\", \"pyspark.sql.dataframe\", \"pyspark.pandas.frame\", \"pyspark.sql.connect.dataframe\"]\n    if (type(df).__module__ in __backend_agg_df_modules and type(df).__name__ == 'DataFrame') or isinstance(df, list):\n        __backend_agg_dfs.append(df)\n\ndisplay = __backend_agg_display_new\n\ndef __backend_agg_user_code_fn():\n    import base64\n    exec(base64.standard_b64decode(\"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\").decode())\n\ntry:\n    # run user code\n    __backend_agg_user_code_fn()\n\n    #reset display function\n    display = __backend_agg_display_orig\n\n    if len(__backend_agg_dfs) > 0:\n        # create a temp view\n        if type(__backend_agg_dfs[0]).__module__ == \"databricks.koalas.frame\":\n            # koalas dataframe\n            __backend_agg_dfs[0].to_spark().createOrReplaceTempView(\"DatabricksViewe249f97\")\n        elif type(__backend_agg_dfs[0]).__module__ == \"pandas.core.frame\" or isinstance(__backend_agg_dfs[0], list):\n            # pandas dataframe\n            spark.createDataFrame(__backend_agg_dfs[0]).createOrReplaceTempView(\"DatabricksViewe249f97\")\n        else:\n            __backend_agg_dfs[0].createOrReplaceTempView(\"DatabricksViewe249f97\")\n        #run backend agg\n        display(spark.sql(\"\"\"WITH q AS (select * from DatabricksViewe249f97) SELECT `City`,SUM(`windspeedKmph_max`) `column_2f51c49e154` FROM q GROUP BY `City`\"\"\"))\n    else:\n        displayHTML(\"dataframe no longer exists. If you're using dataframe.display(), use display(dataframe) instead.\")\n\n\nfinally:\n    spark.sql(\"drop view if exists DatabricksViewe249f97\")\n    display = __backend_agg_display_orig\n    del __backend_agg_display_new\n    del __backend_agg_display_orig\n    del __backend_agg_dfs\n    del __backend_agg_user_code_fn\n\n",
       "commandTitle": "Strongest Wind Cities",
       "commandType": "auto",
       "commandVersion": 0,
       "commentThread": [],
       "commentsVisible": false,
       "contentSha256Hex": null,
       "customPlotOptions": {
        "redashChart": [
         {
          "key": "type",
          "value": "CHART"
         },
         {
          "key": "options",
          "value": {
           "alignYAxesAtZero": true,
           "coefficient": 1,
           "columnConfigurationMap": {
            "x": {
             "column": "City",
             "id": "column_2f51c49e152"
            },
            "y": [
             {
              "column": "windspeedKmph_max",
              "id": "column_2f51c49e154",
              "transform": "SUM"
             }
            ]
           },
           "dateTimeFormat": "DD/MM/YYYY HH:mm",
           "direction": {
            "type": "counterclockwise"
           },
           "error_y": {
            "type": "data",
            "visible": true
           },
           "globalSeriesType": "pie",
           "isAggregationOn": true,
           "legend": {
            "traceorder": "normal"
           },
           "missingValuesAsZero": true,
           "numberFormat": "0,0.[00000]",
           "percentFormat": "0[.]00%",
           "series": {
            "error_y": {
             "type": "data",
             "visible": true
            },
            "stacking": null
           },
           "seriesOptions": {
            "column_2f51c49e154": {
             "type": "pie",
             "yAxis": 0
            }
           },
           "showDataLabels": true,
           "sizemode": "diameter",
           "sortX": true,
           "sortY": true,
           "swappedAxes": false,
           "textFormat": "",
           "useAggregationsUi": true,
           "valuesOptions": {},
           "version": 2,
           "xAxis": {
            "labels": {
             "enabled": true
            },
            "type": "-"
           },
           "yAxis": [
            {
             "type": "-"
            },
            {
             "opposite": true,
             "type": "-"
            }
           ]
          }
         }
        ]
       },
       "datasetPreviewNameToCmdIdMap": {},
       "diffDeletes": [],
       "diffInserts": [],
       "displayType": "redashChart",
       "error": null,
       "errorDetails": null,
       "errorSummary": null,
       "errorTraceType": null,
       "finishTime": 0,
       "globalVars": {},
       "guid": "",
       "height": "auto",
       "hideCommandCode": false,
       "hideCommandResult": false,
       "iPythonMetadata": null,
       "inputWidgets": {},
       "isLockedInExamMode": false,
       "latestUser": "a user",
       "latestUserId": null,
       "listResultMetadata": null,
       "metadata": {},
       "nuid": "3472f66b-5c5e-4587-aa6f-c877f280a839",
       "origId": 0,
       "parentHierarchy": [],
       "pivotAggregation": null,
       "pivotColumns": null,
       "position": 8.25,
       "resultDbfsErrorMessage": null,
       "resultDbfsStatus": "INLINED_IN_TREE",
       "results": null,
       "showCommandTitle": false,
       "startTime": 0,
       "state": "input",
       "streamStates": {},
       "subcommandOptions": {
        "queryPlan": {
         "groups": [
          {
           "column": "City",
           "type": "column"
          }
         ],
         "selects": [
          {
           "column": "City",
           "type": "column"
          },
          {
           "alias": "column_2f51c49e154",
           "args": [
            {
             "column": "windspeedKmph_max",
             "type": "column"
            }
           ],
           "function": "SUM",
           "type": "function"
          }
         ]
        }
       },
       "submitTime": 0,
       "subtype": "tableResultSubCmd.visualization",
       "tableResultIndex": 0,
       "tableResultSettingsMap": {},
       "useConsistentColors": false,
       "version": "CommandV1",
       "width": "auto",
       "workflows": null,
       "xColumns": null,
       "yColumns": null
      }
     },
     "output_type": "display_data"
    }
   ],
   "source": [
    "try:\n",
    "    df_silver = spark.readStream.format(\"delta\").table(\"weather_catalog.raw.silver_table\")\n",
    "\n",
    "    # -------------------------\n",
    "    # List of numeric columns to aggregate\n",
    "    # -------------------------\n",
    "    numeric_cols = [\n",
    "        \"maxtempC\", \"mintempC\", \"totalSnow_cm\", \"sunHour\", \"uvIndex\", \"moon_illumination\",\n",
    "        \"DewPointC\", \"FeelsLikeC\", \"HeatIndexC\", \"WindChillC\", \"WindGustKmph\",\n",
    "        \"cloudcover\", \"humidity\", \"precipMM\", \"pressure\", \"tempC\", \"visibility\",\n",
    "        \"winddirDegree\", \"windspeedKmph\"\n",
    "    ]\n",
    "\n",
    "    # -------------------------\n",
    "    # Build aggregation expressions\n",
    "    # -------------------------\n",
    "    aggregations = []\n",
    "    for c in numeric_cols:\n",
    "        aggregations.append(F.max(c).alias(f\"{c}_max\"))\n",
    "        aggregations.append(F.min(c).alias(f\"{c}_min\"))\n",
    "        aggregations.append(F.avg(c).alias(f\"{c}_avg\"))\n",
    "\n",
    "    # -------------------------\n",
    "    # Group by City\n",
    "    # -------------------------\n",
    "    df_citywise_stats = df_silver.groupBy(\"City\").agg(*aggregations)\n",
    "\n",
    "    # -------------------------\n",
    "    # Write streaming output to Gold Layer\n",
    "    # -------------------------\n",
    "    df_citywise_stats.writeStream \\\n",
    "        .format(\"delta\") \\\n",
    "        .outputMode(\"complete\") \\\n",
    "        .option(\"skipChangeCommits\", \"true\")\n",
    "        .option(\"checkpointLocation\", f\"{checkpoint_path}/gold_citywise\") \\\n",
    "        .toTable(\"weather_catalog.gold.citywise_stats\")\n",
    "\n",
    "    # -------------------------\n",
    "    # Slack notification (safe)\n",
    "    # -------------------------\n",
    "    try:\n",
    "        send_slack_message(\":white_check_mark: Citywise weather statistics streaming to Gold Layer.\")\n",
    "    except Exception as slack_err:\n",
    "        print(f\" Slack notification failed: {slack_err}\")\n",
    "\n",
    "    # -------------------------\n",
    "    # Display results (will update in streaming)\n",
    "    # -------------------------\n",
    "    display(df_citywise_stats)\n",
    "\n",
    "except Exception as e:\n",
    "    error_message = f\":x: Error while computing citywise stats: {str(e)}\"\n",
    "    try:\n",
    "        send_slack_message(error_message)\n",
    "    except Exception as slack_err:\n",
    "        print(f\" Slack notification failed: {slack_err}\")\n",
    "    raise"
   ]
  },
  {
   "cell_type": "code",
   "execution_count": 0,
   "metadata": {
    "application/vnd.databricks.v1+cell": {
     "cellMetadata": {
      "byteLimit": 2048000,
      "rowLimit": 10000
     },
     "inputWidgets": {},
     "nuid": "b800113c-dc53-43d7-9292-0cf7da1f2916",
     "showTitle": false,
     "tableResultSettingsMap": {
      "0": {
       "dataGridStateBlob": "{\"version\":1,\"tableState\":{\"columnPinning\":{\"left\":[\"#row_number#\"],\"right\":[]},\"columnSizing\":{\"#row_number#\":168},\"columnVisibility\":{}},\"settings\":{\"columns\":{}},\"syncTimestamp\":1756056813742}",
       "filterBlob": null,
       "queryPlanFiltersBlob": null,
       "tableResultIndex": 0
      }
     },
     "title": ""
    }
   },
   "outputs": [
    {
     "output_type": "display_data",
     "data": {
      "text/plain": [
       "Databricks visualization. Run in Databricks to view."
      ]
     },
     "metadata": {
      "application/vnd.databricks.v1.subcommand+json": {
       "baseErrorDetails": null,
       "bindings": {},
       "collapsed": false,
       "command": "%python\n__backend_agg_display_orig = display\n__backend_agg_dfs = []\ndef __backend_agg_display_new(df):\n    __backend_agg_df_modules = [\"pandas.core.frame\", \"databricks.koalas.frame\", \"pyspark.sql.dataframe\", \"pyspark.pandas.frame\", \"pyspark.sql.connect.dataframe\"]\n    if (type(df).__module__ in __backend_agg_df_modules and type(df).__name__ == 'DataFrame') or isinstance(df, list):\n        __backend_agg_dfs.append(df)\n\ndisplay = __backend_agg_display_new\n\ndef __backend_agg_user_code_fn():\n    import base64\n    exec(base64.standard_b64decode(\"ZnJvbSBweXNwYXJrLnNxbCBpbXBvcnQgZnVuY3Rpb25zIGFzIEYKCnRyeToKICAgICMgLS0tLS0tLS0tLS0tLS0tLS0tLS0tLS0tLQogICAgIyBSZWFkIFNpbHZlciBMYXllcgogICAgIyAtLS0tLS0tLS0tLS0tLS0tLS0tLS0tLS0tCiAgICBkZl9zaWx2ZXIgPSBzcGFyay5yZWFkLmZvcm1hdCgiZGVsdGEiKS50YWJsZSgid2VhdGhlcl9jYXRhbG9nLnJhdy5zaWx2ZXJfdGFibGUiKQoKICAgICMgLS0tLS0tLS0tLS0tLS0tLS0tLS0tLS0tLQogICAgIyBOdW1lcmljIGNvbHVtbnMgdG8gYWdncmVnYXRlCiAgICAjIC0tLS0tLS0tLS0tLS0tLS0tLS0tLS0tLS0KICAgIG51bWVyaWNfY29scyA9IFsKICAgICAgICAibWF4dGVtcEMiLCAibWludGVtcEMiLCAidG90YWxTbm93X2NtIiwgInN1bkhvdXIiLCAidXZJbmRleCIsICJtb29uX2lsbHVtaW5hdGlvbiIsCiAgICAgICAgIkRld1BvaW50QyIsICJGZWVsc0xpa2VDIiwgIkhlYXRJbmRleEMiLCAiV2luZENoaWxsQyIsICJXaW5kR3VzdEttcGgiLAogICAgICAgICJjbG91ZGNvdmVyIiwgImh1bWlkaXR5IiwgInByZWNpcE1NIiwgInByZXNzdXJlIiwgInRlbXBDIiwgInZpc2liaWxpdHkiLAogICAgICAgICJ3aW5kZGlyRGVncmVlIiwgIndpbmRzcGVlZEttcGgiCiAgICBdCgogICAgIyAtLS0tLS0tLS0tLS0tLS0tLS0tLS0tLS0tCiAgICAjIEJ1aWxkIGFnZ3JlZ2F0aW9uIGV4cHJlc3Npb25zCiAgICAjIC0tLS0tLS0tLS0tLS0tLS0tLS0tLS0tLS0KICAgIGFnZ3JlZ2F0aW9ucyA9IFtdCiAgICBmb3IgYyBpbiBudW1lcmljX2NvbHM6CiAgICAgICAgYWdncmVnYXRpb25zLmFwcGVuZChGLm1heChjKS5hbGlhcyhmIntjfV9tYXgiKSkKICAgICAgICBhZ2dyZWdhdGlvbnMuYXBwZW5kKEYubWluKGMpLmFsaWFzKGYie2N9X21pbiIpKQogICAgICAgIGFnZ3JlZ2F0aW9ucy5hcHBlbmQoRi5hdmcoYykuYWxpYXMoZiJ7Y31fYXZnIikpCgogICAgIyAtLS0tLS0tLS0tLS0tLS0tLS0tLS0tLS0tCiAgICAjIEdyb3VwIGJ5IENpdHkKICAgICMgLS0tLS0tLS0tLS0tLS0tLS0tLS0tLS0tLQogICAgZGZfY2l0eXdpc2Vfc3RhdHMgPSBkZl9zaWx2ZXIuZ3JvdXBCeSgiQ2l0eSIpLmFnZygqYWdncmVnYXRpb25zKQoKICAgICMgLS0tLS0tLS0tLS0tLS0tLS0tLS0tLS0tLQogICAgIyBTYXZlIHRvIEdvbGQgTGF5ZXIKICAgICMgLS0tLS0tLS0tLS0tLS0tLS0tLS0tLS0tLQogICAgZGZfY2l0eXdpc2Vfc3RhdHMud3JpdGUuZm9ybWF0KCJkZWx0YSIpLm1vZGUoIm92ZXJ3cml0ZSIpLnNhdmVBc1RhYmxlKCJ3ZWF0aGVyX2NhdGFsb2cuZ29sZC5jaXR5d2lzZV9zdGF0cyIpCgogICAgIyAtLS0tLS0tLS0tLS0tLS0tLS0tLS0tLS0tCiAgICAjIFNsYWNrIG5vdGlmaWNhdGlvbgogICAgIyAtLS0tLS0tLS0tLS0tLS0tLS0tLS0tLS0tCiAgICBzZW5kX3NsYWNrX21lc3NhZ2UoIiBDaXR5d2lzZSB3ZWF0aGVyIHN0YXRpc3RpY3MgY29tcHV0ZWQgYW5kIHNhdmVkIHRvIGB3ZWF0aGVyX2NhdGFsb2cuZ29sZC5jaXR5d2lzZV9zdGF0c2AuIiwgbGV2ZWw9IklORk8iKQoKICAgICMgLS0tLS0tLS0tLS0tLS0tLS0tLS0tLS0tLQogICAgIyBEaXNwbGF5IHJlc3VsdHMKICAgICMgLS0tLS0tLS0tLS0tLS0tLS0tLS0tLS0tLQogICAgZGlzcGxheShkZl9jaXR5d2lzZV9zdGF0cykKCmV4Y2VwdCBFeGNlcHRpb24gYXMgZToKICAgIHNlbmRfc2xhY2tfbWVzc2FnZShmIiBFcnJvciB3aGlsZSBjb21wdXRpbmcgY2l0eXdpc2Ugc3RhdHM6IHtzdHIoZSl9IiwgbGV2ZWw9IkVSUk9SIikKICAgIHJhaXNlCg==\").decode())\n\ntry:\n    # run user code\n    __backend_agg_user_code_fn()\n\n    #reset display function\n    display = __backend_agg_display_orig\n\n    if len(__backend_agg_dfs) > 0:\n        # create a temp view\n        if type(__backend_agg_dfs[0]).__module__ == \"databricks.koalas.frame\":\n            # koalas dataframe\n            __backend_agg_dfs[0].to_spark().createOrReplaceTempView(\"DatabricksViewc1e4c4f\")\n        elif type(__backend_agg_dfs[0]).__module__ == \"pandas.core.frame\" or isinstance(__backend_agg_dfs[0], list):\n            # pandas dataframe\n            spark.createDataFrame(__backend_agg_dfs[0]).createOrReplaceTempView(\"DatabricksViewc1e4c4f\")\n        else:\n            __backend_agg_dfs[0].createOrReplaceTempView(\"DatabricksViewc1e4c4f\")\n        #run backend agg\n        display(spark.sql(\"\"\"WITH q AS (select * from DatabricksViewc1e4c4f) SELECT `windspeedKmph_avg`,SUM(`tempC_avg`) `column_2f51c49e164` FROM q GROUP BY `windspeedKmph_avg`\"\"\"))\n    else:\n        displayHTML(\"dataframe no longer exists. If you're using dataframe.display(), use display(dataframe) instead.\")\n\n\nfinally:\n    spark.sql(\"drop view if exists DatabricksViewc1e4c4f\")\n    display = __backend_agg_display_orig\n    del __backend_agg_display_new\n    del __backend_agg_display_orig\n    del __backend_agg_dfs\n    del __backend_agg_user_code_fn\n\n",
       "commandTitle": "Visualization 1",
       "commandType": "auto",
       "commandVersion": 0,
       "commentThread": [],
       "commentsVisible": false,
       "contentSha256Hex": null,
       "customPlotOptions": {
        "redashChart": [
         {
          "key": "type",
          "value": "CHART"
         },
         {
          "key": "options",
          "value": {
           "alignYAxesAtZero": true,
           "coefficient": 1,
           "columnConfigurationMap": {
            "x": {
             "column": "windspeedKmph_avg",
             "id": "column_2f51c49e163"
            },
            "y": [
             {
              "column": "tempC_avg",
              "id": "column_2f51c49e164",
              "transform": "SUM"
             }
            ]
           },
           "dateTimeFormat": "DD/MM/YYYY HH:mm",
           "direction": {
            "type": "counterclockwise"
           },
           "error_y": {
            "type": "data",
            "visible": true
           },
           "globalSeriesType": "area",
           "isAggregationOn": true,
           "legend": {
            "traceorder": "normal"
           },
           "missingValuesAsZero": true,
           "numberFormat": "0,0.[00000]",
           "percentFormat": "0[.]00%",
           "series": {
            "error_y": {
             "type": "data",
             "visible": true
            },
            "stacking": null
           },
           "seriesOptions": {
            "column_2f51c49e164": {
             "name": "",
             "type": "area",
             "yAxis": 0
            },
            "tempC_avg": {
             "name": "",
             "type": "area",
             "yAxis": 0
            }
           },
           "showDataLabels": false,
           "sizemode": "diameter",
           "sortX": true,
           "sortY": true,
           "swappedAxes": false,
           "textFormat": "",
           "useAggregationsUi": true,
           "valuesOptions": {},
           "version": 2,
           "xAxis": {
            "labels": {
             "enabled": true
            },
            "type": "-"
           },
           "yAxis": [
            {
             "type": "-"
            },
            {
             "opposite": true,
             "type": "-"
            }
           ]
          }
         }
        ]
       },
       "datasetPreviewNameToCmdIdMap": {},
       "diffDeletes": [],
       "diffInserts": [],
       "displayType": "redashChart",
       "error": null,
       "errorDetails": null,
       "errorSummary": null,
       "errorTraceType": null,
       "finishTime": 0,
       "globalVars": {},
       "guid": "",
       "height": "auto",
       "hideCommandCode": false,
       "hideCommandResult": false,
       "iPythonMetadata": null,
       "inputWidgets": {},
       "isLockedInExamMode": false,
       "latestUser": "a user",
       "latestUserId": null,
       "listResultMetadata": null,
       "metadata": {},
       "nuid": "3c9280ed-051f-4de7-96f5-61e77620fca3",
       "origId": 0,
       "parentHierarchy": [],
       "pivotAggregation": null,
       "pivotColumns": null,
       "position": 4.5,
       "resultDbfsErrorMessage": null,
       "resultDbfsStatus": "INLINED_IN_TREE",
       "results": null,
       "showCommandTitle": false,
       "startTime": 0,
       "state": "input",
       "streamStates": {},
       "subcommandOptions": {
        "queryPlan": {
         "groups": [
          {
           "column": "windspeedKmph_avg",
           "type": "column"
          }
         ],
         "selects": [
          {
           "column": "windspeedKmph_avg",
           "type": "column"
          },
          {
           "alias": "column_2f51c49e164",
           "args": [
            {
             "column": "tempC_avg",
             "type": "column"
            }
           ],
           "function": "SUM",
           "type": "function"
          }
         ]
        }
       },
       "submitTime": 0,
       "subtype": "tableResultSubCmd.visualization",
       "tableResultIndex": 0,
       "tableResultSettingsMap": {},
       "useConsistentColors": false,
       "version": "CommandV1",
       "width": "auto",
       "workflows": null,
       "xColumns": null,
       "yColumns": null
      }
     },
     "output_type": "display_data"
    }
   ],
   "source": [
    "\n",
    "try:\n",
    "    # -------------------------\n",
    "    # Read Silver Layer as STREAM\n",
    "    # -------------------------\n",
    "    df_silver = spark.readStream.format(\"delta\").table(\"weather_catalog.raw.silver_table\")\n",
    "\n",
    "    # -------------------------\n",
    "    # Numeric columns to aggregate\n",
    "    # -------------------------\n",
    "    numeric_cols = [\n",
    "        \"maxtempC\", \"mintempC\", \"totalSnow_cm\", \"sunHour\", \"uvIndex\", \"moon_illumination\",\n",
    "        \"DewPointC\", \"FeelsLikeC\", \"HeatIndexC\", \"WindChillC\", \"WindGustKmph\",\n",
    "        \"cloudcover\", \"humidity\", \"precipMM\", \"pressure\", \"tempC\", \"visibility\",\n",
    "        \"winddirDegree\", \"windspeedKmph\"\n",
    "    ]\n",
    "\n",
    "    # -------------------------\n",
    "    # Build aggregation expressions\n",
    "    # -------------------------\n",
    "    aggregations = []\n",
    "    for c in numeric_cols:\n",
    "        aggregations.append(F.max(c).alias(f\"{c}_max\"))\n",
    "        aggregations.append(F.min(c).alias(f\"{c}_min\"))\n",
    "        aggregations.append(F.avg(c).alias(f\"{c}_avg\"))\n",
    "\n",
    "    # -------------------------\n",
    "    # Group by City\n",
    "    # -------------------------\n",
    "    df_citywise_stats = df_silver.groupBy(\"City\").agg(*aggregations)\n",
    "\n",
    "    # -------------------------\n",
    "    # Write streaming output to Gold Layer\n",
    "    # -------------------------\n",
    "    df_citywise_stats.writeStream \\\n",
    "        .format(\"delta\") \\\n",
    "        .outputMode(\"complete\") \\\n",
    "        .option(\"skipChangeCommits\", \"true\") \\\n",
    "        .option(\"checkpointLocation\", f\"{checkpoint_path}/gold_citywise\") \\\n",
    "        .toTable(\"weather_catalog.gold.citywise_stats\")\n",
    "\n",
    "    # -------------------------\n",
    "    # Slack notification\n",
    "    # -------------------------\n",
    "    send_slack_message(\"Citywise weather statistics streaming to Gold Layer.\", level=\"INFO\")\n",
    "\n",
    "    # -------------------------\n",
    "    # Display results (updates as stream progresses)\n",
    "    # -------------------------\n",
    "    display(df_citywise_stats)\n",
    "\n",
    "except Exception as e:\n",
    "    send_slack_message(f\"Error while computing citywise stats: {str(e)}\", level=\"ERROR\")\n",
    "    raise"
   ]
  },
  {
   "cell_type": "code",
   "execution_count": 0,
   "metadata": {
    "application/vnd.databricks.v1+cell": {
     "cellMetadata": {
      "byteLimit": 2048000,
      "rowLimit": 10000
     },
     "inputWidgets": {},
     "nuid": "dc5ba874-aa6b-4412-b5fb-7ee81012dd86",
     "showTitle": false,
     "tableResultSettingsMap": {},
     "title": ""
    }
   },
   "outputs": [],
   "source": [
    "from pyspark.sql import functions as F\n",
    "\n",
    "\n",
    "try:\n",
    "    # -------------------------\n",
    "    # Read Silver Layer as STREAM\n",
    "    # -------------------------\n",
    "    df_silver = spark.readStream.format(\"delta\").table(\"weather_catalog.raw.silver_table\")\n",
    "\n",
    "    # -------------------------\n",
    "    # Group by city and calculate aggregate stats\n",
    "    # -------------------------\n",
    "    city_stats = df_silver.groupBy(\"City\").agg(\n",
    "        F.max(\"maxtempC\").alias(\"max_temp\"),\n",
    "        F.min(\"mintempC\").alias(\"min_temp\"),\n",
    "        F.sum(\"precipMM\").alias(\"total_rain\"),\n",
    "        F.avg(\"humidity\").alias(\"avg_humidity\"),\n",
    "        F.max(\"humidity\").alias(\"max_humidity\"),\n",
    "        F.min(\"humidity\").alias(\"min_humidity\"),\n",
    "        F.max(\"windspeedKmph\").alias(\"max_wind\"),\n",
    "        F.min(\"windspeedKmph\").alias(\"min_wind\"),\n",
    "        F.max(\"sunHour\").alias(\"max_sun\"),\n",
    "        F.max(\"cloudcover\").alias(\"max_cloud\"),\n",
    "        F.max(\"visibility\").alias(\"max_visibility\"),\n",
    "        F.min(\"visibility\").alias(\"min_visibility\"),\n",
    "        F.max(\"pressure\").alias(\"max_pressure\"),\n",
    "        F.min(\"pressure\").alias(\"min_pressure\")\n",
    "    )\n",
    "\n",
    "    # -------------------------\n",
    "    # Optionally write streaming results to Gold Layer\n",
    "    # -------------------------\n",
    "    city_stats.writeStream \\\n",
    "        .format(\"delta\") \\\n",
    "        .outputMode(\"complete\") \\\n",
    "        .option(\"skipChangeCommits\", \"true\") \\\n",
    "        .option(\"checkpointLocation\", f\"{checkpoint_path}/gold_city_insights\") \\\n",
    "        .toTable(\"weather_catalog.gold.city_insights\")\n",
    "\n",
    "    # -------------------------\n",
    "    # Pick top cities for each category\n",
    "    # -------------------------\n",
    "    insights = {\n",
    "        \"Hottest City\": city_stats.orderBy(F.desc(\"max_temp\")).limit(1),\n",
    "        \"Coolest City\": city_stats.orderBy(\"min_temp\").limit(1),\n",
    "        \"Most Rainfall City\": city_stats.orderBy(F.desc(\"total_rain\")).limit(1),\n",
    "        \"Most Humid City\": city_stats.orderBy(F.desc(\"max_humidity\")).limit(1),\n",
    "        \"Driest City\": city_stats.orderBy(\"min_humidity\").limit(1),\n",
    "        \"Windiest City\": city_stats.orderBy(F.desc(\"max_wind\")).limit(1),\n",
    "        \"Calmest City\": city_stats.orderBy(\"min_wind\").limit(1),\n",
    "        \"Sunniest City\": city_stats.orderBy(F.desc(\"max_sun\")).limit(1),\n",
    "        \"Cloudiest City\": city_stats.orderBy(F.desc(\"max_cloud\")).limit(1),\n",
    "        \"Best Visibility City\": city_stats.orderBy(F.desc(\"max_visibility\")).limit(1),\n",
    "        \"Worst Visibility City\": city_stats.orderBy(\"min_visibility\").limit(1),\n",
    "        \"Highest Pressure City\": city_stats.orderBy(F.desc(\"max_pressure\")).limit(1),\n",
    "        \"Lowest Pressure City\": city_stats.orderBy(\"min_pressure\").limit(1),\n",
    "    }\n",
    "\n",
    "    # -------------------------\n",
    "    # Show insights (streaming updates)\n",
    "    # -------------------------\n",
    "    for title, df in insights.items():\n",
    "        print(f\"\\n🔹 {title}:\")\n",
    "        display(df)\n",
    "\n",
    "    # -------------------------\n",
    "    # Slack success notification\n",
    "    # -------------------------\n",
    "    send_slack_message(\"City-level weather insights streaming successfully.\", level=\"INFO\")\n",
    "\n",
    "except Exception as e:\n",
    "    try:\n",
    "        send_slack_message(f\"Error while computing city-level insights: {str(e)}\", level=\"ERROR\")\n",
    "    except Exception as slack_err:\n",
    "        print(f\" Slack notification failed: {slack_err}\")\n",
    "    raise\n"
   ]
  },
  {
   "cell_type": "code",
   "execution_count": 0,
   "metadata": {
    "application/vnd.databricks.v1+cell": {
     "cellMetadata": {
      "byteLimit": 2048000,
      "rowLimit": 10000
     },
     "inputWidgets": {},
     "nuid": "c1f260b6-4131-4437-88c6-7adc82f6266e",
     "showTitle": false,
     "tableResultSettingsMap": {},
     "title": ""
    }
   },
   "outputs": [
    {
     "output_type": "display_data",
     "data": {
      "text/plain": [
       "Databricks visualization. Run in Databricks to view."
      ]
     },
     "metadata": {
      "application/vnd.databricks.v1.subcommand+json": {
       "baseErrorDetails": null,
       "bindings": {},
       "collapsed": false,
       "command": "%python\n__backend_agg_display_orig = display\n__backend_agg_dfs = []\ndef __backend_agg_display_new(df):\n    __backend_agg_df_modules = [\"pandas.core.frame\", \"databricks.koalas.frame\", \"pyspark.sql.dataframe\", \"pyspark.pandas.frame\", \"pyspark.sql.connect.dataframe\"]\n    if (type(df).__module__ in __backend_agg_df_modules and type(df).__name__ == 'DataFrame') or isinstance(df, list):\n        __backend_agg_dfs.append(df)\n\ndisplay = __backend_agg_display_new\n\ndef __backend_agg_user_code_fn():\n    import base64\n    exec(base64.standard_b64decode(\"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\").decode())\n\ntry:\n    # run user code\n    __backend_agg_user_code_fn()\n\n    #reset display function\n    display = __backend_agg_display_orig\n\n    if len(__backend_agg_dfs) > 0:\n        # create a temp view\n        if type(__backend_agg_dfs[0]).__module__ == \"databricks.koalas.frame\":\n            # koalas dataframe\n            __backend_agg_dfs[0].to_spark().createOrReplaceTempView(\"DatabricksViewee1e868\")\n        elif type(__backend_agg_dfs[0]).__module__ == \"pandas.core.frame\" or isinstance(__backend_agg_dfs[0], list):\n            # pandas dataframe\n            spark.createDataFrame(__backend_agg_dfs[0]).createOrReplaceTempView(\"DatabricksViewee1e868\")\n        else:\n            __backend_agg_dfs[0].createOrReplaceTempView(\"DatabricksViewee1e868\")\n        #run backend agg\n        display(spark.sql(\"\"\"WITH q AS (select * from DatabricksViewee1e868) SELECT `year`,SUM(`min_temp`) `column_2f51c49e178` FROM q GROUP BY `year`\"\"\"))\n    else:\n        displayHTML(\"dataframe no longer exists. If you're using dataframe.display(), use display(dataframe) instead.\")\n\n\nfinally:\n    spark.sql(\"drop view if exists DatabricksViewee1e868\")\n    display = __backend_agg_display_orig\n    del __backend_agg_display_new\n    del __backend_agg_display_orig\n    del __backend_agg_dfs\n    del __backend_agg_user_code_fn\n\n",
       "commandTitle": "yearly Hottest",
       "commandType": "auto",
       "commandVersion": 0,
       "commentThread": [],
       "commentsVisible": false,
       "contentSha256Hex": null,
       "customPlotOptions": {
        "redashChart": [
         {
          "key": "type",
          "value": "CHART"
         },
         {
          "key": "options",
          "value": {
           "alignYAxesAtZero": true,
           "coefficient": 1,
           "columnConfigurationMap": {
            "series": {
             "column": "City",
             "id": "column_2f51c49e185"
            },
            "x": {
             "column": "year",
             "id": "column_2f51c49e177"
            },
            "y": [
             {
              "column": "min_temp",
              "id": "column_2f51c49e178"
             }
            ]
           },
           "dateTimeFormat": "DD/MM/YYYY HH:mm",
           "direction": {
            "type": "counterclockwise"
           },
           "error_y": {
            "type": "data",
            "visible": true
           },
           "globalSeriesType": "scatter",
           "legend": {
            "traceorder": "normal"
           },
           "missingValuesAsZero": true,
           "numberFormat": "0,0.[00000]",
           "percentFormat": "0[.]00%",
           "series": {
            "error_y": {
             "type": "data",
             "visible": true
            },
            "stacking": null
           },
           "seriesOptions": {
            "column_2f51c49e178": {
             "type": "scatter"
            },
            "min_temp": {
             "type": "scatter"
            }
           },
           "showDataLabels": false,
           "sizemode": "diameter",
           "sortX": true,
           "sortY": true,
           "swappedAxes": false,
           "textFormat": "",
           "useAggregationsUi": true,
           "valuesOptions": {},
           "version": 2,
           "xAxis": {
            "labels": {
             "enabled": true
            },
            "type": "-"
           },
           "yAxis": [
            {
             "type": "-"
            },
            {
             "opposite": true,
             "type": "-"
            }
           ]
          }
         }
        ]
       },
       "datasetPreviewNameToCmdIdMap": {},
       "diffDeletes": [],
       "diffInserts": [],
       "displayType": "redashChart",
       "error": null,
       "errorDetails": null,
       "errorSummary": null,
       "errorTraceType": null,
       "finishTime": 0,
       "globalVars": {},
       "guid": "",
       "height": "auto",
       "hideCommandCode": false,
       "hideCommandResult": false,
       "iPythonMetadata": null,
       "inputWidgets": {},
       "isLockedInExamMode": false,
       "latestUser": "a user",
       "latestUserId": null,
       "listResultMetadata": null,
       "metadata": {},
       "nuid": "f00ab4f5-035a-42fa-9176-2bfecf2c8a1f",
       "origId": 0,
       "parentHierarchy": [],
       "pivotAggregation": null,
       "pivotColumns": null,
       "position": 6.5,
       "resultDbfsErrorMessage": null,
       "resultDbfsStatus": "INLINED_IN_TREE",
       "results": null,
       "showCommandTitle": false,
       "startTime": 0,
       "state": "input",
       "streamStates": {},
       "subcommandOptions": {
        "queryPlan": {
         "selects": [
          {
           "column": "year",
           "type": "column"
          },
          {
           "column": "min_temp",
           "type": "column"
          },
          {
           "column": "City",
           "type": "column"
          }
         ]
        }
       },
       "submitTime": 0,
       "subtype": "tableResultSubCmd.visualization",
       "tableResultIndex": 0,
       "tableResultSettingsMap": {},
       "useConsistentColors": false,
       "version": "CommandV1",
       "width": "auto",
       "workflows": null,
       "xColumns": null,
       "yColumns": null
      }
     },
     "output_type": "display_data"
    },
    {
     "output_type": "display_data",
     "data": {
      "text/plain": [
       "Databricks visualization. Run in Databricks to view."
      ]
     },
     "metadata": {
      "application/vnd.databricks.v1.subcommand+json": {
       "baseErrorDetails": null,
       "bindings": {},
       "collapsed": false,
       "command": "%python\n__backend_agg_display_orig = display\n__backend_agg_dfs = []\ndef __backend_agg_display_new(df):\n    __backend_agg_df_modules = [\"pandas.core.frame\", \"databricks.koalas.frame\", \"pyspark.sql.dataframe\", \"pyspark.pandas.frame\", \"pyspark.sql.connect.dataframe\"]\n    if (type(df).__module__ in __backend_agg_df_modules and type(df).__name__ == 'DataFrame') or isinstance(df, list):\n        __backend_agg_dfs.append(df)\n\ndisplay = __backend_agg_display_new\n\ndef __backend_agg_user_code_fn():\n    import base64\n    exec(base64.standard_b64decode(\"ZnJvbSBweXNwYXJrLnNxbCBpbXBvcnQgZnVuY3Rpb25zIGFzIEYKZnJvbSBweXNwYXJrLnNxbC5mdW5jdGlvbnMgaW1wb3J0IGNvbCwgeWVhciwgYXZnLCBtaW4sIG1heCwgc3VtCmZyb20gcHlzcGFyay5zcWwud2luZG93IGltcG9ydCBXaW5kb3cKCmdvbGRfYmFzZV9wYXRoID0gIndlYXRoZXJfY2F0YWxvZy5nb2xkIgoKdHJ5OgogICAgIyAtLS0tLS0tLS0tLS0tLS0tLS0tLS0tLS0tCiAgICAjIEV4dHJhY3QgeWVhciBmcm9tIGRhdGVfdGltZQogICAgIyAtLS0tLS0tLS0tLS0tLS0tLS0tLS0tLS0tCiAgICBkZl95ZWFybHkgPSBkZl9zaWx2ZXIud2l0aENvbHVtbigieWVhciIsIHllYXIoY29sKCJkYXRlX3RpbWUiKSkpCgogICAgIyAtLS0tLS0tLS0tLS0tLS0tLS0tLS0tLS0tCiAgICAjIFllYXItd2lzZSBjb29sZXN0IGNpdHkgKG1pbiB0ZW1wKQogICAgIyAtLS0tLS0tLS0tLS0tLS0tLS0tLS0tLS0tCiAgICBjb29sZXN0X2NpdHkgPSBkZl95ZWFybHkuZ3JvdXBCeSgieWVhciIsICJDaXR5IikgXAogICAgICAgIC5hZ2cobWluKCJtaW50ZW1wQyIpLmFsaWFzKCJtaW5fdGVtcCIpKSBcCiAgICAgICAgLndpdGhDb2x1bW4oInJhbmsiLCAKICAgICAgICAgICAgRi5yb3dfbnVtYmVyKCkub3ZlcihXaW5kb3cucGFydGl0aW9uQnkoInllYXIiKS5vcmRlckJ5KCJtaW5fdGVtcCIpKQogICAgICAgICkuZmlsdGVyKGNvbCgicmFuayIpID09IDEpLmRyb3AoInJhbmsiKQogICAgCiAgICAjIFNhdmUgRGVsdGEgdGFibGUKICAgIGNvb2xlc3RfY2l0eS53cml0ZS5mb3JtYXQoImRlbHRhIikubW9kZSgib3ZlcndyaXRlIikuc2F2ZUFzVGFibGUoZiJ7Z29sZF9iYXNlX3BhdGh9LmNvb2xlc3RfY2l0eSIpCiAgICAKICAgICMgLS0tLS0tLS0tLS0tLS0tLS0tLS0tLS0tLQogICAgIyBZZWFyLXdpc2UgaG90dGVzdCBjaXR5IChtYXggdGVtcCkKICAgICMgLS0tLS0tLS0tLS0tLS0tLS0tLS0tLS0tLQogICAgaG90dGVzdF9jaXR5ID0gZGZfeWVhcmx5Lmdyb3VwQnkoInllYXIiLCAiQ2l0eSIpIFwKICAgICAgICAuYWdnKG1heCgibWF4dGVtcEMiKS5hbGlhcygibWF4X3RlbXAiKSkgXAogICAgICAgIC53aXRoQ29sdW1uKCJyYW5rIiwgCiAgICAgICAgICAgIEYucm93X251bWJlcigpLm92ZXIoV2luZG93LnBhcnRpdGlvbkJ5KCJ5ZWFyIikub3JkZXJCeShjb2woIm1heF90ZW1wIikuZGVzYygpKSkKICAgICAgICApLmZpbHRlcihjb2woInJhbmsiKSA9PSAxKS5kcm9wKCJyYW5rIikKICAgIAogICAgaG90dGVzdF9jaXR5LndyaXRlLmZvcm1hdCgiZGVsdGEiKS5tb2RlKCJvdmVyd3JpdGUiKS5zYXZlQXNUYWJsZShmIntnb2xkX2Jhc2VfcGF0aH0uaG90dGVzdF9jaXR5IikKCiAgICAjIC0tLS0tLS0tLS0tLS0tLS0tLS0tLS0tLS0KICAgICMgWWVhci13aXNlIHJhaW5pZXN0IGNpdHkgKHN1bSBvZiBwcmVjaXBpdGF0aW9uKQogICAgIyAtLS0tLS0tLS0tLS0tLS0tLS0tLS0tLS0tCiAgICByYWluaWVzdF9jaXR5ID0gZGZfeWVhcmx5Lmdyb3VwQnkoInllYXIiLCAiQ2l0eSIpIFwKICAgICAgICAuYWdnKHN1bSgicHJlY2lwTU0iKS5hbGlhcygidG90YWxfcmFpbiIpKSBcCiAgICAgICAgLndpdGhDb2x1bW4oInJhbmsiLCAKICAgICAgICAgICAgRi5yb3dfbnVtYmVyKCkub3ZlcihXaW5kb3cucGFydGl0aW9uQnkoInllYXIiKS5vcmRlckJ5KGNvbCgidG90YWxfcmFpbiIpLmRlc2MoKSkpCiAgICAgICAgKS5maWx0ZXIoY29sKCJyYW5rIikgPT0gMSkuZHJvcCgicmFuayIpCiAgICAKICAgIHJhaW5pZXN0X2NpdHkud3JpdGUuZm9ybWF0KCJkZWx0YSIpLm1vZGUoIm92ZXJ3cml0ZSIpLnNhdmVBc1RhYmxlKGYie2dvbGRfYmFzZV9wYXRofS5yYWluaWVzdF9jaXR5IikKCiAgICAjIC0tLS0tLS0tLS0tLS0tLS0tLS0tLS0tLS0KICAgICMgWWVhci13aXNlIG1vc3QgaHVtaWQgY2l0eSAoYXZnIGh1bWlkaXR5KQogICAgIyAtLS0tLS0tLS0tLS0tLS0tLS0tLS0tLS0tCiAgICBtb3N0X2h1bWlkX2NpdHkgPSBkZl95ZWFybHkuZ3JvdXBCeSgieWVhciIsICJDaXR5IikgXAogICAgICAgIC5hZ2coYXZnKCJodW1pZGl0eSIpLmFsaWFzKCJhdmdfaHVtaWRpdHkiKSkgXAogICAgICAgIC53aXRoQ29sdW1uKCJyYW5rIiwgCiAgICAgICAgICAgIEYucm93X251bWJlcigpLm92ZXIoV2luZG93LnBhcnRpdGlvbkJ5KCJ5ZWFyIikub3JkZXJCeShjb2woImF2Z19odW1pZGl0eSIpLmRlc2MoKSkpCiAgICAgICAgKS5maWx0ZXIoY29sKCJyYW5rIikgPT0gMSkuZHJvcCgicmFuayIpCiAgICAKICAgIG1vc3RfaHVtaWRfY2l0eS53cml0ZS5mb3JtYXQoImRlbHRhIikubW9kZSgib3ZlcndyaXRlIikuc2F2ZUFzVGFibGUoZiJ7Z29sZF9iYXNlX3BhdGh9Lm1vc3RfaHVtaWRfY2l0eSIpCgogICAgIyAtLS0tLS0tLS0tLS0tLS0tLS0tLS0tLS0tCiAgICAjIFllYXItd2lzZSBzdW5uaWVzdCBjaXR5IChhdmcgc3VuSG91cikKICAgICMgLS0tLS0tLS0tLS0tLS0tLS0tLS0tLS0tLQogICAgc3Vubmllc3RfY2l0eSA9IGRmX3llYXJseS5ncm91cEJ5KCJ5ZWFyIiwgIkNpdHkiKSBcCiAgICAgICAgLmFnZyhhdmcoInN1bkhvdXIiKS5hbGlhcygiYXZnX3N1bkhvdXIiKSkgXAogICAgICAgIC53aXRoQ29sdW1uKCJyYW5rIiwgCiAgICAgICAgICAgIEYucm93X251bWJlcigpLm92ZXIoV2luZG93LnBhcnRpdGlvbkJ5KCJ5ZWFyIikub3JkZXJCeShjb2woImF2Z19zdW5Ib3VyIikuZGVzYygpKSkKICAgICAgICApLmZpbHRlcihjb2woInJhbmsiKSA9PSAxKS5kcm9wKCJyYW5rIikKICAgIAogICAgc3Vubmllc3RfY2l0eS53cml0ZS5mb3JtYXQoImRlbHRhIikubW9kZSgib3ZlcndyaXRlIikuc2F2ZUFzVGFibGUoZiJ7Z29sZF9iYXNlX3BhdGh9LnN1bm5pZXN0X2NpdHkiKQoKICAgICMgLS0tLS0tLS0tLS0tLS0tLS0tLS0tLS0tLQogICAgIyBZZWFyLXdpc2Ugd2luZGllc3QgY2l0eSAoYXZnIHdpbmRzcGVlZCkKICAgICMgLS0tLS0tLS0tLS0tLS0tLS0tLS0tLS0tLQogICAgd2luZGllc3RfY2l0eSA9IGRmX3llYXJseS5ncm91cEJ5KCJ5ZWFyIiwgIkNpdHkiKSBcCiAgICAgICAgLmFnZyhhdmcoIndpbmRzcGVlZEttcGgiKS5hbGlhcygiYXZnX3dpbmQiKSkgXAogICAgICAgIC53aXRoQ29sdW1uKCJyYW5rIiwgCiAgICAgICAgICAgIEYucm93X251bWJlcigpLm92ZXIoV2luZG93LnBhcnRpdGlvbkJ5KCJ5ZWFyIikub3JkZXJCeShjb2woImF2Z193aW5kIikuZGVzYygpKSkKICAgICAgICApLmZpbHRlcihjb2woInJhbmsiKSA9PSAxKS5kcm9wKCJyYW5rIikKICAgIAogICAgd2luZGllc3RfY2l0eS53cml0ZS5mb3JtYXQoImRlbHRhIikubW9kZSgib3ZlcndyaXRlIikuc2F2ZUFzVGFibGUoZiJ7Z29sZF9iYXNlX3BhdGh9LndpbmRpZXN0X2NpdHkiKQoKICAgICMgLS0tLS0tLS0tLS0tLS0tLS0tLS0tLS0tLQogICAgIyBEaXNwbGF5IHJlc3VsdHMKICAgICMgLS0tLS0tLS0tLS0tLS0tLS0tLS0tLS0tLQogICAgZGlzcGxheShjb29sZXN0X2NpdHkpCiAgICBkaXNwbGF5KGhvdHRlc3RfY2l0eSkKICAgIGRpc3BsYXkocmFpbmllc3RfY2l0eSkKICAgIGRpc3BsYXkobW9zdF9odW1pZF9jaXR5KQogICAgZGlzcGxheShzdW5uaWVzdF9jaXR5KQogICAgZGlzcGxheSh3aW5kaWVzdF9jaXR5KQoKICAgICMgLS0tLS0tLS0tLS0tLS0tLS0tLS0tLS0tLQogICAgIyBTbGFjayBzdWNjZXNzIG5vdGlmaWNhdGlvbgogICAgIyAtLS0tLS0tLS0tLS0tLS0tLS0tLS0tLS0tCiAgICBzZW5kX3NsYWNrX21lc3NhZ2UoIiBZZWFyLXdpc2UgY2l0eS1sZXZlbCB3ZWF0aGVyIGluc2lnaHRzIGNvbXB1dGVkIGFuZCBzYXZlZCB0byBHb2xkIGxheWVyIHN1Y2Nlc3NmdWxseS4iLCBsZXZlbD0iSU5GTyIpCgpleGNlcHQgRXhjZXB0aW9uIGFzIGU6CiAgICB0cnk6CiAgICAgICAgc2VuZF9zbGFja19tZXNzYWdlKGYiIEVycm9yIGR1cmluZyB5ZWFyLXdpc2UgY2l0eS1sZXZlbCBFVEw6IHtzdHIoZSl9IiwgbGV2ZWw9IkVSUk9SIikKICAgIGV4Y2VwdCBFeGNlcHRpb24gYXMgc2xhY2tfZXJyOgogICAgICAgIHByaW50KGYiIFNsYWNrIG5vdGlmaWNhdGlvbiBmYWlsZWQ6IHtzbGFja19lcnJ9IikKICAgIHJhaXNlCg==\").decode())\n\ntry:\n    # run user code\n    __backend_agg_user_code_fn()\n\n    #reset display function\n    display = __backend_agg_display_orig\n\n    if len(__backend_agg_dfs) > 1:\n        # create a temp view\n        if type(__backend_agg_dfs[1]).__module__ == \"databricks.koalas.frame\":\n            # koalas dataframe\n            __backend_agg_dfs[1].to_spark().createOrReplaceTempView(\"DatabricksView83c94ed\")\n        elif type(__backend_agg_dfs[1]).__module__ == \"pandas.core.frame\" or isinstance(__backend_agg_dfs[1], list):\n            # pandas dataframe\n            spark.createDataFrame(__backend_agg_dfs[1]).createOrReplaceTempView(\"DatabricksView83c94ed\")\n        else:\n            __backend_agg_dfs[1].createOrReplaceTempView(\"DatabricksView83c94ed\")\n        #run backend agg\n        display(spark.sql(\"\"\"WITH q AS (select * from DatabricksView83c94ed) SELECT `year`,`max_temp`,`City` FROM q\"\"\"))\n    else:\n        displayHTML(\"dataframe no longer exists. If you're using dataframe.display(), use display(dataframe) instead.\")\n\n\nfinally:\n    spark.sql(\"drop view if exists DatabricksView83c94ed\")\n    display = __backend_agg_display_orig\n    del __backend_agg_display_new\n    del __backend_agg_display_orig\n    del __backend_agg_dfs\n    del __backend_agg_user_code_fn\n\n",
       "commandTitle": "Yearly Coolest",
       "commandType": "auto",
       "commandVersion": 0,
       "commentThread": [],
       "commentsVisible": false,
       "contentSha256Hex": null,
       "customPlotOptions": {
        "redashChart": [
         {
          "key": "type",
          "value": "CHART"
         },
         {
          "key": "options",
          "value": {
           "alignYAxesAtZero": true,
           "coefficient": 1,
           "columnConfigurationMap": {
            "series": {
             "column": "City",
             "id": "column_2f51c49e183"
            },
            "x": {
             "column": "year",
             "id": "column_2f51c49e181"
            },
            "y": [
             {
              "column": "max_temp",
              "id": "column_2f51c49e182"
             }
            ]
           },
           "dateTimeFormat": "DD/MM/YYYY HH:mm",
           "direction": {
            "type": "counterclockwise"
           },
           "error_y": {
            "type": "data",
            "visible": true
           },
           "globalSeriesType": "scatter",
           "legend": {
            "traceorder": "normal"
           },
           "missingValuesAsZero": true,
           "numberFormat": "0,0.[00000]",
           "percentFormat": "0[.]00%",
           "series": {
            "error_y": {
             "type": "data",
             "visible": true
            },
            "stacking": null
           },
           "seriesOptions": {
            "column_2f51c49e182": {
             "name": "max_temp",
             "yAxis": 0
            }
           },
           "showDataLabels": false,
           "sizemode": "diameter",
           "sortX": true,
           "sortY": true,
           "swappedAxes": false,
           "textFormat": "",
           "useAggregationsUi": true,
           "valuesOptions": {},
           "version": 2,
           "xAxis": {
            "labels": {
             "enabled": true
            },
            "type": "-"
           },
           "yAxis": [
            {
             "type": "-"
            },
            {
             "opposite": true,
             "type": "-"
            }
           ]
          }
         }
        ]
       },
       "datasetPreviewNameToCmdIdMap": {},
       "diffDeletes": [],
       "diffInserts": [],
       "displayType": "redashChart",
       "error": null,
       "errorDetails": null,
       "errorSummary": null,
       "errorTraceType": null,
       "finishTime": 0,
       "globalVars": {},
       "guid": "",
       "height": "auto",
       "hideCommandCode": false,
       "hideCommandResult": false,
       "iPythonMetadata": null,
       "inputWidgets": {},
       "isLockedInExamMode": false,
       "latestUser": "a user",
       "latestUserId": null,
       "listResultMetadata": null,
       "metadata": {},
       "nuid": "1e32e676-0462-45a2-bf78-c0faa4058d8a",
       "origId": 0,
       "parentHierarchy": [],
       "pivotAggregation": null,
       "pivotColumns": null,
       "position": 6.5,
       "resultDbfsErrorMessage": null,
       "resultDbfsStatus": "INLINED_IN_TREE",
       "results": null,
       "showCommandTitle": false,
       "startTime": 0,
       "state": "input",
       "streamStates": {},
       "subcommandOptions": {
        "queryPlan": {
         "selects": [
          {
           "column": "year",
           "type": "column"
          },
          {
           "column": "max_temp",
           "type": "column"
          },
          {
           "column": "City",
           "type": "column"
          }
         ]
        }
       },
       "submitTime": 0,
       "subtype": "tableResultSubCmd.visualization",
       "tableResultIndex": 1,
       "tableResultSettingsMap": {},
       "useConsistentColors": false,
       "version": "CommandV1",
       "width": "auto",
       "workflows": null,
       "xColumns": null,
       "yColumns": null
      }
     },
     "output_type": "display_data"
    },
    {
     "output_type": "display_data",
     "data": {
      "text/plain": [
       "Databricks visualization. Run in Databricks to view."
      ]
     },
     "metadata": {
      "application/vnd.databricks.v1.subcommand+json": {
       "baseErrorDetails": null,
       "bindings": {},
       "collapsed": false,
       "command": "%python\n__backend_agg_display_orig = display\n__backend_agg_dfs = []\ndef __backend_agg_display_new(df):\n    __backend_agg_df_modules = [\"pandas.core.frame\", \"databricks.koalas.frame\", \"pyspark.sql.dataframe\", \"pyspark.pandas.frame\", \"pyspark.sql.connect.dataframe\"]\n    if (type(df).__module__ in __backend_agg_df_modules and type(df).__name__ == 'DataFrame') or isinstance(df, list):\n        __backend_agg_dfs.append(df)\n\ndisplay = __backend_agg_display_new\n\ndef __backend_agg_user_code_fn():\n    import base64\n    exec(base64.standard_b64decode(\"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\").decode())\n\ntry:\n    # run user code\n    __backend_agg_user_code_fn()\n\n    #reset display function\n    display = __backend_agg_display_orig\n\n    if len(__backend_agg_dfs) > 2:\n        # create a temp view\n        if type(__backend_agg_dfs[2]).__module__ == \"databricks.koalas.frame\":\n            # koalas dataframe\n            __backend_agg_dfs[2].to_spark().createOrReplaceTempView(\"DatabricksView17918db\")\n        elif type(__backend_agg_dfs[2]).__module__ == \"pandas.core.frame\" or isinstance(__backend_agg_dfs[2], list):\n            # pandas dataframe\n            spark.createDataFrame(__backend_agg_dfs[2]).createOrReplaceTempView(\"DatabricksView17918db\")\n        else:\n            __backend_agg_dfs[2].createOrReplaceTempView(\"DatabricksView17918db\")\n        #run backend agg\n        display(spark.sql(\"\"\"WITH q AS (select * from DatabricksView17918db) SELECT `year`,SUM(`total_rain`) `column_2f51c49e187`,`City` FROM q GROUP BY `City`,`year`\"\"\"))\n    else:\n        displayHTML(\"dataframe no longer exists. If you're using dataframe.display(), use display(dataframe) instead.\")\n\n\nfinally:\n    spark.sql(\"drop view if exists DatabricksView17918db\")\n    display = __backend_agg_display_orig\n    del __backend_agg_display_new\n    del __backend_agg_display_orig\n    del __backend_agg_dfs\n    del __backend_agg_user_code_fn\n\n",
       "commandTitle": "Visualization 1",
       "commandType": "auto",
       "commandVersion": 0,
       "commentThread": [],
       "commentsVisible": false,
       "contentSha256Hex": null,
       "customPlotOptions": {
        "redashChart": [
         {
          "key": "type",
          "value": "CHART"
         },
         {
          "key": "options",
          "value": {
           "alignYAxesAtZero": true,
           "coefficient": 1,
           "columnConfigurationMap": {
            "series": {
             "column": "City",
             "id": "column_2f51c49e188"
            },
            "x": {
             "column": "year",
             "id": "column_2f51c49e186"
            },
            "y": [
             {
              "column": "total_rain",
              "id": "column_2f51c49e187",
              "transform": "SUM"
             }
            ]
           },
           "dateTimeFormat": "DD/MM/YYYY HH:mm",
           "direction": {
            "type": "counterclockwise"
           },
           "error_y": {
            "type": "data",
            "visible": true
           },
           "globalSeriesType": "line",
           "isAggregationOn": true,
           "legend": {
            "traceorder": "normal"
           },
           "missingValuesAsZero": true,
           "numberFormat": "0,0.[00000]",
           "percentFormat": "0[.]00%",
           "series": {
            "error_y": {
             "type": "data",
             "visible": true
            },
            "stacking": null
           },
           "seriesOptions": {
            "column_2f51c49e187": {
             "name": "total_rain",
             "type": "line",
             "yAxis": 0
            }
           },
           "showDataLabels": false,
           "sizemode": "diameter",
           "sortX": true,
           "sortY": true,
           "swappedAxes": false,
           "textFormat": "",
           "useAggregationsUi": true,
           "valuesOptions": {},
           "version": 2,
           "xAxis": {
            "labels": {
             "enabled": true
            },
            "type": "-"
           },
           "yAxis": [
            {
             "type": "-"
            },
            {
             "opposite": true,
             "type": "-"
            }
           ]
          }
         }
        ]
       },
       "datasetPreviewNameToCmdIdMap": {},
       "diffDeletes": [],
       "diffInserts": [],
       "displayType": "redashChart",
       "error": null,
       "errorDetails": null,
       "errorSummary": null,
       "errorTraceType": null,
       "finishTime": 0,
       "globalVars": {},
       "guid": "",
       "height": "auto",
       "hideCommandCode": false,
       "hideCommandResult": false,
       "iPythonMetadata": null,
       "inputWidgets": {},
       "isLockedInExamMode": false,
       "latestUser": "a user",
       "latestUserId": null,
       "listResultMetadata": null,
       "metadata": {},
       "nuid": "3dc04b49-9d64-4250-8377-b51a39c85f44",
       "origId": 0,
       "parentHierarchy": [],
       "pivotAggregation": null,
       "pivotColumns": null,
       "position": 6.5,
       "resultDbfsErrorMessage": null,
       "resultDbfsStatus": "INLINED_IN_TREE",
       "results": null,
       "showCommandTitle": false,
       "startTime": 0,
       "state": "input",
       "streamStates": {},
       "subcommandOptions": {
        "queryPlan": {
         "groups": [
          {
           "column": "year",
           "type": "column"
          },
          {
           "column": "City",
           "type": "column"
          }
         ],
         "selects": [
          {
           "column": "year",
           "type": "column"
          },
          {
           "alias": "column_2f51c49e187",
           "args": [
            {
             "column": "total_rain",
             "type": "column"
            }
           ],
           "function": "SUM",
           "type": "function"
          },
          {
           "column": "City",
           "type": "column"
          }
         ]
        }
       },
       "submitTime": 0,
       "subtype": "tableResultSubCmd.visualization",
       "tableResultIndex": 2,
       "tableResultSettingsMap": {},
       "useConsistentColors": false,
       "version": "CommandV1",
       "width": "auto",
       "workflows": null,
       "xColumns": null,
       "yColumns": null
      }
     },
     "output_type": "display_data"
    },
    {
     "output_type": "display_data",
     "data": {
      "text/plain": [
       "Databricks visualization. Run in Databricks to view."
      ]
     },
     "metadata": {
      "application/vnd.databricks.v1.subcommand+json": {
       "baseErrorDetails": null,
       "bindings": {},
       "collapsed": false,
       "command": "%python\n__backend_agg_display_orig = display\n__backend_agg_dfs = []\ndef __backend_agg_display_new(df):\n    __backend_agg_df_modules = [\"pandas.core.frame\", \"databricks.koalas.frame\", \"pyspark.sql.dataframe\", \"pyspark.pandas.frame\", \"pyspark.sql.connect.dataframe\"]\n    if (type(df).__module__ in __backend_agg_df_modules and type(df).__name__ == 'DataFrame') or isinstance(df, list):\n        __backend_agg_dfs.append(df)\n\ndisplay = __backend_agg_display_new\n\ndef __backend_agg_user_code_fn():\n    import base64\n    exec(base64.standard_b64decode(\"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\").decode())\n\ntry:\n    # run user code\n    __backend_agg_user_code_fn()\n\n    #reset display function\n    display = __backend_agg_display_orig\n\n    if len(__backend_agg_dfs) > 5:\n        # create a temp view\n        if type(__backend_agg_dfs[5]).__module__ == \"databricks.koalas.frame\":\n            # koalas dataframe\n            __backend_agg_dfs[5].to_spark().createOrReplaceTempView(\"DatabricksView2eaeb4d\")\n        elif type(__backend_agg_dfs[5]).__module__ == \"pandas.core.frame\" or isinstance(__backend_agg_dfs[5], list):\n            # pandas dataframe\n            spark.createDataFrame(__backend_agg_dfs[5]).createOrReplaceTempView(\"DatabricksView2eaeb4d\")\n        else:\n            __backend_agg_dfs[5].createOrReplaceTempView(\"DatabricksView2eaeb4d\")\n        #run backend agg\n        display(spark.sql(\"\"\"WITH q AS (select * from DatabricksView2eaeb4d) SELECT `year`,SUM(`avg_wind`) `column_2f51c49e191`,`City` FROM q GROUP BY `City`,`year`\"\"\"))\n    else:\n        displayHTML(\"dataframe no longer exists. If you're using dataframe.display(), use display(dataframe) instead.\")\n\n\nfinally:\n    spark.sql(\"drop view if exists DatabricksView2eaeb4d\")\n    display = __backend_agg_display_orig\n    del __backend_agg_display_new\n    del __backend_agg_display_orig\n    del __backend_agg_dfs\n    del __backend_agg_user_code_fn\n\n",
       "commandTitle": "Visualization 1",
       "commandType": "auto",
       "commandVersion": 0,
       "commentThread": [],
       "commentsVisible": false,
       "contentSha256Hex": null,
       "customPlotOptions": {
        "redashChart": [
         {
          "key": "type",
          "value": "CHART"
         },
         {
          "key": "options",
          "value": {
           "alignYAxesAtZero": true,
           "coefficient": 1,
           "columnConfigurationMap": {
            "series": {
             "column": "City",
             "id": "column_2f51c49e192"
            },
            "x": {
             "column": "year",
             "id": "column_2f51c49e190"
            },
            "y": [
             {
              "column": "avg_wind",
              "id": "column_2f51c49e191",
              "transform": "SUM"
             }
            ]
           },
           "dateTimeFormat": "DD/MM/YYYY HH:mm",
           "direction": {
            "type": "counterclockwise"
           },
           "error_y": {
            "type": "data",
            "visible": true
           },
           "globalSeriesType": "pie",
           "isAggregationOn": true,
           "legend": {
            "traceorder": "normal"
           },
           "missingValuesAsZero": true,
           "numberFormat": "0,0.[00000]",
           "percentFormat": "0[.]00%",
           "series": {
            "error_y": {
             "type": "data",
             "visible": true
            },
            "stacking": null
           },
           "seriesOptions": {
            "column_2f51c49e191": {
             "name": "avg_wind",
             "type": "pie",
             "yAxis": 0
            }
           },
           "showDataLabels": true,
           "sizemode": "diameter",
           "sortX": true,
           "sortY": true,
           "swappedAxes": false,
           "textFormat": "",
           "useAggregationsUi": true,
           "valuesOptions": {},
           "version": 2,
           "xAxis": {
            "labels": {
             "enabled": true
            },
            "type": "-"
           },
           "yAxis": [
            {
             "type": "-"
            },
            {
             "opposite": true,
             "type": "-"
            }
           ]
          }
         }
        ]
       },
       "datasetPreviewNameToCmdIdMap": {},
       "diffDeletes": [],
       "diffInserts": [],
       "displayType": "redashChart",
       "error": null,
       "errorDetails": null,
       "errorSummary": null,
       "errorTraceType": null,
       "finishTime": 0,
       "globalVars": {},
       "guid": "",
       "height": "auto",
       "hideCommandCode": false,
       "hideCommandResult": false,
       "iPythonMetadata": null,
       "inputWidgets": {},
       "isLockedInExamMode": false,
       "latestUser": "a user",
       "latestUserId": null,
       "listResultMetadata": null,
       "metadata": {},
       "nuid": "0b7ba794-4838-436c-8e34-cb09f325b1ab",
       "origId": 0,
       "parentHierarchy": [],
       "pivotAggregation": null,
       "pivotColumns": null,
       "position": 6.5,
       "resultDbfsErrorMessage": null,
       "resultDbfsStatus": "INLINED_IN_TREE",
       "results": null,
       "showCommandTitle": false,
       "startTime": 0,
       "state": "input",
       "streamStates": {},
       "subcommandOptions": {
        "queryPlan": {
         "groups": [
          {
           "column": "year",
           "type": "column"
          },
          {
           "column": "City",
           "type": "column"
          }
         ],
         "selects": [
          {
           "column": "year",
           "type": "column"
          },
          {
           "alias": "column_2f51c49e191",
           "args": [
            {
             "column": "avg_wind",
             "type": "column"
            }
           ],
           "function": "SUM",
           "type": "function"
          },
          {
           "column": "City",
           "type": "column"
          }
         ]
        }
       },
       "submitTime": 0,
       "subtype": "tableResultSubCmd.visualization",
       "tableResultIndex": 5,
       "tableResultSettingsMap": {},
       "useConsistentColors": false,
       "version": "CommandV1",
       "width": "auto",
       "workflows": null,
       "xColumns": null,
       "yColumns": null
      }
     },
     "output_type": "display_data"
    },
    {
     "output_type": "display_data",
     "data": {
      "text/plain": [
       "Databricks visualization. Run in Databricks to view."
      ]
     },
     "metadata": {
      "application/vnd.databricks.v1.subcommand+json": {
       "baseErrorDetails": null,
       "bindings": {},
       "collapsed": false,
       "command": "%python\n__backend_agg_display_orig = display\n__backend_agg_dfs = []\ndef __backend_agg_display_new(df):\n    __backend_agg_df_modules = [\"pandas.core.frame\", \"databricks.koalas.frame\", \"pyspark.sql.dataframe\", \"pyspark.pandas.frame\", \"pyspark.sql.connect.dataframe\"]\n    if (type(df).__module__ in __backend_agg_df_modules and type(df).__name__ == 'DataFrame') or isinstance(df, list):\n        __backend_agg_dfs.append(df)\n\ndisplay = __backend_agg_display_new\n\ndef __backend_agg_user_code_fn():\n    import base64\n    exec(base64.standard_b64decode(\"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\").decode())\n\ntry:\n    # run user code\n    __backend_agg_user_code_fn()\n\n    #reset display function\n    display = __backend_agg_display_orig\n\n    if len(__backend_agg_dfs) > 4:\n        # create a temp view\n        if type(__backend_agg_dfs[4]).__module__ == \"databricks.koalas.frame\":\n            # koalas dataframe\n            __backend_agg_dfs[4].to_spark().createOrReplaceTempView(\"DatabricksView4900aaf\")\n        elif type(__backend_agg_dfs[4]).__module__ == \"pandas.core.frame\" or isinstance(__backend_agg_dfs[4], list):\n            # pandas dataframe\n            spark.createDataFrame(__backend_agg_dfs[4]).createOrReplaceTempView(\"DatabricksView4900aaf\")\n        else:\n            __backend_agg_dfs[4].createOrReplaceTempView(\"DatabricksView4900aaf\")\n        #run backend agg\n        display(spark.sql(\"\"\"WITH q AS (select * from DatabricksView4900aaf) SELECT `year`,SUM(`avg_sunHour`) `column_2f51c49e195`,`City` FROM q GROUP BY `City`,`year`\"\"\"))\n    else:\n        displayHTML(\"dataframe no longer exists. If you're using dataframe.display(), use display(dataframe) instead.\")\n\n\nfinally:\n    spark.sql(\"drop view if exists DatabricksView4900aaf\")\n    display = __backend_agg_display_orig\n    del __backend_agg_display_new\n    del __backend_agg_display_orig\n    del __backend_agg_dfs\n    del __backend_agg_user_code_fn\n\n",
       "commandTitle": "Visualization 1",
       "commandType": "auto",
       "commandVersion": 0,
       "commentThread": [],
       "commentsVisible": false,
       "contentSha256Hex": null,
       "customPlotOptions": {
        "redashChart": [
         {
          "key": "type",
          "value": "CHART"
         },
         {
          "key": "options",
          "value": {
           "alignYAxesAtZero": true,
           "coefficient": 1,
           "columnConfigurationMap": {
            "series": {
             "column": "City",
             "id": "column_2f51c49e196"
            },
            "x": {
             "column": "year",
             "id": "column_2f51c49e194"
            },
            "y": [
             {
              "column": "avg_sunHour",
              "id": "column_2f51c49e195",
              "transform": "SUM"
             }
            ]
           },
           "dateTimeFormat": "DD/MM/YYYY HH:mm",
           "direction": {
            "type": "counterclockwise"
           },
           "error_y": {
            "type": "data",
            "visible": true
           },
           "globalSeriesType": "area",
           "isAggregationOn": true,
           "legend": {
            "traceorder": "normal"
           },
           "missingValuesAsZero": true,
           "numberFormat": "0,0.[00000]",
           "percentFormat": "0[.]00%",
           "series": {
            "error_y": {
             "type": "data",
             "visible": true
            },
            "stacking": null
           },
           "seriesOptions": {
            "column_2f51c49e195": {
             "name": "avg_sunHour",
             "type": "area",
             "yAxis": 0
            }
           },
           "showDataLabels": false,
           "sizemode": "diameter",
           "sortX": true,
           "sortY": true,
           "swappedAxes": false,
           "textFormat": "",
           "useAggregationsUi": true,
           "valuesOptions": {},
           "version": 2,
           "xAxis": {
            "labels": {
             "enabled": true
            },
            "type": "-"
           },
           "yAxis": [
            {
             "type": "-"
            },
            {
             "opposite": true,
             "type": "-"
            }
           ]
          }
         }
        ]
       },
       "datasetPreviewNameToCmdIdMap": {},
       "diffDeletes": [],
       "diffInserts": [],
       "displayType": "redashChart",
       "error": null,
       "errorDetails": null,
       "errorSummary": null,
       "errorTraceType": null,
       "finishTime": 0,
       "globalVars": {},
       "guid": "",
       "height": "auto",
       "hideCommandCode": false,
       "hideCommandResult": false,
       "iPythonMetadata": null,
       "inputWidgets": {},
       "isLockedInExamMode": false,
       "latestUser": "a user",
       "latestUserId": null,
       "listResultMetadata": null,
       "metadata": {},
       "nuid": "b9934321-6b7a-490b-b389-e2c4fb0c3aeb",
       "origId": 0,
       "parentHierarchy": [],
       "pivotAggregation": null,
       "pivotColumns": null,
       "position": 6.5,
       "resultDbfsErrorMessage": null,
       "resultDbfsStatus": "INLINED_IN_TREE",
       "results": null,
       "showCommandTitle": false,
       "startTime": 0,
       "state": "input",
       "streamStates": {},
       "subcommandOptions": {
        "queryPlan": {
         "groups": [
          {
           "column": "year",
           "type": "column"
          },
          {
           "column": "City",
           "type": "column"
          }
         ],
         "selects": [
          {
           "column": "year",
           "type": "column"
          },
          {
           "alias": "column_2f51c49e195",
           "args": [
            {
             "column": "avg_sunHour",
             "type": "column"
            }
           ],
           "function": "SUM",
           "type": "function"
          },
          {
           "column": "City",
           "type": "column"
          }
         ]
        }
       },
       "submitTime": 0,
       "subtype": "tableResultSubCmd.visualization",
       "tableResultIndex": 4,
       "tableResultSettingsMap": {},
       "useConsistentColors": false,
       "version": "CommandV1",
       "width": "auto",
       "workflows": null,
       "xColumns": null,
       "yColumns": null
      }
     },
     "output_type": "display_data"
    }
   ],
   "source": [
    "from pyspark.sql import functions as F\n",
    "from pyspark.sql.functions import col, year, avg, min, max, sum\n",
    "from pyspark.sql.window import Window\n",
    "\n",
    "gold_base_path = \"weather_catalog.gold\"\n",
    "checkpoint_base = \"s3://weather-streaming-proj-bucket/gold_checkpoints\"\n",
    "\n",
    "try:\n",
    "    # -------------------------\n",
    "    # Read Silver table as streaming\n",
    "    # -------------------------\n",
    "    df_silver_stream = spark.readStream.format(\"delta\").table(\"weather_catalog.raw.silver_table\")\n",
    "\n",
    "    # -------------------------\n",
    "    # Add year column\n",
    "    # -------------------------\n",
    "    df_yearly = df_silver_stream.withColumn(\"year\", year(col(\"date_time\")))\n",
    "\n",
    "    # -------------------------\n",
    "    # Function to compute metrics and write as streaming Delta\n",
    "    # -------------------------\n",
    "    def write_gold_stream(df, agg_col, agg_func, table_name, desc=False):\n",
    "        df_agg = df.groupBy(\"year\", \"City\").agg(agg_func(col(agg_col)).alias(f\"{agg_col}_agg\"))\n",
    "        df_ranked = df_agg.withColumn(\n",
    "            \"rank\",\n",
    "            F.row_number().over(Window.partitionBy(\"year\").orderBy(\n",
    "                col(f\"{agg_col}_agg\").desc() if desc else col(f\"{agg_col}_agg\")\n",
    "            ))\n",
    "        ).filter(col(\"rank\") == 1).drop(\"rank\")\n",
    "\n",
    "        return df_ranked.writeStream \\\n",
    "            .format(\"delta\") \\\n",
    "            .outputMode(\"complete\") \\\n",
    "            .option(\"checkpointLocation\", f\"{checkpoint_base}/{table_name}\") \\\n",
    "            .toTable(f\"{gold_base_path}.{table_name}\")\n",
    "\n",
    "    # -------------------------\n",
    "    # Year-wise metrics streaming\n",
    "    # -------------------------\n",
    "    write_gold_stream(df_yearly, \"mintempC\", min, \"coolest_city\")\n",
    "    write_gold_stream(df_yearly, \"maxtempC\", max, \"hottest_city\", desc=True)\n",
    "    write_gold_stream(df_yearly, \"precipMM\", sum, \"rainiest_city\", desc=True)\n",
    "    write_gold_stream(df_yearly, \"humidity\", avg, \"most_humid_city\", desc=True)\n",
    "    write_gold_stream(df_yearly, \"sunHour\", avg, \"sunniest_city\", desc=True)\n",
    "    write_gold_stream(df_yearly, \"windspeedKmph\", avg, \"windiest_city\", desc=True)\n",
    "\n",
    "    # -------------------------\n",
    "    # Slack success notification\n",
    "    # -------------------------\n",
    "    send_slack_message(\" Gold layer streaming started successfully.\", level=\"INFO\")\n",
    "\n",
    "except Exception as e:\n",
    "    try:\n",
    "        send_slack_message(f\" Error during Gold layer streaming ETL: {str(e)}\", level=\"ERROR\")\n",
    "    except Exception as slack_err:\n",
    "        print(f\" Slack notification failed: {slack_err}\")\n",
    "    raise\n"
   ]
  }
 ],
 "metadata": {
  "application/vnd.databricks.v1+notebook": {
   "computePreferences": null,
   "dashboards": [
    {
     "elements": [],
     "globalVars": {},
     "guid": "",
     "layoutOption": {
      "grid": true,
      "stack": true
     },
     "nuid": "bd33d84b-cae9-4577-840f-2a6e9df4c34d",
     "origId": 8755736637179637,
     "title": "Dashboards",
     "version": "DashboardViewV1",
     "width": 1024
    }
   ],
   "environmentMetadata": {
    "base_environment": "",
    "environment_version": "3"
   },
   "inputWidgetPreferences": null,
   "language": "python",
   "notebookMetadata": {
    "mostRecentlyExecutedCommandWithImplicitDF": {
     "commandId": 4605845551887244,
     "dataframes": [
      "_sqldf"
     ]
    },
    "pythonIndentUnit": 4
   },
   "notebookName": "Gold_Layer",
   "widgets": {}
  },
  "language_info": {
   "name": "python"
  }
 },
 "nbformat": 4,
 "nbformat_minor": 0
}
