{
 "cells": [
  {
   "cell_type": "code",
   "execution_count": 0,
   "metadata": {
    "application/vnd.databricks.v1+cell": {
     "cellMetadata": {
      "byteLimit": 2048000,
      "rowLimit": 10000
     },
     "inputWidgets": {},
     "nuid": "bd0c63cb-1ac3-4b35-9fbc-777b581023c9",
     "showTitle": false,
     "tableResultSettingsMap": {},
     "title": ""
    }
   },
   "outputs": [],
   "source": [
    "from pyspark.sql.functions import col, regexp_replace, split, explode, from_json, when\n",
    "from pyspark.sql.types import StructType, StructField, StringType, DoubleType\n",
    "\n",
    "# Path with all files in folder\n",
    "path = \"s3://weather-streaming-proj-bucket/2025/08/22/04/*\"\n",
    "\n",
    "# Define schema\n",
    "weather_schema = StructType([\n",
    "    StructField(\"date_time\", StringType(), True),\n",
    "    StructField(\"maxtempC\", StringType(), True),\n",
    "    StructField(\"mintempC\", StringType(), True),\n",
    "    StructField(\"totalSnow_cm\", StringType(), True),\n",
    "    StructField(\"sunHour\", StringType(), True),\n",
    "    StructField(\"uvIndex\", StringType(), True),\n",
    "    StructField(\"moon_illumination\", StringType(), True),\n",
    "    StructField(\"moonrise\", StringType(), True),\n",
    "    StructField(\"moonset\", StringType(), True),\n",
    "    StructField(\"sunrise\", StringType(), True),\n",
    "    StructField(\"sunset\", StringType(), True),\n",
    "    StructField(\"DewPointC\", StringType(), True),\n",
    "    StructField(\"FeelsLikeC\", StringType(), True),\n",
    "    StructField(\"HeatIndexC\", StringType(), True),\n",
    "    StructField(\"WindChillC\", StringType(), True),\n",
    "    StructField(\"WindGustKmph\", StringType(), True),\n",
    "    StructField(\"cloudcover\", StringType(), True),\n",
    "    StructField(\"humidity\", StringType(), True),\n",
    "    StructField(\"precipMM\", StringType(), True),\n",
    "    StructField(\"pressure\", StringType(), True),\n",
    "    StructField(\"tempC\", StringType(), True),\n",
    "    StructField(\"visibility\", StringType(), True),\n",
    "    StructField(\"winddirDegree\", StringType(), True),\n",
    "    StructField(\"windspeedKmph\", StringType(), True),\n",
    "    StructField(\"City\", StringType(), True)\n",
    "])\n",
    "\n",
    "# 1. Read all files as raw text\n",
    "df_raw = spark.read.text(path)\n",
    "\n",
    "# 2. Clean newlines\n",
    "df_clean = df_raw.withColumn(\"value\", regexp_replace(col(\"value\"), r\"\\n\", \"\"))\n",
    "\n",
    "# 3. Split concatenated JSON {...}{...} into array\n",
    "df_split = df_clean.withColumn(\n",
    "    \"json_str\",\n",
    "    split(regexp_replace(col(\"value\"), r\"}\\{\", \"}|||{\"), r\"\\|\\|\\|\")\n",
    ")\n",
    "\n",
    "# 4. Explode into rows\n",
    "df_exploded = df_split.withColumn(\"json_str\", explode(col(\"json_str\")))\n",
    "\n",
    "# 5. Keep only valid JSON-looking rows\n",
    "df_valid = df_exploded.filter(col(\"json_str\").rlike(r\"^\\s*\\{.*\\}\\s*$\"))\n",
    "\n",
    "# 6. Parse into struct using schema\n",
    "df_parsed = df_valid.withColumn(\"parsed\", from_json(col(\"json_str\"), weather_schema)) \\\n",
    "                    .select(\"parsed.*\")\n",
    "\n",
    "# 7. Optional: cast numeric columns to double (avoid nulls for valid numbers)\n",
    "numeric_cols = [\"maxtempC\",\"mintempC\",\"totalSnow_cm\",\"sunHour\",\"uvIndex\",\n",
    "                \"DewPointC\",\"FeelsLikeC\",\"HeatIndexC\",\"WindChillC\",\n",
    "                \"WindGustKmph\",\"cloudcover\",\"humidity\",\"precipMM\",\"pressure\",\n",
    "                \"tempC\",\"visibility\",\"winddirDegree\",\"windspeedKmph\"]\n",
    "\n",
    "for c in numeric_cols:\n",
    "    df_parsed = df_parsed.withColumn(c, when(col(c).rlike(r\"^\\d+(\\.\\d+)?$\"), col(c).cast(DoubleType())).otherwise(None))\n",
    "\n",
    "# Show results\n",
    "display(df_parsed)\n",
    "df_parsed.printSchema()\n",
    "print(\"Total records:\", df_parsed.count())\n"
   ]
  },
  {
   "cell_type": "code",
   "execution_count": 0,
   "metadata": {
    "application/vnd.databricks.v1+cell": {
     "cellMetadata": {
      "byteLimit": 2048000,
      "rowLimit": 10000
     },
     "inputWidgets": {},
     "nuid": "6ba3ef79-5198-41f3-96c8-6de87cf1b339",
     "showTitle": false,
     "tableResultSettingsMap": {},
     "title": ""
    }
   },
   "outputs": [],
   "source": [
    "from pyspark.sql.functions import col, regexp_replace, split, explode, from_json, when\n",
    "from pyspark.sql.types import StructType, StructField, StringType, DoubleType\n",
    "\n",
    "# Path with all files in folder\n",
    "path = \"s3://weather-streaming-proj-bucket/2025/08/22/01/*\"\n",
    "\n",
    "# 1. Read all files as raw text\n",
    "df_raw = spark.read.text(path)\n",
    "\n",
    "# 2. Clean newlines\n",
    "df_clean = df_raw.withColumn(\"value\", regexp_replace(col(\"value\"), r\"\\n\", \"\"))\n",
    "\n",
    "# 3. Split concatenated JSON {...}{...} into array\n",
    "df_split = df_clean.withColumn(\n",
    "    \"json_str\",\n",
    "    split(regexp_replace(col(\"value\"), r\"}\\{\", \"}|||{\"), r\"\\|\\|\\|\")\n",
    ")\n",
    "\n",
    "# 4. Explode into rows\n",
    "df_exploded = df_split.withColumn(\"json_str\", explode(col(\"json_str\")))\n",
    "\n",
    "# 5. Keep only valid JSON-looking rows\n",
    "df_valid = df_exploded.filter(col(\"json_str\").rlike(r\"^\\s*\\{.*\\}\\s*$\"))\n",
    "\n",
    "# 6. Parse into struct using schema\n",
    "df_parsed1 = df_valid.withColumn(\"parsed\", from_json(col(\"json_str\"), weather_schema)) \\\n",
    "                    .select(\"parsed.*\")\n",
    "\n",
    "# 7. Cast numeric columns to double safely\n",
    "numeric_cols = [\"maxtempC\",\"mintempC\",\"totalSnow_cm\",\"sunHour\",\"uvIndex\",\n",
    "                \"DewPointC\",\"FeelsLikeC\",\"HeatIndexC\",\"WindChillC\",\n",
    "                \"WindGustKmph\",\"cloudcover\",\"humidity\",\"precipMM\",\"pressure\",\n",
    "                \"tempC\",\"visibility\",\"winddirDegree\",\"windspeedKmph\"]\n",
    "\n",
    "for c in numeric_cols:\n",
    "    df_parsed1 = df_parsed1.withColumn(\n",
    "        c, when(col(c).rlike(r\"^\\d+(\\.\\d+)?$\"), col(c).cast(DoubleType())).otherwise(None)\n",
    "    )\n",
    "\n",
    "# Show results\n",
    "display(df_parsed1)\n",
    "df_parsed1.printSchema()\n",
    "print(\"Total records:\", df_parsed1.count())\n"
   ]
  },
  {
   "cell_type": "code",
   "execution_count": 0,
   "metadata": {
    "application/vnd.databricks.v1+cell": {
     "cellMetadata": {
      "byteLimit": 2048000,
      "rowLimit": 10000
     },
     "inputWidgets": {},
     "nuid": "6a18331f-6127-4b51-b789-74fd567aa655",
     "showTitle": false,
     "tableResultSettingsMap": {},
     "title": ""
    }
   },
   "outputs": [],
   "source": [
    "from pyspark.sql.functions import col\n",
    "\n",
    "df_merged = df_parsed.unionByName(df_parsed1, allowMissingColumns=True)\n",
    "display(df_merged)\n",
    "df_merged.printSchema()\n",
    "print(\"Total records:\", df_merged.count())"
   ]
  },
  {
   "cell_type": "code",
   "execution_count": 0,
   "metadata": {
    "application/vnd.databricks.v1+cell": {
     "cellMetadata": {
      "byteLimit": 2048000,
      "rowLimit": 10000
     },
     "inputWidgets": {},
     "nuid": "f2cfc1c8-e53d-4073-8637-a4d02f1e9d46",
     "showTitle": false,
     "tableResultSettingsMap": {},
     "title": ""
    }
   },
   "outputs": [],
   "source": [
    "df_merged.write.format(\"delta\").mode(\"overwrite\").saveAsTable(\"weather_catalog.raw.weather_bronze\")\n",
    "display(df_merged)\n"
   ]
  },
  {
   "cell_type": "code",
   "execution_count": 0,
   "metadata": {
    "application/vnd.databricks.v1+cell": {
     "cellMetadata": {
      "byteLimit": 2048000,
      "rowLimit": 10000
     },
     "inputWidgets": {},
     "nuid": "f68a8ecf-bea2-49bf-b214-bbd47c40b006",
     "showTitle": false,
     "tableResultSettingsMap": {},
     "title": ""
    }
   },
   "outputs": [],
   "source": [
    "df_merged.printSchema()"
   ]
  }
 ],
 "metadata": {
  "application/vnd.databricks.v1+notebook": {
   "computePreferences": null,
   "dashboards": [],
   "environmentMetadata": {
    "base_environment": "",
    "environment_version": "3"
   },
   "inputWidgetPreferences": null,
   "language": "python",
   "notebookMetadata": {
    "pythonIndentUnit": 4
   },
   "notebookName": "sireesha",
   "widgets": {}
  },
  "language_info": {
   "name": "python"
  }
 },
 "nbformat": 4,
 "nbformat_minor": 0
}
