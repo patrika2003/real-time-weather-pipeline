{
 "cells": [
  {
   "cell_type": "code",
   "execution_count": 0,
   "metadata": {
    "application/vnd.databricks.v1+cell": {
     "cellMetadata": {
      "byteLimit": 2048000,
      "rowLimit": 10000
     },
     "inputWidgets": {},
     "nuid": "b11b31cd-ec44-45ee-95d9-3fae11e8e3e5",
     "showTitle": false,
     "tableResultSettingsMap": {},
     "title": ""
    }
   },
   "outputs": [],
   "source": [
    "import requests\n",
    "\n",
    "# Get the secret securely from Databricks\n",
    "webhook_url = dbutils.secrets.get(scope=\"slack-secrets\", key=\"slack-webhook\")\n",
    "\n",
    "# Test message\n",
    "slack_message = {\"text\": \" Databricks alert test successful!\"}\n",
    "\n",
    "# Send request to Slack\n",
    "response = requests.post(webhook_url, json=slack_message)\n",
    "\n",
    "print(\"Status code:\", response.status_code)"
   ]
  },
  {
   "cell_type": "code",
   "execution_count": 0,
   "metadata": {
    "application/vnd.databricks.v1+cell": {
     "cellMetadata": {
      "byteLimit": 2048000,
      "rowLimit": 10000
     },
     "inputWidgets": {},
     "nuid": "846af27e-8741-48ab-bdf6-0c8261a1f7c9",
     "showTitle": false,
     "tableResultSettingsMap": {},
     "title": ""
    }
   },
   "outputs": [],
   "source": [
    "import requests\n",
    "import json\n",
    "import os\n",
    "\n",
    "def send_slack_message(message: str):\n",
    "    webhook_url = dbutils.secrets.get(\"slack-secrets\", \"slack-webhook\")\n",
    "    payload = {\"text\": message}\n",
    "    headers = {\"Content-Type\": \"application/json\"}\n",
    "    \n",
    "    response = requests.post(webhook_url, data=json.dumps(payload), headers=headers)\n",
    "    \n",
    "    if response.status_code != 200:\n",
    "        raise ValueError(f\"Slack API error {response.status_code}: {response.text}\")"
   ]
  }
 ],
 "metadata": {
  "application/vnd.databricks.v1+notebook": {
   "computePreferences": null,
   "dashboards": [],
   "environmentMetadata": {
    "base_environment": "",
    "environment_version": "3"
   },
   "inputWidgetPreferences": null,
   "language": "python",
   "notebookMetadata": {
    "pythonIndentUnit": 4
   },
   "notebookName": "Slack_utils",
   "widgets": {}
  },
  "language_info": {
   "name": "python"
  }
 },
 "nbformat": 4,
 "nbformat_minor": 0
}
