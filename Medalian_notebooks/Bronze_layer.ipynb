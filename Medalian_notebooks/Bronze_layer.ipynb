{
 "cells": [
  {
   "cell_type": "code",
   "execution_count": 0,
   "metadata": {
    "application/vnd.databricks.v1+cell": {
     "cellMetadata": {
      "byteLimit": 2048000,
      "rowLimit": 10000
     },
     "inputWidgets": {},
     "nuid": "3f35c998-cb51-4e20-a4bf-09a3985d2da0",
     "showTitle": false,
     "tableResultSettingsMap": {},
     "title": ""
    }
   },
   "outputs": [],
   "source": [
    "%run /Users/sireeshabyreddy96@gmail.com/real-time-weather-pipeline/Medalian_notebooks/Slack_utils"
   ]
  },
  {
   "cell_type": "code",
   "execution_count": 0,
   "metadata": {
    "application/vnd.databricks.v1+cell": {
     "cellMetadata": {
      "byteLimit": 2048000,
      "rowLimit": 10000
     },
     "inputWidgets": {},
     "nuid": "bd0c63cb-1ac3-4b35-9fbc-777b581023c9",
     "showTitle": false,
     "tableResultSettingsMap": {},
     "title": ""
    }
   },
   "outputs": [],
   "source": [
    "from pyspark.sql.functions import col, regexp_replace, split, explode, from_json, when\n",
    "from pyspark.sql.types import StructType, StructField, StringType, DoubleType\n",
    "import requests\n",
    "import json\n",
    "\n",
    "\n",
    "# -----------------------------\n",
    "path = \"s3://weather-streaming-proj-bucket/2025/08/22/04/*\"\n",
    "\n",
    "try:\n",
    "    # -----------------------------\n",
    "    # Step 1: Read S3 files\n",
    "    # -----------------------------\n",
    "    try:\n",
    "        df_raw = spark.read.text(path)\n",
    "    except Exception as s3_error:\n",
    "        send_slack_message(f\" Bronze Layer S3 Read Failed: {str(s3_error)}\")\n",
    "        raise s3_error  # stop pipeline immediately\n",
    "\n",
    "    # -----------------------------\n",
    "    # Step 2: Clean newlines\n",
    "    # -----------------------------\n",
    "    df_clean = df_raw.withColumn(\"value\", regexp_replace(col(\"value\"), r\"\\n\", \"\"))\n",
    "\n",
    "    # -----------------------------\n",
    "    # Step 3: Split concatenated JSON {...}{...} into array\n",
    "    # -----------------------------\n",
    "    df_split = df_clean.withColumn(\"json_str\", split(regexp_replace(col(\"value\"), r\"}\\{\", \"}|||{\"), r\"\\|\\|\\|\"))\n",
    "\n",
    "    # -----------------------------\n",
    "    # Step 4: Explode into rows\n",
    "    # -----------------------------\n",
    "    df_exploded = df_split.withColumn(\"json_str\", explode(col(\"json_str\")))\n",
    "\n",
    "    # -----------------------------\n",
    "    # Step 5: Keep only valid JSON-looking rows\n",
    "    # -----------------------------\n",
    "    df_valid = df_exploded.filter(col(\"json_str\").rlike(r\"^\\s*\\{.*\\}\\s*$\"))\n",
    "\n",
    "    # -----------------------------\n",
    "    # Step 6: Parse into structured columns\n",
    "    # -----------------------------\n",
    "    weather_schema = StructType([\n",
    "        StructField(\"date_time\", StringType(), True),\n",
    "        StructField(\"maxtempC\", StringType(), True),\n",
    "        StructField(\"mintempC\", StringType(), True),\n",
    "        StructField(\"totalSnow_cm\", StringType(), True),\n",
    "        StructField(\"sunHour\", StringType(), True),\n",
    "        StructField(\"uvIndex\", StringType(), True),\n",
    "        StructField(\"moon_illumination\", StringType(), True),\n",
    "        StructField(\"moonrise\", StringType(), True),\n",
    "        StructField(\"moonset\", StringType(), True),\n",
    "        StructField(\"sunrise\", StringType(), True),\n",
    "        StructField(\"sunset\", StringType(), True),\n",
    "        StructField(\"DewPointC\", StringType(), True),\n",
    "        StructField(\"FeelsLikeC\", StringType(), True),\n",
    "        StructField(\"HeatIndexC\", StringType(), True),\n",
    "        StructField(\"WindChillC\", StringType(), True),\n",
    "        StructField(\"WindGustKmph\", StringType(), True),\n",
    "        StructField(\"cloudcover\", StringType(), True),\n",
    "        StructField(\"humidity\", StringType(), True),\n",
    "        StructField(\"precipMM\", StringType(), True),\n",
    "        StructField(\"pressure\", StringType(), True),\n",
    "        StructField(\"tempC\", StringType(), True),\n",
    "        StructField(\"visibility\", StringType(), True),\n",
    "        StructField(\"winddirDegree\", StringType(), True),\n",
    "        StructField(\"windspeedKmph\", StringType(), True),\n",
    "        StructField(\"City\", StringType(), True)\n",
    "    ])\n",
    "\n",
    "    try:\n",
    "        df_parsed = df_valid.withColumn(\"parsed\", from_json(col(\"json_str\"), weather_schema)).select(\"parsed.*\")\n",
    "    except Exception as parse_error:\n",
    "        send_slack_message(f\" Bronze Layer JSON Parsing Failed: {str(parse_error)}\")\n",
    "        raise parse_error\n",
    "\n",
    "    # -----------------------------\n",
    "    # Step 7: Cast numeric columns safely\n",
    "    # -----------------------------\n",
    "    numeric_cols = [\"maxtempC\",\"mintempC\",\"totalSnow_cm\",\"sunHour\",\"uvIndex\",\n",
    "                    \"DewPointC\",\"FeelsLikeC\",\"HeatIndexC\",\"WindChillC\",\n",
    "                    \"WindGustKmph\",\"cloudcover\",\"humidity\",\"precipMM\",\"pressure\",\n",
    "                    \"tempC\",\"visibility\",\"winddirDegree\",\"windspeedKmph\"]\n",
    "\n",
    "    try:\n",
    "        for c in numeric_cols:\n",
    "            df_parsed = df_parsed.withColumn(\n",
    "                c, \n",
    "                when(col(c).rlike(r\"^\\d+(\\.\\d+)?$\"), col(c).cast(DoubleType())).otherwise(None)\n",
    "            )\n",
    "    except Exception as cast_error:\n",
    "        send_slack_message(f\" Bronze Layer Numeric Casting Failed: {str(cast_error)}\")\n",
    "        raise cast_error\n",
    "\n",
    "    # -----------------------------\n",
    "    # Step 8: Display and log\n",
    "    # -----------------------------\n",
    "    display(df_parsed)\n",
    "    df_parsed.printSchema()\n",
    "    total_records = df_parsed.count()\n",
    "    print(\"Total Bronze records:\", total_records)\n",
    "\n",
    "    # -----------------------------\n",
    "    # Step 9: Success notification\n",
    "    # -----------------------------\n",
    "    send_slack_message(f\" Bronze Layer Success: {total_records} records processed.\")\n",
    "\n",
    "except Exception as e:\n",
    "    # Catch any other unexpected errors\n",
    "    send_slack_message(f\" Bronze Layer Failed: {str(e)}\")\n",
    "    raise\n"
   ]
  },
  {
   "cell_type": "code",
   "execution_count": 0,
   "metadata": {
    "application/vnd.databricks.v1+cell": {
     "cellMetadata": {
      "byteLimit": 2048000,
      "rowLimit": 10000
     },
     "inputWidgets": {},
     "nuid": "6ba3ef79-5198-41f3-96c8-6de87cf1b339",
     "showTitle": false,
     "tableResultSettingsMap": {},
     "title": ""
    }
   },
   "outputs": [],
   "source": [
    "from pyspark.sql.functions import col, regexp_replace, split, explode, from_json, when\n",
    "from pyspark.sql.types import StructType, StructField, StringType, DoubleType\n",
    "import requests\n",
    "import json\n",
    "\n",
    "# -----------------------------\n",
    "\n",
    "\n",
    "path = \"s3://weather-streaming-proj-bucket/2025/08/22/01/*\"\n",
    "\n",
    "try:\n",
    "    # -----------------------------\n",
    "    # Step 1: Read raw files\n",
    "    # -----------------------------\n",
    "    try:\n",
    "        df_raw = spark.read.text(path)\n",
    "    except Exception as s3_error:\n",
    "        send_slack_message(f\" Bronze Layer S3 Read Failed: {str(s3_error)}\")\n",
    "        raise s3_error\n",
    "\n",
    "    # -----------------------------\n",
    "    # Step 2: Clean newlines\n",
    "    # -----------------------------\n",
    "    df_clean = df_raw.withColumn(\"value\", regexp_replace(col(\"value\"), r\"\\n\", \"\"))\n",
    "\n",
    "    # -----------------------------\n",
    "    # Step 3: Split concatenated JSON\n",
    "    # -----------------------------\n",
    "    df_split = df_clean.withColumn(\n",
    "        \"json_str\",\n",
    "        split(regexp_replace(col(\"value\"), r\"}\\{\", \"}|||{\"), r\"\\|\\|\\|\")\n",
    "    )\n",
    "\n",
    "    # -----------------------------\n",
    "    # Step 4: Explode rows\n",
    "    # -----------------------------\n",
    "    df_exploded = df_split.withColumn(\"json_str\", explode(col(\"json_str\")))\n",
    "\n",
    "    # -----------------------------\n",
    "    # Step 5: Keep valid JSON\n",
    "    # -----------------------------\n",
    "    df_valid = df_exploded.filter(col(\"json_str\").rlike(r\"^\\s*\\{.*\\}\\s*$\"))\n",
    "\n",
    "    # -----------------------------\n",
    "    # Step 6: Parse JSON using schema\n",
    "    # -----------------------------\n",
    "    try:\n",
    "        df_parsed1 = df_valid.withColumn(\"parsed\", from_json(col(\"json_str\"), weather_schema)).select(\"parsed.*\")\n",
    "    except Exception as parse_error:\n",
    "        send_slack_message(f\" Bronze Layer JSON Parsing Failed: {str(parse_error)}\")\n",
    "        raise parse_error\n",
    "\n",
    "    # -----------------------------\n",
    "    # Step 7: Cast numeric columns safely\n",
    "    # -----------------------------\n",
    "    numeric_cols = [\"maxtempC\",\"mintempC\",\"totalSnow_cm\",\"sunHour\",\"uvIndex\",\n",
    "                    \"DewPointC\",\"FeelsLikeC\",\"HeatIndexC\",\"WindChillC\",\n",
    "                    \"WindGustKmph\",\"cloudcover\",\"humidity\",\"precipMM\",\"pressure\",\n",
    "                    \"tempC\",\"visibility\",\"winddirDegree\",\"windspeedKmph\"]\n",
    "\n",
    "    try:\n",
    "        for c in numeric_cols:\n",
    "            df_parsed1 = df_parsed1.withColumn(\n",
    "                c, when(col(c).rlike(r\"^\\d+(\\.\\d+)?$\"), col(c).cast(DoubleType())).otherwise(None)\n",
    "            )\n",
    "    except Exception as cast_error:\n",
    "        send_slack_message(f\" Bronze Layer Numeric Casting Failed: {str(cast_error)}\")\n",
    "        raise cast_error\n",
    "\n",
    "    # -----------------------------\n",
    "    # Step 8: Show results\n",
    "    # -----------------------------\n",
    "    display(df_parsed1)\n",
    "    df_parsed1.printSchema()\n",
    "    total_records = df_parsed1.count()\n",
    "    print(\"Total Bronze records:\", total_records)\n",
    "\n",
    "    # -----------------------------\n",
    "    # Step 9: Slack success notification\n",
    "    # -----------------------------\n",
    "    send_slack_message(f\" Bronze Layer Success: {total_records} records processed.\")\n",
    "\n",
    "except Exception as e:\n",
    "    # Catch any unexpected errors\n",
    "    send_slack_message(f\" Bronze Layer Failed: {str(e)}\")\n",
    "    raise\n"
   ]
  },
  {
   "cell_type": "code",
   "execution_count": 0,
   "metadata": {
    "application/vnd.databricks.v1+cell": {
     "cellMetadata": {
      "byteLimit": 2048000,
      "rowLimit": 10000
     },
     "inputWidgets": {},
     "nuid": "6a18331f-6127-4b51-b789-74fd567aa655",
     "showTitle": false,
     "tableResultSettingsMap": {},
     "title": ""
    }
   },
   "outputs": [],
   "source": [
    "try:\n",
    "    df_merged = df_parsed.unionByName(df_parsed1, allowMissingColumns=True)\n",
    "    \n",
    "    # Display and log\n",
    "    display(df_merged)\n",
    "    df_merged.printSchema()\n",
    "    total_records = df_merged.count()\n",
    "    print(\"Total records after merge:\", total_records)\n",
    "    \n",
    "    # Slack success notification\n",
    "    send_slack_message(f\" Bronze Layer Merge Success: {total_records} total records.\")\n",
    "\n",
    "except Exception as merge_error:\n",
    "    send_slack_message(f\" Bronze Layer Merge Failed: {str(merge_error)}\")\n",
    "    raise merge_error\n"
   ]
  },
  {
   "cell_type": "code",
   "execution_count": 0,
   "metadata": {
    "application/vnd.databricks.v1+cell": {
     "cellMetadata": {
      "byteLimit": 2048000,
      "rowLimit": 10000
     },
     "inputWidgets": {},
     "nuid": "f2cfc1c8-e53d-4073-8637-a4d02f1e9d46",
     "showTitle": false,
     "tableResultSettingsMap": {},
     "title": ""
    }
   },
   "outputs": [],
   "source": [
    "try:\n",
    "    # Write merged DataFrame to Bronze Delta table\n",
    "    df_merged.write.format(\"delta\").mode(\"overwrite\").saveAsTable(\"weather_catalog.raw.weather_bronze\")\n",
    "    \n",
    "    # Display and count records\n",
    "    display(df_merged)\n",
    "    total_records = df_merged.count()\n",
    "    print(\"Total records written to Bronze table:\", total_records)\n",
    "    \n",
    "    # Slack notification for successful write\n",
    "    send_slack_message(f\" Bronze Layer Written Successfully: {total_records} records in weather_catalog.raw.weather_bronze.\")\n",
    "\n",
    "except Exception as write_error:\n",
    "    # Slack notification for write failure\n",
    "    send_slack_message(f\" Bronze Layer Write Failed: {str(write_error)}\")\n",
    "    raise write_error\n"
   ]
  },
  {
   "cell_type": "code",
   "execution_count": 0,
   "metadata": {
    "application/vnd.databricks.v1+cell": {
     "cellMetadata": {
      "byteLimit": 2048000,
      "rowLimit": 10000
     },
     "inputWidgets": {},
     "nuid": "f68a8ecf-bea2-49bf-b214-bbd47c40b006",
     "showTitle": false,
     "tableResultSettingsMap": {},
     "title": ""
    }
   },
   "outputs": [],
   "source": [
    "df_merged.printSchema()"
   ]
  }
 ],
 "metadata": {
  "application/vnd.databricks.v1+notebook": {
   "computePreferences": null,
   "dashboards": [],
   "environmentMetadata": {
    "base_environment": "",
    "environment_version": "3"
   },
   "inputWidgetPreferences": null,
   "language": "python",
   "notebookMetadata": {
    "pythonIndentUnit": 4
   },
   "notebookName": "Bronze_layer",
   "widgets": {}
  },
  "language_info": {
   "name": "python"
  }
 },
 "nbformat": 4,
 "nbformat_minor": 0
}
